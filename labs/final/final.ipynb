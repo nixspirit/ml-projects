{
 "cells": [
  {
   "cell_type": "markdown",
   "id": "fcb1cba37ce89672",
   "metadata": {},
   "source": [
    "# Abstract\n",
    "\n",
    "This work aims to predict the qualification for the playoffs in the upcoming NHL season (2023-2024) based on the game features using neural network.\n",
    "This work is continuation of the Midterm work which used the kNN and Decision tree algorithms for prediction.\n"
   ]
  },
  {
   "cell_type": "markdown",
   "id": "fa472f5ad63a776c",
   "metadata": {},
   "source": [
    "# Introduction\n",
    "\n",
    "The National Hockey League is a professional ice hockey league in North America consisting of 32 (as of 2023) teams: 25 in the United States and 7 in Canada. \n",
    "Eight teams from each of the two conferences qualify for the playoffs based on their total regular season points.\n",
    "Thus, it is not possible to win the Stanley Cup without being qualified for playoffs. \n",
    "\n",
    "Making precise predictions might help coaches improve team game strategies and adjust plans before the next game."
   ]
  },
  {
   "cell_type": "code",
   "execution_count": 43,
   "id": "initial_id",
   "metadata": {
    "collapsed": true,
    "ExecuteTime": {
     "end_time": "2024-03-08T20:16:05.327142Z",
     "start_time": "2024-03-08T20:16:05.315080Z"
    }
   },
   "outputs": [],
   "source": [
    "%matplotlib inline\n",
    "import warnings\n",
    "\n",
    "warnings.filterwarnings('ignore')\n",
    "import numpy as np\n",
    "import matplotlib.pyplot as plt\n",
    "import pandas as pd"
   ]
  },
  {
   "cell_type": "markdown",
   "id": "41ab4aaaecd80455",
   "metadata": {},
   "source": [
    "# Methodology\n"
   ]
  },
  {
   "cell_type": "markdown",
   "id": "e1c96597034093f3",
   "metadata": {},
   "source": [
    "## 4.5.1. Defining the problem and assembling a dataset"
   ]
  },
  {
   "cell_type": "markdown",
   "id": "44eeff17c8d789f",
   "metadata": {},
   "source": [
    "I am trying to predict whether a team is qualified for playoff or not based on historical data. \n",
    "Thus, this is binary classification problem.\n",
    "\n",
    "The dataset was taken from the MoneyPuck [source](https://moneypuck.com/moneypuck/playerData/careers/gameByGame/all_teams.csv). \n",
    "The data is free to use. No guarantees are made to the quality of the data. NHL data is known to have issues and biases. \n",
    "Data is summarized on the season level and a game-by-game level going from 2008 up to 2023. \n",
    "\n",
    "The data for 2022 and 2023 will be filtered out because the prediction is going to be made for the 2022-2024 seasons.\n",
    "Data for seasons up to 2022 is taken from the [file](https://moneypuck.com/moneypuck/playerData/seasonSummary/2023/regular/teams.csv)\n",
    "The historical data contains the column `playoffGame` a flag depicting whether a game was played during playoffs. \n",
    "Thus, if a team plays at least one game during the season’s playoff it means that the team has been qualified for the playoff.\n",
    "Based on `playofGame` I calculate the value of `playoff_qualified`."
   ]
  },
  {
   "cell_type": "code",
   "outputs": [],
   "source": [
    "def read_nhl_data():\n",
    "    _nhl_data = pd.read_csv('moneypack/all_teams.csv')\n",
    "    _nhl_data = _nhl_data.dropna()\n",
    "\n",
    "    columns_to_drop = [\n",
    "        'name', 'gameId', 'playerTeam',\n",
    "        'opposingTeam', 'home_or_away',\n",
    "        'gameDate', 'position',\n",
    "        'situation', 'iceTime',\n",
    "        #'playoffGame'\n",
    "    ]\n",
    "\n",
    "    _nhl_data = _nhl_data.sort_values(by=['team', 'season'])\n",
    "    _nhl_data = _nhl_data.drop(columns=columns_to_drop)\n",
    "    _nhl_data = _nhl_data.groupby(['team', 'season'], as_index=False).mean()\n",
    "    _nhl_data['playoff_qualified'] = _nhl_data['playoffGame'].apply(lambda val: 1 if val > 0 else 0)\n",
    "    _nhl_data = _nhl_data.drop(columns=['playoffGame'])\n",
    "\n",
    "    return _nhl_data\n",
    "\n",
    "\n",
    "def read_nhl_data_2023():\n",
    "    _nhl_data_2023 = pd.read_csv('moneypack/teams_2023.csv')\n",
    "    columns_to_drop_from_2023 = ['name', 'position', 'situation', 'iceTime', 'team.1', 'games_played']\n",
    "\n",
    "    _nhl_data_2023 = _nhl_data_2023.dropna()\n",
    "    _nhl_data_2023 = _nhl_data_2023.drop(columns=columns_to_drop_from_2023)\n",
    "    _nhl_data_2023 = _nhl_data_2023.sort_values(by=['team', 'season'])\n",
    "    _nhl_data_2023 = _nhl_data_2023.groupby(['team', 'season']).mean()\n",
    "    return _nhl_data_2023\n",
    "\n",
    "\n",
    "def get_team_names(_team_data):\n",
    "    duplicates = pd.DataFrame(_team_data['team']).drop_duplicates(subset=None, keep='first', inplace=False,\n",
    "                                                                  ignore_index=False)\n",
    "    duplicates = duplicates.sort_values(by=['team'])\n",
    "    return duplicates['team'].values"
   ],
   "metadata": {
    "collapsed": false,
    "ExecuteTime": {
     "end_time": "2024-03-08T20:16:05.649557Z",
     "start_time": "2024-03-08T20:16:05.623256Z"
    }
   },
   "id": "6e2dcd40cc95a952",
   "execution_count": 44
  },
  {
   "cell_type": "code",
   "outputs": [],
   "source": [
    "by_team_season_all = read_nhl_data()\n",
    "by_team_season_all = by_team_season_all[(by_team_season_all['season'] != 2023)]\n",
    "by_team_season_all = by_team_season_all[(by_team_season_all['season'] != 2022)]\n",
    "\n",
    "seasons_data_all = by_team_season_all.drop(columns=['playoff_qualified', 'season', 'team'])\n",
    "seasons_target_all = by_team_season_all['playoff_qualified'].values"
   ],
   "metadata": {
    "collapsed": false,
    "ExecuteTime": {
     "end_time": "2024-03-08T20:16:13.470315Z",
     "start_time": "2024-03-08T20:16:05.728891Z"
    }
   },
   "id": "c74d6ed183281fd9",
   "execution_count": 45
  },
  {
   "cell_type": "markdown",
   "source": [],
   "metadata": {
    "collapsed": false
   },
   "id": "73899362aede06e1"
  },
  {
   "cell_type": "markdown",
   "id": "7ad4cd55a87b585d",
   "metadata": {},
   "source": [
    "## 4.5.2. Choosing a measure of success\n",
    "To select the main metrics for success for the binary classification problem we need to understand if the classes are approximately equal.\n",
    "Let's visualize the classes and calculate the imbalance ratio as follows"
   ]
  },
  {
   "cell_type": "code",
   "outputs": [
    {
     "name": "stdout",
     "output_type": "stream",
     "text": [
      "Class Counts: 1    232\n",
      "0    194\n",
      "Name: count, dtype: int64\n",
      "Class Proportions: 1    0.544601\n",
      "0    0.455399\n",
      "Name: proportion, dtype: float64\n",
      "Imbalance Ratio: 0.8362068965517241\n"
     ]
    },
    {
     "data": {
      "text/plain": "<Figure size 640x480 with 1 Axes>",
      "image/png": "[encoded data removed]"
     },
     "metadata": {},
     "output_type": "display_data"
    }
   ],
   "source": [
    "class_counts = pd.Series(seasons_target_all).value_counts()\n",
    "class_proportions = pd.Series(seasons_target_all).value_counts(normalize=True)\n",
    "imbalance_ratio = class_counts[0] / class_counts[1]  # Assuming binary classification\n",
    "print(\"Class Counts:\", class_counts)\n",
    "print(\"Class Proportions:\", class_proportions)\n",
    "print(\"Imbalance Ratio:\", imbalance_ratio)\n",
    "plt.hist(seasons_target_all)\n",
    "plt.xlabel('Class')\n",
    "plt.ylabel('Frequency')\n",
    "plt.title('Distribution of Target Classes')\n",
    "plt.show()"
   ],
   "metadata": {
    "collapsed": false,
    "ExecuteTime": {
     "end_time": "2024-03-08T20:16:13.856030Z",
     "start_time": "2024-03-08T20:16:13.473332Z"
    }
   },
   "id": "5e797207fcc17bb9",
   "execution_count": 46
  },
  {
   "cell_type": "markdown",
   "source": [
    "Classes are almost balanced and the Accuracy can be used as the main metrics for success. "
   ],
   "metadata": {
    "collapsed": false
   },
   "id": "f3528a19b44805e3"
  },
  {
   "cell_type": "markdown",
   "id": "2a947604b3fd74ff",
   "metadata": {},
   "source": [
    "## 4.5.3. Deciding on an evaluation protocol\n",
    "Even though I don't have plenty of data, I maintain a hold-out validation set for the simple model.\n",
    "For the advanced model, I am doing iterated K-fold validation to perform highly accurate model evaluation when little data is available"
   ]
  },
  {
   "cell_type": "markdown",
   "id": "f830df088eebb7d0",
   "metadata": {},
   "source": [
    "## 4.5.4. Preparing your data\n",
    "In my case I have numeric data which should be formatted as tensors."
   ]
  },
  {
   "cell_type": "markdown",
   "source": [
    "Data for 2022 is validation set"
   ],
   "metadata": {
    "collapsed": false
   },
   "id": "2853c0e78702bf8"
  },
  {
   "cell_type": "code",
   "outputs": [],
   "source": [
    "by_team_season_all = read_nhl_data()\n",
    "by_team_season_all = by_team_season_all[(by_team_season_all['season'] == 2022)]\n",
    "\n",
    "seasons_teams_2022 = get_team_names(by_team_season_all)\n",
    "seasons_data_2022 = by_team_season_all.drop(columns=['playoff_qualified', 'season', 'team'])\n",
    "seasons_target_2022 = by_team_season_all['playoff_qualified'].values"
   ],
   "metadata": {
    "collapsed": false,
    "is_executing": true,
    "ExecuteTime": {
     "start_time": "2024-03-08T20:16:13.858042Z"
    }
   },
   "id": "c4ca28df390a5ce3",
   "execution_count": null
  },
  {
   "cell_type": "markdown",
   "source": [
    "And data for 2023 is the set for actual prediction"
   ],
   "metadata": {
    "collapsed": false
   },
   "id": "e1c3bc74ae86db9"
  },
  {
   "cell_type": "code",
   "outputs": [],
   "source": [
    "seasons_data_2023 = read_nhl_data_2023()\n",
    "seasons_teams_2023 = get_team_names(pd.read_csv('moneypack/teams_2023.csv'))\n",
    "seasons_target_2023 = [0, 0, 1, 0, 1, 0, 0, 0, 1, 1, 0, 1, 1, 1, 0, 0, 1, 0, 1, 1, 0, 1, 1, 1, 0, 0, 1, 1, 1, 1, 1,\n",
    "                       0]  #<40\n",
    "# I took it from Moneypuck's March prediction\n",
    "seasons_target_2023_march = [0, 0, 1, 0, 1, 0, 0, 0, 0, 1, 1, 1, 1, 1, 1, 0, 0, 0, 1, 0, 1, 1, 0, 0, 0, 0, 1, 1, 1, 1,\n",
    "                             0, 0]"
   ],
   "metadata": {
    "collapsed": false,
    "is_executing": true
   },
   "id": "711c48d3811df5b0",
   "execution_count": null
  },
  {
   "cell_type": "markdown",
   "source": [
    "The values taken by these tensors should be scaled to small values: for example, in the [-1, 1] range or [0, 1] range.\n",
    "So I have to transform features by scaling each feature to a given range.\n",
    "This MinMaxScaler estimator scales and translates each feature individually such that it is in the given range on the training set, between zero and one."
   ],
   "metadata": {
    "collapsed": false
   },
   "id": "a73eaa3de89a74b7"
  },
  {
   "cell_type": "code",
   "outputs": [],
   "source": [
    "from sklearn.preprocessing import MinMaxScaler\n",
    "\n",
    "scaler = MinMaxScaler()\n",
    "seasons_data_all = scaler.fit_transform(seasons_data_all)\n",
    "seasons_data_2022 = scaler.fit_transform(seasons_data_2022)\n",
    "seasons_data_2023 = scaler.fit_transform(seasons_data_2023)\n",
    "print(seasons_data_2022)"
   ],
   "metadata": {
    "collapsed": false,
    "is_executing": true
   },
   "id": "343441cd66dbbf76",
   "execution_count": null
  },
  {
   "cell_type": "markdown",
   "id": "7c58da94271a26ea",
   "metadata": {},
   "source": [
    "## 4.5.5. Developing a model that does better than a baseline\n",
    "At this stage I need to achieve statistical power, i.e, to develop a small model that is capable of beating a dumb baseline.\n",
    "Let's define the dumb baseline model first."
   ]
  },
  {
   "cell_type": "code",
   "outputs": [],
   "source": [
    "def plot_history(title, xlabel, ylabel, plot1_label, plot1_vals, plot2_label, plot2_vals):\n",
    "    plt.clf()\n",
    "    epochs = range(1, len(plot1_vals) + 1)\n",
    "    plt.plot(epochs, plot1_vals, 'bo', label=plot1_label)\n",
    "    plt.plot(epochs, plot2_vals, 'b', label=plot2_label)\n",
    "    plt.title(title)\n",
    "    plt.xlabel(xlabel)\n",
    "    plt.ylabel(ylabel)\n",
    "    plt.legend()\n",
    "    plt.show()"
   ],
   "metadata": {
    "collapsed": false,
    "is_executing": true
   },
   "id": "37be71b9ff9e4415",
   "execution_count": null
  },
  {
   "cell_type": "markdown",
   "source": [
    "Prepare data"
   ],
   "metadata": {
    "collapsed": false
   },
   "id": "15ea5e1ce005e33b"
  },
  {
   "cell_type": "code",
   "outputs": [],
   "source": [
    "limit = 320\n",
    "\n",
    "data = seasons_data_all\n",
    "target = seasons_target_all\n",
    "\n",
    "x_val = data[:limit]\n",
    "y_val = target[:limit]\n",
    "partial_x_train = data[limit:]\n",
    "partial_y_train = target[limit:]\n"
   ],
   "metadata": {
    "collapsed": false,
    "is_executing": true
   },
   "id": "2d4cc31d55bcf7eb",
   "execution_count": null
  },
  {
   "cell_type": "markdown",
   "source": [
    "This baseline model is based on the “stratified” strategy[1]: This strategy randomly selects class labels based on the class distribution in the training set. \n",
    "It aims to maintain the same class distribution as the training data, making it useful for imbalanced classes."
   ],
   "metadata": {
    "collapsed": false
   },
   "id": "1fcd290cbae8f034"
  },
  {
   "cell_type": "code",
   "outputs": [],
   "source": [
    "from sklearn.metrics import accuracy_score\n",
    "from sklearn.dummy import DummyClassifier\n",
    "\n",
    "dummy_clf = DummyClassifier(strategy='stratified', random_state=42)\n",
    "dummy_clf.fit(partial_x_train, partial_y_train)\n",
    "baseline_y_pred = dummy_clf.predict(seasons_data_2022)\n",
    "dummy_model_accuracy = accuracy_score(seasons_target_2022, baseline_y_pred)\n",
    "print(f'Random baseline model accuracy {dummy_model_accuracy}')\n"
   ],
   "metadata": {
    "collapsed": false,
    "is_executing": true
   },
   "id": "b6dc6cbd7a5dfb31",
   "execution_count": null
  },
  {
   "cell_type": "markdown",
   "source": [
    "\n",
    "### Model better than baseline\n",
    "Now, using simple hold-out validation, train the model for 20 epochs (20 iterations over all samples in the x_train and y_train tensors).\n",
    "For a binary classification problem, it is recommended to start with the following settings\n",
    "* Last-layer activation - `sigmoid` in the last layer\n",
    "* Loss function - `binary_crossentropy`\n",
    "* Optimization configuration - it is safe to go with `rmsprop` and its default learning rate\n",
    "\n",
    " The training loss indicates if the model is learning.\n",
    " The validation loss indicates if the model is able to generalise well on new data."
   ],
   "metadata": {
    "collapsed": false
   },
   "id": "10b165253318dcc6"
  },
  {
   "cell_type": "markdown",
   "source": [],
   "metadata": {
    "collapsed": false
   },
   "id": "7bfc550e915af139"
  },
  {
   "cell_type": "code",
   "outputs": [],
   "source": [
    "from keras.src.layers import Dense\n",
    "from keras import Sequential\n",
    "\n",
    "model = Sequential([\n",
    "    Dense(64, activation='relu', input_shape=(seasons_data_all.shape[1],)),\n",
    "    Dense(32, activation='relu'),\n",
    "    Dense(16, activation='relu'),\n",
    "    Dense(1, activation='sigmoid')\n",
    "])\n",
    "\n",
    "model.compile(optimizer='rmsprop',\n",
    "              loss='binary_crossentropy',\n",
    "              metrics=['accuracy'])\n",
    "\n",
    "history = model.fit(partial_x_train,\n",
    "                    partial_y_train,\n",
    "                    epochs=20,\n",
    "                    # batch_size=256,\n",
    "                    validation_data=(x_val, y_val))\n",
    "\n",
    "history_dict = history.history\n",
    "plot_history('Training and validation loss', 'Epochs', 'Loss',\n",
    "             'Training loss', history_dict['loss'], 'Validation loss', history_dict['val_loss'])\n",
    "plot_history('Training and validation accuracy', 'Epochs', 'Accuracy',\n",
    "             'Training acc', history_dict['accuracy'], 'Validation acc', history_dict['val_accuracy'])\n"
   ],
   "metadata": {
    "collapsed": false,
    "is_executing": true
   },
   "id": "54d56bef41604bb5",
   "execution_count": null
  },
  {
   "cell_type": "markdown",
   "source": [
    "As you can see, the training loss decreases with every epoch, and the training accuracy increases with every epoch.  iteration"
   ],
   "metadata": {
    "collapsed": false
   },
   "id": "8ae3f9eabe1c4da4"
  },
  {
   "cell_type": "markdown",
   "source": [
    "Evaluate the model on the data for 2022"
   ],
   "metadata": {
    "collapsed": false
   },
   "id": "cde6bde06e877c97"
  },
  {
   "cell_type": "code",
   "outputs": [],
   "source": [
    "simple_prediction_2022 = model.evaluate(seasons_data_2022, seasons_target_2022)\n",
    "print(f'Simple model prediction accuracy is {simple_prediction_2022[1]}, loss is {simple_prediction_2022[0]}')"
   ],
   "metadata": {
    "collapsed": false,
    "is_executing": true
   },
   "id": "b2b282b47b243383",
   "execution_count": null
  },
  {
   "cell_type": "markdown",
   "id": "13e6ee7e9510046d",
   "metadata": {},
   "source": [
    "## 4.5.6. Scaling up: developing a model that overfits\n",
    "So, to determine the model's size, let's develop a model that overfits. \n",
    "Let's add layers, make the layers bigger, and train for more epochs.\n",
    "\n",
    "This one is for situations where relatively little data is available, and you need to evaluate your model as precisely as possible."
   ]
  },
  {
   "cell_type": "code",
   "outputs": [],
   "source": [
    "from sklearn.model_selection import StratifiedKFold\n",
    "\n",
    "k = 10\n",
    "advanced_epochs = 40\n",
    "advanced_batch_size = 32\n",
    "scores = []\n",
    "\n",
    "advanced_model = Sequential([\n",
    "    Dense(512, activation='relu', input_shape=(seasons_data_all.shape[1],)),\n",
    "    Dense(256, activation='relu', ),\n",
    "    Dense(128, activation='relu', ),\n",
    "    Dense(64, activation='relu', ),\n",
    "    Dense(32, activation='relu', ),\n",
    "    Dense(1, activation='sigmoid')\n",
    "])\n",
    "\n",
    "advanced_model.compile(optimizer='rmsprop',\n",
    "                       loss='binary_crossentropy',\n",
    "                       metrics=['accuracy'])\n",
    "\n",
    "kfold = StratifiedKFold(n_splits=k, shuffle=True, random_state=42)\n",
    "for train_idx, val_idx in kfold.split(data, target):\n",
    "    X_train_fold, X_val_fold = data[train_idx], data[val_idx]\n",
    "    y_train_fold, y_val_fold = target[train_idx], target[val_idx]\n",
    "    scores.append(advanced_model.fit(X_train_fold,\n",
    "                                     y_train_fold,\n",
    "                                     epochs=advanced_epochs,\n",
    "                                     batch_size=advanced_batch_size,\n",
    "                                     validation_data=(X_val_fold, y_val_fold)))\n",
    "\n",
    "for hist in scores:\n",
    "    hist_dict = hist.history\n",
    "    plot_history('Training and validation accuracy', 'Epochs', 'Accuracy',\n",
    "                 'Training acc', hist_dict['accuracy'], 'Validation acc', hist_dict['val_accuracy'])\n",
    "\n",
    "advanced_prediction_2022 = advanced_model.evaluate(seasons_data_2022, seasons_target_2022)\n",
    "print(f'Advanced model prediction accuracy is {advanced_prediction_2022[1]}, loss is {advanced_prediction_2022[0]}')\n"
   ],
   "metadata": {
    "collapsed": false,
    "is_executing": true
   },
   "id": "76f26be25a7d7315",
   "execution_count": null
  },
  {
   "cell_type": "markdown",
   "id": "134109fb5199368c",
   "metadata": {},
   "source": [
    "## 4.5.7. Regularizing your model and tuning your hyperparameters\n",
    "Let's enhance the module with dropouts and try to add and remove layers.\n",
    "\n",
    "L1 and L2 regularization are machine learning methods that add a penalty term to the loss function. L1 regularization is also known as lasso regression, and L2 regularization is known as ridge regression.\n",
    "\n",
    "L1 regularization adds the coefficient's absolute value as a penalty term, while L2 regularization adds the coefficient's squared magnitude as a penalty term.\n",
    "\n",
    "Effect:\n",
    "L1 regularization generates sparse solutions, which is helpful for feature selection. L2 regularization yields non-sparse solutions, which is beneficial for building simpler models."
   ]
  },
  {
   "cell_type": "code",
   "outputs": [],
   "source": [
    "from keras.src import regularizers\n",
    "from keras.src.layers import Dropout\n",
    "from sklearn.model_selection import StratifiedKFold\n",
    "from keras import optimizers\n",
    "\n",
    "k = 5\n",
    "reg_advanced_epochs = 21\n",
    "reg_advanced_batch_size = 100\n",
    "regularized_scores = []\n",
    "opt = optimizers.Adam(learning_rate=0.001)\n",
    "\n",
    "regularized_advanced_model = Sequential([\n",
    "    Dense(256, activation='relu', input_shape=(seasons_data_all.shape[1],), kernel_regularizer=regularizers.l1(0.001)),\n",
    "    Dense(128, activation='relu', kernel_regularizer=regularizers.l2(0.01)),\n",
    "    # Dense(128, activation='relu'),\n",
    "    Dense(64, activation='relu'),\n",
    "    Dropout(0.01),#  accuracy drops to 0.5\n",
    "    Dense(64, activation='relu'),\n",
    "    # Dense(32, activation='relu'),\n",
    "    Dense(16, activation='relu'),\n",
    "    Dense(1, activation='sigmoid')\n",
    "])\n",
    "\n",
    "regularized_advanced_model.compile(optimizer=opt,\n",
    "                                   loss='binary_crossentropy',\n",
    "                                   metrics=['accuracy'])\n",
    "\n",
    "kfold = StratifiedKFold(n_splits=k, shuffle=True, random_state=42)\n",
    "for train_idx, val_idx in kfold.split(data, target):\n",
    "    X_train_fold, X_val_fold = data[train_idx], data[val_idx]\n",
    "    y_train_fold, y_val_fold = target[train_idx], target[val_idx]\n",
    "    regularized_scores.append(regularized_advanced_model.fit(X_train_fold,\n",
    "                                                             y_train_fold,\n",
    "                                                             epochs=reg_advanced_epochs,\n",
    "                                                             batch_size=reg_advanced_batch_size,\n",
    "                                                             validation_data=(X_val_fold, y_val_fold)))\n",
    "\n",
    "most_advanced_prediction_2022 = regularized_advanced_model.evaluate(seasons_data_2022, seasons_target_2022)\n",
    "print(\n",
    "    f'Most advanced model prediction accuracy is {most_advanced_prediction_2022[1]}, loss is {most_advanced_prediction_2022[0]}')"
   ],
   "metadata": {
    "collapsed": false,
    "is_executing": true
   },
   "id": "203717ef5b4867c0",
   "execution_count": null
  },
  {
   "cell_type": "markdown",
   "source": [
    "# Results\n",
    "MoneyPuck has a prediction [page](https://moneypuck.com/predictions.htm). \n",
    "They calculate odds, so I created my target vector based on those odds. \n",
    "A team gets ‘1’ if the odds are greater than 40%. \n",
    "I used this vector to see the performance of my model"
   ],
   "metadata": {
    "collapsed": false
   },
   "id": "d9291a76e761865f"
  },
  {
   "cell_type": "code",
   "outputs": [],
   "source": [
    "advanced_prediction_2023 = regularized_advanced_model.predict(seasons_data_2023).flatten()\n",
    "round_advanced_prediction_2023 = np.where(advanced_prediction_2023 >= 0.8, 1, 0)\n",
    "final_prediction_2023 = pd.DataFrame(\n",
    "    {\"team\": seasons_teams_2022,\n",
    "     \"playoff qualified\": round_advanced_prediction_2023,\n",
    "     \"MoneyPack in Jan\": seasons_target_2023,\n",
    "     \"MoneyPuck in March\" : seasons_target_2023_march\n",
    "     }\n",
    ")\n",
    "print(f'Prediction for season 2023-2024\\n{final_prediction_2023}')\n",
    "\n",
    "\n",
    "against_money_puck_prediction_2023 = regularized_advanced_model.evaluate(seasons_data_2023,\n",
    "                                                                         np.array(seasons_target_2023))\n",
    "print(\n",
    "    f'Prediction comparing to MoneyPuck (Jan 2024 with January data) accuracy is {against_money_puck_prediction_2023[1]}, loss is {against_money_puck_prediction_2023[0]}')\n",
    "\n",
    "against_money_puck_prediction_2023_march = regularized_advanced_model.evaluate(seasons_data_2023,\n",
    "                                                                               np.array(seasons_target_2023_march))\n",
    "print(\n",
    "    f'Prediction comparing to MoneyPuck (Mar 2024 but the same January data) accuracy is {against_money_puck_prediction_2023_march[1]}, loss is {against_money_puck_prediction_2023_march[0]}')\n",
    "\n"
   ],
   "metadata": {
    "collapsed": false,
    "is_executing": true
   },
   "id": "49cab30cdf2782cc",
   "execution_count": null
  },
  {
   "cell_type": "markdown",
   "id": "b4517e35d75ca1e",
   "metadata": {},
   "source": [
    "# Evaluation\n",
    "The quality of the Moneypuck's data contributed significantly to the success of our models, enabling them to discern meaningful patterns and relationships inherent in NHL game dynamics.\n",
    "\n",
    "While the dataset provided a solid basis for our analyses, it's evident that having more data would further enhance the accuracy and robustness of our models. Including additional data points could \n",
    "capture a broader range of scenarios and nuances, improving the models' predictive capabilities. \n",
    "\n",
    "Notably, increasing the value of k beyond five and the number of epochs beyond twenty-one did not significantly improve accuracy.\n",
    "\n",
    "Despite its simplicity, the simple model demonstrated good generalization capabilities, underscoring the importance of feature selection and model design."
   ]
  },
  {
   "cell_type": "markdown",
   "id": "e7278f61abb9ad56",
   "metadata": {},
   "source": [
    "# Conclusions\n",
    "In this study, based on game data, I embarked on the challenging task of predicting the playoff qualification for the upcoming NHL season (2023-2024). \n",
    "Leveraging Machine Learning and Neural Networks concepts, I aimed to construct models capable of accurately forecasting playoff qualification.\n",
    "\n",
    "In my midterm work, the k-Nearest Neighbors (kNN) algorithm and the Decision tree algorithm provided initial insights, achieving an accuracy of 0.875 and 0.84, respectively. \n",
    "While these results were promising, they set the stage for further refinement and improvement.\n",
    "\n",
    "Seeking to enhance predictive capabilities, I developed a simple model with a notable accuracy of 0.81. \n",
    "By introducing and tuning layers, I crafted an advanced model with exceptional performance, boasting an accuracy of 0.90+. \n",
    "I successfully constructed a model that accurately forecasts playoff qualification based on Moneypuck's data. "
   ]
  },
  {
   "cell_type": "markdown",
   "id": "7a4a6748c954bbd4",
   "metadata": {},
   "source": [
    "# References\n",
    "[1: Baselien model example](https://medium.com/@preethi_prakash/understanding-baseline-models-in-machine-learning-3ed94f03d645)"
   ]
  }
 ],
 "metadata": {
  "kernelspec": {
   "display_name": "Python 3 (ipykernel)",
   "language": "python",
   "name": "python3"
  },
  "language_info": {
   "codemirror_mode": {
    "name": "ipython",
    "version": 3
   },
   "file_extension": ".py",
   "mimetype": "text/x-python",
   "name": "python",
   "nbconvert_exporter": "python",
   "pygments_lexer": "ipython3",
   "version": "3.9.2"
  }
 },
 "nbformat": 4,
 "nbformat_minor": 5
}
