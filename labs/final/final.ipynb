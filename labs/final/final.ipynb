{
 "cells": [
  {
   "cell_type": "markdown",
   "id": "fcb1cba37ce89672",
   "metadata": {},
   "source": [
    "# Abstract\n",
    "\n",
    "This work aims to predict the qualification for the playoffs in the upcoming NHL season (2023-2024) based on the game features using neural network.\n",
    "This work is continuation of the Midterm work which used the kNN and Decision tree algorithms for prediction.\n"
   ]
  },
  {
   "cell_type": "markdown",
   "id": "fa472f5ad63a776c",
   "metadata": {},
   "source": [
    "# Introduction\n",
    "\n",
    "The National Hockey League is a professional ice hockey league in North America consisting of 32 (as of 2023) teams: 25 in the United States and 7 in Canada. \n",
    "Eight teams from each of the two conferences qualify for the playoffs based on their total regular season points.\n",
    "Thus, it is not possible to win the Stanley Cup without being qualified for playoffs. \n",
    "\n",
    "Making precise predictions might help coaches improve team game strategies and adjust plans before the next game.\n",
    "\n",
    "The dataset was taken from the MoneyPuck [source](https://moneypuck.com/moneypuck/playerData/careers/gameByGame/all_teams.csv). \n",
    "The data is free to use. No guarantees are made to the quality of the data. NHL data is known to have issues and biases. \n",
    "Data is summarized on the season level and a game-by-game level going from 2008 up to 2023. \n",
    "The data for 2022 and 2023 will be filtered out because the prediction is going to be made for the 2022-2024 seasons \n",
    "and data for seasons up to 2022 is taken from the [file](https://moneypuck.com/moneypuck/playerData/seasonSummary/2023/regular/teams.csv)\n",
    "\n"
   ]
  },
  {
   "cell_type": "code",
   "execution_count": 949,
   "id": "initial_id",
   "metadata": {
    "collapsed": true,
    "ExecuteTime": {
     "end_time": "2024-02-29T18:52:03.951401Z",
     "start_time": "2024-02-29T18:52:03.934027Z"
    }
   },
   "outputs": [],
   "source": [
    "%matplotlib inline\n",
    "import warnings\n",
    "\n",
    "warnings.filterwarnings('ignore')\n",
    "import numpy as np\n",
    "import matplotlib.pyplot as plt\n",
    "import pandas as pd\n",
    "\n",
    "from keras import models\n",
    "from keras import layers"
   ]
  },
  {
   "cell_type": "markdown",
   "id": "41ab4aaaecd80455",
   "metadata": {},
   "source": [
    "# Methodology\n"
   ]
  },
  {
   "cell_type": "code",
   "execution_count": 949,
   "id": "b521ba8fd094409a",
   "metadata": {
    "ExecuteTime": {
     "end_time": "2024-02-29T18:52:04.363835Z",
     "start_time": "2024-02-29T18:52:04.358464Z"
    }
   },
   "outputs": [],
   "source": []
  },
  {
   "cell_type": "markdown",
   "id": "e1c96597034093f3",
   "metadata": {},
   "source": [
    "## 4.5.1. Defining the problem and assembling a dataset"
   ]
  },
  {
   "cell_type": "markdown",
   "id": "44eeff17c8d789f",
   "metadata": {},
   "source": [
    "I am trying to predict whether a team is qualified for playoff or not based on historical data. \n",
    "The historical data contains the column `playoffGame` a flag depicting whether a game was played during playoffs. \n",
    "Thus, if a team plays at least one game during the season’s playoff it means that the team has been qualified for the playoff.\n",
    "This is binary classification problem"
   ]
  },
  {
   "cell_type": "code",
   "outputs": [],
   "source": [
    "def read_nhl_data():\n",
    "    _nhl_data = pd.read_csv('moneypack/all_teams.csv')\n",
    "    _nhl_data = _nhl_data.dropna()\n",
    "\n",
    "    columns_to_drop = [\n",
    "        'name', 'gameId', 'playerTeam',\n",
    "        'opposingTeam', 'home_or_away',\n",
    "        'gameDate', 'position',\n",
    "        'situation', 'iceTime',\n",
    "        #'playoffGame'\n",
    "    ]\n",
    "\n",
    "    _nhl_data = _nhl_data.sort_values(by=['team', 'season'])\n",
    "    _nhl_data = _nhl_data.drop(columns=columns_to_drop)\n",
    "    _nhl_data = _nhl_data.groupby(['team', 'season'], as_index=False).mean()\n",
    "    _nhl_data['playoff_qualified'] = _nhl_data['playoffGame'].apply(lambda val: 1 if val > 0 else 0)\n",
    "    _nhl_data = _nhl_data.drop(columns=['playoffGame'])\n",
    "\n",
    "    return _nhl_data\n",
    "\n",
    "\n",
    "def read_nhl_data_2023():\n",
    "    _nhl_data_2023 = pd.read_csv('moneypack/teams_2023.csv')\n",
    "    columns_to_drop_from_2023 = ['name', 'position', 'situation', 'iceTime', 'team.1', 'games_played']\n",
    "\n",
    "    _nhl_data_2023 = _nhl_data_2023.dropna()\n",
    "    _nhl_data_2023 = _nhl_data_2023.drop(columns=columns_to_drop_from_2023)\n",
    "    _nhl_data_2023 = _nhl_data_2023.sort_values(by=['team', 'season'])\n",
    "    _nhl_data_2023 = _nhl_data_2023.groupby(['team', 'season']).mean()\n",
    "    return _nhl_data_2023\n",
    "\n",
    "\n",
    "def get_team_names(_team_data):\n",
    "    duplicates = pd.DataFrame(_team_data['team']).drop_duplicates(subset=None, keep='first', inplace=False,\n",
    "                                                                  ignore_index=False)\n",
    "    duplicates = duplicates.sort_values(by=['team'])\n",
    "    return duplicates['team'].values"
   ],
   "metadata": {
    "collapsed": false,
    "ExecuteTime": {
     "end_time": "2024-02-29T18:52:04.437069Z",
     "start_time": "2024-02-29T18:52:04.419815Z"
    }
   },
   "id": "6e2dcd40cc95a952",
   "execution_count": 950
  },
  {
   "cell_type": "code",
   "outputs": [],
   "source": [
    "by_team_season_all = read_nhl_data()\n",
    "by_team_season_all = by_team_season_all[(by_team_season_all['season'] != 2023)]\n",
    "by_team_season_all = by_team_season_all[(by_team_season_all['season'] != 2022)]\n",
    "\n",
    "seasons_data_all = by_team_season_all.drop(columns=['playoff_qualified', 'season', 'team'])\n",
    "seasons_target_all = by_team_season_all['playoff_qualified'].values"
   ],
   "metadata": {
    "collapsed": false,
    "ExecuteTime": {
     "end_time": "2024-02-29T18:52:09.261515Z",
     "start_time": "2024-02-29T18:52:04.527554Z"
    }
   },
   "id": "c74d6ed183281fd9",
   "execution_count": 951
  },
  {
   "cell_type": "markdown",
   "source": [],
   "metadata": {
    "collapsed": false
   },
   "id": "73899362aede06e1"
  },
  {
   "cell_type": "markdown",
   "id": "7ad4cd55a87b585d",
   "metadata": {},
   "source": [
    "## 4.5.2. Choosing a measure of success\n",
    "To select the main metrics for success for the binary classification problem we need to understand if the classes are approximately equal.\n",
    "Try to visualize the classes and calculate the imbalance ratio as follows"
   ]
  },
  {
   "cell_type": "code",
   "outputs": [],
   "source": [],
   "metadata": {
    "collapsed": false,
    "ExecuteTime": {
     "end_time": "2024-02-29T18:52:09.269651Z",
     "start_time": "2024-02-29T18:52:09.264511Z"
    }
   },
   "id": "d06d37087a8c718f",
   "execution_count": 951
  },
  {
   "cell_type": "code",
   "outputs": [
    {
     "name": "stdout",
     "output_type": "stream",
     "text": [
      "Class Counts: 1    232\n",
      "0    194\n",
      "Name: count, dtype: int64\n",
      "Class Proportions: 1    0.544601\n",
      "0    0.455399\n",
      "Name: proportion, dtype: float64\n",
      "Imbalance Ratio: 0.8362068965517241\n"
     ]
    },
    {
     "data": {
      "text/plain": "<Figure size 640x480 with 1 Axes>",
      "image/png": "[encoded data removed]"
     },
     "metadata": {},
     "output_type": "display_data"
    }
   ],
   "source": [
    "class_counts = pd.Series(seasons_target_all).value_counts()\n",
    "class_proportions = pd.Series(seasons_target_all).value_counts(normalize=True)\n",
    "imbalance_ratio = class_counts[0] / class_counts[1]  # Assuming binary classification\n",
    "print(\"Class Counts:\", class_counts)\n",
    "print(\"Class Proportions:\", class_proportions)\n",
    "print(\"Imbalance Ratio:\", imbalance_ratio)\n",
    "plt.hist(seasons_target_all)\n",
    "plt.xlabel('Class')\n",
    "plt.ylabel('Frequency')\n",
    "plt.title('Distribution of Target Classes')\n",
    "plt.show()"
   ],
   "metadata": {
    "collapsed": false,
    "ExecuteTime": {
     "end_time": "2024-02-29T18:52:09.730676Z",
     "start_time": "2024-02-29T18:52:09.271666Z"
    }
   },
   "id": "5e797207fcc17bb9",
   "execution_count": 952
  },
  {
   "cell_type": "markdown",
   "source": [
    "Classes are almost balanced and the Accuracy can be used as the main metrics for success. \n",
    "TBD it defines the loss function. "
   ],
   "metadata": {
    "collapsed": false
   },
   "id": "f3528a19b44805e3"
  },
  {
   "cell_type": "markdown",
   "id": "2a947604b3fd74ff",
   "metadata": {},
   "source": [
    "## 4.5.3. Deciding on an evaluation protocol\n",
    "Doing iterated K-fold validation— For performing highly accurate model evaluation when little data is available"
   ]
  },
  {
   "cell_type": "markdown",
   "id": "f830df088eebb7d0",
   "metadata": {},
   "source": [
    "## 4.5.4. Preparing your data\n",
    " data should be formatted as tensors.\n",
    " The values taken by these tensors should usually be scaled to small values: for example, in the [-1, 1] range or [0, 1] range.\n",
    " the data should be normalized."
   ]
  },
  {
   "cell_type": "markdown",
   "source": [
    "Get data for 2022 as test set?"
   ],
   "metadata": {
    "collapsed": false
   },
   "id": "2853c0e78702bf8"
  },
  {
   "cell_type": "code",
   "outputs": [],
   "source": [
    "by_team_season_all = read_nhl_data()\n",
    "by_team_season_all = by_team_season_all[(by_team_season_all['season'] == 2022)]\n",
    "\n",
    "seasons_teams_2022 = get_team_names(by_team_season_all)\n",
    "seasons_data_2022 = by_team_season_all.drop(columns=['playoff_qualified', 'season', 'team'])\n",
    "seasons_target_2022 = by_team_season_all['playoff_qualified'].values"
   ],
   "metadata": {
    "collapsed": false,
    "ExecuteTime": {
     "end_time": "2024-02-29T18:52:13.184109Z",
     "start_time": "2024-02-29T18:52:09.734676Z"
    }
   },
   "id": "c4ca28df390a5ce3",
   "execution_count": 953
  },
  {
   "cell_type": "markdown",
   "source": [
    "Get data for 2023 as validation set?"
   ],
   "metadata": {
    "collapsed": false
   },
   "id": "e1c3bc74ae86db9"
  },
  {
   "cell_type": "code",
   "outputs": [],
   "source": [
    "seasons_data_2023 = read_nhl_data_2023()\n",
    "seasons_teams_2023 = get_team_names(pd.read_csv('moneypack/teams_2023.csv'))\n",
    "seasons_target_2023 = [0, 0, 1, 0, 1, 0, 0, 0, 1, 1, 0, 1, 1, 1, 0, 0, 1, 0, 1, 1, 0, 1, 1, 1, 0, 0, 1, 1, 1, 1, 1,\n",
    "                       0]  #<40\n",
    "seasons_target_2023_march = [0, 0, 1, 0, 1, 0, 0, 0, 0, 1, 1, 1, 1, 1, 1, 0, 0, 0, 1, 0, 1, 1, 0, 0, 0, 0, 1, 1, 1, 1,\n",
    "                             0, 0]"
   ],
   "metadata": {
    "collapsed": false,
    "ExecuteTime": {
     "end_time": "2024-02-29T18:52:13.233577Z",
     "start_time": "2024-02-29T18:52:13.186090Z"
    }
   },
   "id": "711c48d3811df5b0",
   "execution_count": 954
  },
  {
   "cell_type": "markdown",
   "source": [
    "Transform features by scaling each feature to a given range.\n",
    "This MinMaxScaler estimator scales and translates each feature individually such that it is in the given range on the training set, between zero and one."
   ],
   "metadata": {
    "collapsed": false
   },
   "id": "a73eaa3de89a74b7"
  },
  {
   "cell_type": "code",
   "outputs": [
    {
     "name": "stdout",
     "output_type": "stream",
     "text": [
      "[[0.         0.05098676 0.05835644 ... 0.98334063 1.         1.        ]\n",
      " [0.13453518 0.         0.         ... 1.         0.99729324 0.97581056]\n",
      " [0.85038411 0.71967475 0.70747693 ... 0.29028081 0.26721015 0.26381488]\n",
      " ...\n",
      " [0.63753181 0.32678133 0.4863255  ... 0.23511574 0.22135281 0.23107669]\n",
      " [0.64870309 0.51797002 0.55173883 ... 0.36275068 0.35802139 0.35461815]\n",
      " [0.54873341 0.53459687 0.5518523  ... 0.52671626 0.52122417 0.52591267]]\n"
     ]
    }
   ],
   "source": [
    "from sklearn.preprocessing import MinMaxScaler\n",
    "\n",
    "scaler = MinMaxScaler()\n",
    "seasons_data_all = scaler.fit_transform(seasons_data_all)\n",
    "seasons_data_2022 = scaler.fit_transform(seasons_data_2022)\n",
    "seasons_data_2023 = scaler.fit_transform(seasons_data_2023)\n",
    "print(seasons_data_2022)"
   ],
   "metadata": {
    "collapsed": false,
    "ExecuteTime": {
     "end_time": "2024-02-29T18:52:13.271092Z",
     "start_time": "2024-02-29T18:52:13.235576Z"
    }
   },
   "id": "343441cd66dbbf76",
   "execution_count": 955
  },
  {
   "cell_type": "markdown",
   "id": "7c58da94271a26ea",
   "metadata": {},
   "source": [
    "## 4.5.5. Developing a model that does better than a baseline\n",
    "Assuming that things go well, you need to make three key choices to build your first working model:\n",
    "\n",
    "Last-layer activation - sigmoid in the last layer\n",
    "Loss function - binary_crossentropy\n",
    "Optimization configuration - What optimizer will you use? What will its learning rate be? In most cases, it’s safe to go with rmsprop and its default learning rate"
   ]
  },
  {
   "cell_type": "code",
   "outputs": [],
   "source": [
    "def plot_history(title, xlabel, ylabel, plot1_label, plot1_vals, plot2_label, plot2_vals):\n",
    "    plt.clf()\n",
    "    epochs = range(1, len(plot1_vals) + 1)\n",
    "    plt.plot(epochs, plot1_vals, 'bo', label=plot1_label)\n",
    "    plt.plot(epochs, plot2_vals, 'b', label=plot2_label)\n",
    "    plt.title(title)\n",
    "    plt.xlabel(xlabel)\n",
    "    plt.ylabel(ylabel)\n",
    "    plt.legend()\n",
    "    plt.show()"
   ],
   "metadata": {
    "collapsed": false,
    "ExecuteTime": {
     "end_time": "2024-02-29T18:52:13.282211Z",
     "start_time": "2024-02-29T18:52:13.273687Z"
    }
   },
   "id": "37be71b9ff9e4415",
   "execution_count": 956
  },
  {
   "cell_type": "code",
   "outputs": [],
   "source": [
    "limit = 320\n",
    "\n",
    "data = seasons_data_all\n",
    "target = seasons_target_all\n",
    "\n",
    "x_val = data[:limit]\n",
    "y_val = target[:limit]\n",
    "partial_x_train = data[limit:]\n",
    "partial_y_train = target[limit:]\n"
   ],
   "metadata": {
    "collapsed": false,
    "ExecuteTime": {
     "end_time": "2024-02-29T18:52:13.294900Z",
     "start_time": "2024-02-29T18:52:13.284729Z"
    }
   },
   "id": "2d4cc31d55bcf7eb",
   "execution_count": 957
  },
  {
   "cell_type": "markdown",
   "source": [
    "baseline model\n",
    "“stratified”: This strategy randomly selects class labels based on the class distribution in the training set. It aims to maintain the same class distribution as the training data, making it useful for imbalanced classes."
   ],
   "metadata": {
    "collapsed": false
   },
   "id": "1fcd290cbae8f034"
  },
  {
   "cell_type": "code",
   "outputs": [
    {
     "name": "stdout",
     "output_type": "stream",
     "text": [
      "Random baseline model accuracy 0.46875\n"
     ]
    }
   ],
   "source": [
    "from sklearn.metrics import accuracy_score\n",
    "#https://medium.com/@preethi_prakash/understanding-baseline-models-in-machine-learning-3ed94f03d645\n",
    "\n",
    "from sklearn.dummy import DummyClassifier\n",
    "\n",
    "dummy_clf = DummyClassifier(strategy='stratified', random_state=42)\n",
    "dummy_clf.fit(partial_x_train, partial_y_train)\n",
    "baseline_y_pred = dummy_clf.predict(seasons_data_2022)\n",
    "dummy_model_accuracy = accuracy_score(seasons_target_2022, baseline_y_pred)\n",
    "print(f'Random baseline model accuracy {dummy_model_accuracy}')\n"
   ],
   "metadata": {
    "collapsed": false,
    "ExecuteTime": {
     "end_time": "2024-02-29T18:52:13.324509Z",
     "start_time": "2024-02-29T18:52:13.297867Z"
    }
   },
   "id": "b6dc6cbd7a5dfb31",
   "execution_count": 958
  },
  {
   "cell_type": "markdown",
   "source": [
    "model better than baseline\n",
    "you’ll now train the model for 20 epochs (20 iterations over all samples in the x_train and y_train tensors), in mini-batches of 512 samples.\n",
    " At the same time, you’ll monitor loss and accuracy on the 10,000 samples that you set apart. You do so by passing the validation data as the validation_data argument.\n",
    " train on the training data and evaluate your model on the validation data. \n",
    "Simple hold-out validation"
   ],
   "metadata": {
    "collapsed": false
   },
   "id": "10b165253318dcc6"
  },
  {
   "cell_type": "code",
   "outputs": [
    {
     "name": "stdout",
     "output_type": "stream",
     "text": [
      "Epoch 1/30\n",
      "4/4 [==============================] - 1s 121ms/step - loss: 0.6467 - accuracy: 0.6604 - val_loss: 0.6706 - val_accuracy: 0.5031\n",
      "Epoch 2/30\n",
      "4/4 [==============================] - 0s 30ms/step - loss: 0.5755 - accuracy: 0.6698 - val_loss: 0.6698 - val_accuracy: 0.5063\n",
      "Epoch 3/30\n",
      "4/4 [==============================] - 0s 31ms/step - loss: 0.5524 - accuracy: 0.6792 - val_loss: 0.6227 - val_accuracy: 0.5562\n",
      "Epoch 4/30\n",
      "4/4 [==============================] - 0s 29ms/step - loss: 0.5431 - accuracy: 0.6887 - val_loss: 0.5991 - val_accuracy: 0.7750\n",
      "Epoch 5/30\n",
      "4/4 [==============================] - 0s 33ms/step - loss: 0.5378 - accuracy: 0.8019 - val_loss: 0.6656 - val_accuracy: 0.5406\n",
      "Epoch 6/30\n",
      "4/4 [==============================] - 0s 31ms/step - loss: 0.5271 - accuracy: 0.7075 - val_loss: 0.6434 - val_accuracy: 0.5656\n",
      "Epoch 7/30\n",
      "4/4 [==============================] - 0s 32ms/step - loss: 0.5196 - accuracy: 0.7358 - val_loss: 0.5625 - val_accuracy: 0.7594\n",
      "Epoch 8/30\n",
      "4/4 [==============================] - 0s 32ms/step - loss: 0.5062 - accuracy: 0.7547 - val_loss: 0.5526 - val_accuracy: 0.7750\n",
      "Epoch 9/30\n",
      "4/4 [==============================] - 0s 31ms/step - loss: 0.5022 - accuracy: 0.8113 - val_loss: 0.5479 - val_accuracy: 0.7750\n",
      "Epoch 10/30\n",
      "4/4 [==============================] - 0s 29ms/step - loss: 0.4932 - accuracy: 0.8019 - val_loss: 0.5650 - val_accuracy: 0.7250\n",
      "Epoch 11/30\n",
      "4/4 [==============================] - 0s 30ms/step - loss: 0.4833 - accuracy: 0.7830 - val_loss: 0.5287 - val_accuracy: 0.7875\n",
      "Epoch 12/30\n",
      "4/4 [==============================] - 0s 31ms/step - loss: 0.4740 - accuracy: 0.8208 - val_loss: 0.5806 - val_accuracy: 0.6844\n",
      "Epoch 13/30\n",
      "4/4 [==============================] - 0s 30ms/step - loss: 0.4647 - accuracy: 0.7547 - val_loss: 0.5189 - val_accuracy: 0.7906\n",
      "Epoch 14/30\n",
      "4/4 [==============================] - 0s 29ms/step - loss: 0.4576 - accuracy: 0.7925 - val_loss: 0.5752 - val_accuracy: 0.7031\n",
      "Epoch 15/30\n",
      "4/4 [==============================] - 0s 27ms/step - loss: 0.4555 - accuracy: 0.8019 - val_loss: 0.5041 - val_accuracy: 0.7844\n",
      "Epoch 16/30\n",
      "4/4 [==============================] - 0s 27ms/step - loss: 0.4419 - accuracy: 0.8019 - val_loss: 0.4930 - val_accuracy: 0.7844\n",
      "Epoch 17/30\n",
      "4/4 [==============================] - 0s 29ms/step - loss: 0.4368 - accuracy: 0.8491 - val_loss: 0.4897 - val_accuracy: 0.8062\n",
      "Epoch 18/30\n",
      "4/4 [==============================] - 0s 31ms/step - loss: 0.4341 - accuracy: 0.8019 - val_loss: 0.4799 - val_accuracy: 0.7937\n",
      "Epoch 19/30\n",
      "4/4 [==============================] - 0s 29ms/step - loss: 0.4182 - accuracy: 0.8396 - val_loss: 0.4745 - val_accuracy: 0.8094\n",
      "Epoch 20/30\n",
      "4/4 [==============================] - 0s 26ms/step - loss: 0.4414 - accuracy: 0.8113 - val_loss: 0.4678 - val_accuracy: 0.8125\n",
      "Epoch 21/30\n",
      "4/4 [==============================] - 0s 27ms/step - loss: 0.4109 - accuracy: 0.8208 - val_loss: 0.4960 - val_accuracy: 0.7531\n",
      "Epoch 22/30\n",
      "4/4 [==============================] - 0s 29ms/step - loss: 0.4369 - accuracy: 0.8396 - val_loss: 0.5057 - val_accuracy: 0.7656\n",
      "Epoch 23/30\n",
      "4/4 [==============================] - 0s 31ms/step - loss: 0.3940 - accuracy: 0.8113 - val_loss: 0.4557 - val_accuracy: 0.8125\n",
      "Epoch 24/30\n",
      "4/4 [==============================] - 0s 29ms/step - loss: 0.4142 - accuracy: 0.8396 - val_loss: 0.4504 - val_accuracy: 0.8094\n",
      "Epoch 25/30\n",
      "4/4 [==============================] - 0s 32ms/step - loss: 0.3843 - accuracy: 0.8679 - val_loss: 0.5963 - val_accuracy: 0.6938\n",
      "Epoch 26/30\n",
      "4/4 [==============================] - 0s 27ms/step - loss: 0.3954 - accuracy: 0.8396 - val_loss: 0.4421 - val_accuracy: 0.8156\n",
      "Epoch 27/30\n",
      "4/4 [==============================] - 0s 27ms/step - loss: 0.3982 - accuracy: 0.8491 - val_loss: 0.5722 - val_accuracy: 0.7156\n",
      "Epoch 28/30\n",
      "4/4 [==============================] - 0s 31ms/step - loss: 0.3881 - accuracy: 0.8302 - val_loss: 0.4453 - val_accuracy: 0.8062\n",
      "Epoch 29/30\n",
      "4/4 [==============================] - 0s 43ms/step - loss: 0.3651 - accuracy: 0.8679 - val_loss: 0.5097 - val_accuracy: 0.7531\n",
      "Epoch 30/30\n",
      "4/4 [==============================] - 0s 45ms/step - loss: 0.3942 - accuracy: 0.8302 - val_loss: 0.4502 - val_accuracy: 0.7937\n"
     ]
    },
    {
     "data": {
      "text/plain": "<Figure size 640x480 with 1 Axes>",
      "image/png": "[encoded data removed]"
     },
     "metadata": {},
     "output_type": "display_data"
    },
    {
     "data": {
      "text/plain": "<Figure size 640x480 with 1 Axes>",
      "image/png": "[encoded data removed]"
     },
     "metadata": {},
     "output_type": "display_data"
    }
   ],
   "source": [
    "from keras.src.layers import Dense\n",
    "from keras import Sequential\n",
    "\n",
    "model = Sequential([\n",
    "    Dense(64, activation='relu', input_shape=(seasons_data_all.shape[1],)),\n",
    "    Dense(32, activation='relu'),\n",
    "    Dense(1, activation='sigmoid')\n",
    "])\n",
    "\n",
    "model.compile(optimizer='rmsprop',\n",
    "              loss='binary_crossentropy',\n",
    "              metrics=['accuracy'])\n",
    "\n",
    "history = model.fit(partial_x_train,\n",
    "                    partial_y_train,\n",
    "                    epochs=30,\n",
    "                    validation_data=(x_val, y_val))\n",
    "\n",
    "#https://medium.com/@frederik.vl/interpreting-training-validation-accuracy-and-loss-cf16f0d5329f\n",
    "history_dict = history.history\n",
    "plot_history('Training and validation loss', 'Epochs', 'Loss',\n",
    "             'Training loss', history_dict['loss'], 'Validation loss', history_dict['val_loss'])\n",
    "plot_history('Training and validation accuracy', 'Epochs', 'Accuracy',\n",
    "             'Training acc', history_dict['accuracy'], 'Validation acc', history_dict['val_accuracy'])\n"
   ],
   "metadata": {
    "collapsed": false,
    "ExecuteTime": {
     "end_time": "2024-02-29T18:52:18.812765Z",
     "start_time": "2024-02-29T18:52:13.328513Z"
    }
   },
   "id": "54d56bef41604bb5",
   "execution_count": 959
  },
  {
   "cell_type": "markdown",
   "source": [
    "As you can see, the training loss decreases with every epoch, and the training accuracy increases with every epoch. That’s what you would expect when running gradient-descent optimization—the quantity you’re trying to minimize should be less with every iteration"
   ],
   "metadata": {
    "collapsed": false
   },
   "id": "8ae3f9eabe1c4da4"
  },
  {
   "cell_type": "markdown",
   "source": [
    "Test it on the test data for 2022"
   ],
   "metadata": {
    "collapsed": false
   },
   "id": "cde6bde06e877c97"
  },
  {
   "cell_type": "code",
   "outputs": [
    {
     "name": "stdout",
     "output_type": "stream",
     "text": [
      "1/1 [==============================] - 0s 49ms/step - loss: 0.3829 - accuracy: 0.8750\n",
      "Simple model prediction accuracy is 0.875, loss is 0.3828553557395935\n"
     ]
    }
   ],
   "source": [
    "simple_prediction_2022 = model.evaluate(seasons_data_2022, seasons_target_2022)\n",
    "print(f'Simple model prediction accuracy is {simple_prediction_2022[1]}, loss is {simple_prediction_2022[0]}')"
   ],
   "metadata": {
    "collapsed": false,
    "ExecuteTime": {
     "end_time": "2024-02-29T18:52:18.993034Z",
     "start_time": "2024-02-29T18:52:18.816745Z"
    }
   },
   "id": "b2b282b47b243383",
   "execution_count": 960
  },
  {
   "cell_type": "markdown",
   "source": [],
   "metadata": {
    "collapsed": false
   },
   "id": "73b65cb16dfe5f28"
  },
  {
   "cell_type": "markdown",
   "source": [
    "You train on the training data and evaluate your model on the validation data. \n",
    "Once your model is ready for prime time, you test it one final time on the test data. \n",
    "(2022 test data)\n",
    "2023 - new data for prediction\n",
    "so i need to split seasons_data_all_features to training and validation data"
   ],
   "metadata": {
    "collapsed": false
   },
   "id": "37b00dc4ef82c03f"
  },
  {
   "cell_type": "markdown",
   "id": "13e6ee7e9510046d",
   "metadata": {},
   "source": [
    "## 4.5.6. Scaling up: developing a model that overfits\n",
    "To figure out how big a model you’ll need, you must develop a model that overfits. This is fairly easy:\n",
    "\n",
    "Add layers.\n",
    "Make the layers bigger.\n",
    "Train for more epochs."
   ]
  },
  {
   "cell_type": "markdown",
   "source": [
    "This one is for situations in which you have relatively little data available and you need to evaluate your model as precisely as possible."
   ],
   "metadata": {
    "collapsed": false
   },
   "id": "8c3283e232d6340f"
  },
  {
   "cell_type": "code",
   "outputs": [
    {
     "name": "stdout",
     "output_type": "stream",
     "text": [
      "Epoch 1/20\n",
      "11/11 [==============================] - 2s 55ms/step - loss: 0.6538 - accuracy: 0.6324 - val_loss: 0.5470 - val_accuracy: 0.8140\n",
      "Epoch 2/20\n",
      "11/11 [==============================] - 0s 7ms/step - loss: 0.5891 - accuracy: 0.6971 - val_loss: 0.4865 - val_accuracy: 0.8372\n",
      "Epoch 3/20\n",
      "11/11 [==============================] - 0s 9ms/step - loss: 0.5310 - accuracy: 0.7500 - val_loss: 0.4499 - val_accuracy: 0.8256\n",
      "Epoch 4/20\n",
      "11/11 [==============================] - 0s 8ms/step - loss: 0.5190 - accuracy: 0.7676 - val_loss: 0.4110 - val_accuracy: 0.8488\n",
      "Epoch 5/20\n",
      "11/11 [==============================] - 0s 10ms/step - loss: 0.5062 - accuracy: 0.7618 - val_loss: 0.4059 - val_accuracy: 0.8372\n",
      "Epoch 6/20\n",
      "11/11 [==============================] - 0s 9ms/step - loss: 0.4699 - accuracy: 0.7618 - val_loss: 0.3717 - val_accuracy: 0.8488\n",
      "Epoch 7/20\n",
      "11/11 [==============================] - 0s 9ms/step - loss: 0.4614 - accuracy: 0.7824 - val_loss: 0.5423 - val_accuracy: 0.7326\n",
      "Epoch 8/20\n",
      "11/11 [==============================] - 0s 10ms/step - loss: 0.4479 - accuracy: 0.7853 - val_loss: 0.3798 - val_accuracy: 0.8605\n",
      "Epoch 9/20\n",
      "11/11 [==============================] - 0s 11ms/step - loss: 0.4624 - accuracy: 0.7853 - val_loss: 0.3558 - val_accuracy: 0.8605\n",
      "Epoch 10/20\n",
      "11/11 [==============================] - 0s 10ms/step - loss: 0.4219 - accuracy: 0.8206 - val_loss: 0.3251 - val_accuracy: 0.8721\n",
      "Epoch 11/20\n",
      "11/11 [==============================] - 0s 10ms/step - loss: 0.3929 - accuracy: 0.8118 - val_loss: 0.3500 - val_accuracy: 0.8605\n",
      "Epoch 12/20\n",
      "11/11 [==============================] - 0s 10ms/step - loss: 0.4000 - accuracy: 0.8118 - val_loss: 0.3144 - val_accuracy: 0.8605\n",
      "Epoch 13/20\n",
      "11/11 [==============================] - 0s 10ms/step - loss: 0.3733 - accuracy: 0.8206 - val_loss: 0.3207 - val_accuracy: 0.8605\n",
      "Epoch 14/20\n",
      "11/11 [==============================] - 0s 10ms/step - loss: 0.3413 - accuracy: 0.8588 - val_loss: 0.2876 - val_accuracy: 0.8837\n",
      "Epoch 15/20\n",
      "11/11 [==============================] - 0s 9ms/step - loss: 0.4300 - accuracy: 0.7794 - val_loss: 0.3190 - val_accuracy: 0.8721\n",
      "Epoch 16/20\n",
      "11/11 [==============================] - 0s 9ms/step - loss: 0.3166 - accuracy: 0.8706 - val_loss: 0.3276 - val_accuracy: 0.8256\n",
      "Epoch 17/20\n",
      "11/11 [==============================] - 0s 9ms/step - loss: 0.3574 - accuracy: 0.8441 - val_loss: 0.6145 - val_accuracy: 0.7326\n",
      "Epoch 18/20\n",
      "11/11 [==============================] - 0s 9ms/step - loss: 0.3484 - accuracy: 0.8441 - val_loss: 0.5239 - val_accuracy: 0.7674\n",
      "Epoch 19/20\n",
      "11/11 [==============================] - 0s 10ms/step - loss: 0.3405 - accuracy: 0.8529 - val_loss: 0.2757 - val_accuracy: 0.9186\n",
      "Epoch 20/20\n",
      "11/11 [==============================] - 0s 10ms/step - loss: 0.3744 - accuracy: 0.8206 - val_loss: 0.3090 - val_accuracy: 0.8140\n",
      "Epoch 1/20\n",
      "11/11 [==============================] - 0s 18ms/step - loss: 0.3416 - accuracy: 0.8534 - val_loss: 0.2651 - val_accuracy: 0.8824\n",
      "Epoch 2/20\n",
      "11/11 [==============================] - 0s 9ms/step - loss: 0.3459 - accuracy: 0.8358 - val_loss: 0.2946 - val_accuracy: 0.8706\n",
      "Epoch 3/20\n",
      "11/11 [==============================] - 0s 10ms/step - loss: 0.3209 - accuracy: 0.8446 - val_loss: 0.3460 - val_accuracy: 0.8235\n",
      "Epoch 4/20\n",
      "11/11 [==============================] - 0s 10ms/step - loss: 0.3269 - accuracy: 0.8710 - val_loss: 0.2577 - val_accuracy: 0.8824\n",
      "Epoch 5/20\n",
      "11/11 [==============================] - 0s 10ms/step - loss: 0.2967 - accuracy: 0.8915 - val_loss: 0.4361 - val_accuracy: 0.8118\n",
      "Epoch 6/20\n",
      "11/11 [==============================] - 0s 11ms/step - loss: 0.2973 - accuracy: 0.8710 - val_loss: 0.2966 - val_accuracy: 0.8588\n",
      "Epoch 7/20\n",
      "11/11 [==============================] - 0s 11ms/step - loss: 0.2840 - accuracy: 0.8680 - val_loss: 0.4716 - val_accuracy: 0.8000\n",
      "Epoch 8/20\n",
      "11/11 [==============================] - 0s 10ms/step - loss: 0.3395 - accuracy: 0.8504 - val_loss: 0.3283 - val_accuracy: 0.8471\n",
      "Epoch 9/20\n",
      "11/11 [==============================] - 0s 10ms/step - loss: 0.2899 - accuracy: 0.8798 - val_loss: 0.2521 - val_accuracy: 0.8706\n",
      "Epoch 10/20\n",
      "11/11 [==============================] - 0s 10ms/step - loss: 0.3254 - accuracy: 0.8739 - val_loss: 0.3728 - val_accuracy: 0.8235\n",
      "Epoch 11/20\n",
      "11/11 [==============================] - 0s 10ms/step - loss: 0.3056 - accuracy: 0.8504 - val_loss: 0.4636 - val_accuracy: 0.7882\n",
      "Epoch 12/20\n",
      "11/11 [==============================] - 0s 9ms/step - loss: 0.2996 - accuracy: 0.8651 - val_loss: 0.3812 - val_accuracy: 0.8235\n",
      "Epoch 13/20\n",
      "11/11 [==============================] - 0s 10ms/step - loss: 0.3035 - accuracy: 0.8768 - val_loss: 0.2591 - val_accuracy: 0.8941\n",
      "Epoch 14/20\n",
      "11/11 [==============================] - 0s 9ms/step - loss: 0.2847 - accuracy: 0.8622 - val_loss: 0.2871 - val_accuracy: 0.8471\n",
      "Epoch 15/20\n",
      "11/11 [==============================] - 0s 10ms/step - loss: 0.3206 - accuracy: 0.8534 - val_loss: 0.3965 - val_accuracy: 0.8235\n",
      "Epoch 16/20\n",
      "11/11 [==============================] - 0s 10ms/step - loss: 0.2666 - accuracy: 0.8651 - val_loss: 0.3285 - val_accuracy: 0.8824\n",
      "Epoch 17/20\n",
      "11/11 [==============================] - 0s 11ms/step - loss: 0.2973 - accuracy: 0.8856 - val_loss: 0.2890 - val_accuracy: 0.8588\n",
      "Epoch 18/20\n",
      "11/11 [==============================] - 0s 9ms/step - loss: 0.2509 - accuracy: 0.8886 - val_loss: 0.5962 - val_accuracy: 0.7765\n",
      "Epoch 19/20\n",
      "11/11 [==============================] - 0s 10ms/step - loss: 0.3229 - accuracy: 0.8710 - val_loss: 0.2553 - val_accuracy: 0.8706\n",
      "Epoch 20/20\n",
      "11/11 [==============================] - 0s 9ms/step - loss: 0.2611 - accuracy: 0.8827 - val_loss: 0.3224 - val_accuracy: 0.8471\n",
      "Epoch 1/20\n",
      "11/11 [==============================] - 0s 16ms/step - loss: 0.2619 - accuracy: 0.8651 - val_loss: 0.4468 - val_accuracy: 0.8235\n",
      "Epoch 2/20\n",
      "11/11 [==============================] - 0s 9ms/step - loss: 0.3091 - accuracy: 0.8622 - val_loss: 0.3409 - val_accuracy: 0.8235\n",
      "Epoch 3/20\n",
      "11/11 [==============================] - 0s 9ms/step - loss: 0.2121 - accuracy: 0.9062 - val_loss: 0.3451 - val_accuracy: 0.8588\n",
      "Epoch 4/20\n",
      "11/11 [==============================] - 0s 10ms/step - loss: 0.2205 - accuracy: 0.9003 - val_loss: 0.6374 - val_accuracy: 0.7412\n",
      "Epoch 5/20\n",
      "11/11 [==============================] - 0s 9ms/step - loss: 0.3234 - accuracy: 0.8622 - val_loss: 0.3577 - val_accuracy: 0.8118\n",
      "Epoch 6/20\n",
      "11/11 [==============================] - 0s 11ms/step - loss: 0.2256 - accuracy: 0.9032 - val_loss: 0.3305 - val_accuracy: 0.8471\n",
      "Epoch 7/20\n",
      "11/11 [==============================] - 0s 9ms/step - loss: 0.1958 - accuracy: 0.9062 - val_loss: 0.8131 - val_accuracy: 0.7412\n",
      "Epoch 8/20\n",
      "11/11 [==============================] - 0s 10ms/step - loss: 0.3370 - accuracy: 0.8446 - val_loss: 0.3510 - val_accuracy: 0.8588\n",
      "Epoch 9/20\n",
      "11/11 [==============================] - 0s 10ms/step - loss: 0.2186 - accuracy: 0.9062 - val_loss: 0.3520 - val_accuracy: 0.8235\n",
      "Epoch 10/20\n",
      "11/11 [==============================] - 0s 10ms/step - loss: 0.2747 - accuracy: 0.8886 - val_loss: 0.2785 - val_accuracy: 0.8471\n",
      "Epoch 11/20\n",
      "11/11 [==============================] - 0s 10ms/step - loss: 0.1847 - accuracy: 0.9267 - val_loss: 0.3204 - val_accuracy: 0.8471\n",
      "Epoch 12/20\n",
      "11/11 [==============================] - 0s 10ms/step - loss: 0.2101 - accuracy: 0.9091 - val_loss: 0.3444 - val_accuracy: 0.8588\n",
      "Epoch 13/20\n",
      "11/11 [==============================] - 0s 10ms/step - loss: 0.2669 - accuracy: 0.8944 - val_loss: 0.2944 - val_accuracy: 0.8588\n",
      "Epoch 14/20\n",
      "11/11 [==============================] - 0s 10ms/step - loss: 0.1522 - accuracy: 0.9384 - val_loss: 0.3448 - val_accuracy: 0.8706\n",
      "Epoch 15/20\n",
      "11/11 [==============================] - 0s 10ms/step - loss: 0.2479 - accuracy: 0.8915 - val_loss: 0.3168 - val_accuracy: 0.8471\n",
      "Epoch 16/20\n",
      "11/11 [==============================] - 0s 10ms/step - loss: 0.2240 - accuracy: 0.9062 - val_loss: 0.3063 - val_accuracy: 0.8588\n",
      "Epoch 17/20\n",
      "11/11 [==============================] - 0s 10ms/step - loss: 0.2088 - accuracy: 0.9032 - val_loss: 0.3558 - val_accuracy: 0.8588\n",
      "Epoch 18/20\n",
      "11/11 [==============================] - 0s 10ms/step - loss: 0.2333 - accuracy: 0.8886 - val_loss: 0.6151 - val_accuracy: 0.7647\n",
      "Epoch 19/20\n",
      "11/11 [==============================] - 0s 11ms/step - loss: 0.1871 - accuracy: 0.9208 - val_loss: 0.2971 - val_accuracy: 0.8706\n",
      "Epoch 20/20\n",
      "11/11 [==============================] - 0s 11ms/step - loss: 0.1862 - accuracy: 0.9179 - val_loss: 0.2886 - val_accuracy: 0.8588\n",
      "Epoch 1/20\n",
      "11/11 [==============================] - 0s 20ms/step - loss: 0.2873 - accuracy: 0.8798 - val_loss: 0.1680 - val_accuracy: 0.9176\n",
      "Epoch 2/20\n",
      "11/11 [==============================] - 0s 10ms/step - loss: 0.2193 - accuracy: 0.9179 - val_loss: 0.1418 - val_accuracy: 0.9412\n",
      "Epoch 3/20\n",
      "11/11 [==============================] - 0s 10ms/step - loss: 0.1806 - accuracy: 0.9179 - val_loss: 0.1958 - val_accuracy: 0.9176\n",
      "Epoch 4/20\n",
      "11/11 [==============================] - 0s 9ms/step - loss: 0.2930 - accuracy: 0.8915 - val_loss: 0.1625 - val_accuracy: 0.9176\n",
      "Epoch 5/20\n",
      "11/11 [==============================] - 0s 10ms/step - loss: 0.1945 - accuracy: 0.9208 - val_loss: 0.1689 - val_accuracy: 0.9176\n",
      "Epoch 6/20\n",
      "11/11 [==============================] - 0s 11ms/step - loss: 0.2649 - accuracy: 0.8944 - val_loss: 0.1625 - val_accuracy: 0.9412\n",
      "Epoch 7/20\n",
      "11/11 [==============================] - 0s 11ms/step - loss: 0.2711 - accuracy: 0.9032 - val_loss: 0.1679 - val_accuracy: 0.9176\n",
      "Epoch 8/20\n",
      "11/11 [==============================] - 0s 11ms/step - loss: 0.2396 - accuracy: 0.9091 - val_loss: 0.3231 - val_accuracy: 0.8471\n",
      "Epoch 9/20\n",
      "11/11 [==============================] - 0s 10ms/step - loss: 0.1952 - accuracy: 0.9150 - val_loss: 0.1831 - val_accuracy: 0.9294\n",
      "Epoch 10/20\n",
      "11/11 [==============================] - 0s 9ms/step - loss: 0.1849 - accuracy: 0.9384 - val_loss: 0.1796 - val_accuracy: 0.9176\n",
      "Epoch 11/20\n",
      "11/11 [==============================] - 0s 10ms/step - loss: 0.2559 - accuracy: 0.9003 - val_loss: 0.2231 - val_accuracy: 0.8941\n",
      "Epoch 12/20\n",
      "11/11 [==============================] - 0s 9ms/step - loss: 0.2389 - accuracy: 0.8710 - val_loss: 0.1537 - val_accuracy: 0.9294\n",
      "Epoch 13/20\n",
      "11/11 [==============================] - 0s 10ms/step - loss: 0.2030 - accuracy: 0.9120 - val_loss: 0.1424 - val_accuracy: 0.9529\n",
      "Epoch 14/20\n",
      "11/11 [==============================] - 0s 9ms/step - loss: 0.1584 - accuracy: 0.9355 - val_loss: 0.1791 - val_accuracy: 0.9059\n",
      "Epoch 15/20\n",
      "11/11 [==============================] - 0s 10ms/step - loss: 0.2343 - accuracy: 0.8974 - val_loss: 0.1374 - val_accuracy: 0.9294\n",
      "Epoch 16/20\n",
      "11/11 [==============================] - 0s 11ms/step - loss: 0.2462 - accuracy: 0.8915 - val_loss: 0.1425 - val_accuracy: 0.9412\n",
      "Epoch 17/20\n",
      "11/11 [==============================] - 0s 10ms/step - loss: 0.2030 - accuracy: 0.9150 - val_loss: 0.1484 - val_accuracy: 0.9294\n",
      "Epoch 18/20\n",
      "11/11 [==============================] - 0s 9ms/step - loss: 0.1458 - accuracy: 0.9355 - val_loss: 0.4690 - val_accuracy: 0.8471\n",
      "Epoch 19/20\n",
      "11/11 [==============================] - 0s 10ms/step - loss: 0.2183 - accuracy: 0.9120 - val_loss: 0.1494 - val_accuracy: 0.9294\n",
      "Epoch 20/20\n",
      "11/11 [==============================] - 0s 10ms/step - loss: 0.1914 - accuracy: 0.9179 - val_loss: 0.1738 - val_accuracy: 0.9059\n",
      "Epoch 1/20\n",
      "11/11 [==============================] - 0s 20ms/step - loss: 0.2037 - accuracy: 0.8915 - val_loss: 0.1320 - val_accuracy: 0.9294\n",
      "Epoch 2/20\n",
      "11/11 [==============================] - 0s 10ms/step - loss: 0.1848 - accuracy: 0.9150 - val_loss: 0.1236 - val_accuracy: 0.9647\n",
      "Epoch 3/20\n",
      "11/11 [==============================] - 0s 11ms/step - loss: 0.1901 - accuracy: 0.9296 - val_loss: 0.1448 - val_accuracy: 0.9647\n",
      "Epoch 4/20\n",
      "11/11 [==============================] - 0s 10ms/step - loss: 0.2320 - accuracy: 0.9091 - val_loss: 0.1505 - val_accuracy: 0.9294\n",
      "Epoch 5/20\n",
      "11/11 [==============================] - 0s 10ms/step - loss: 0.1570 - accuracy: 0.9443 - val_loss: 0.7050 - val_accuracy: 0.7294\n",
      "Epoch 6/20\n",
      "11/11 [==============================] - 0s 10ms/step - loss: 0.1912 - accuracy: 0.9355 - val_loss: 0.1142 - val_accuracy: 0.9765\n",
      "Epoch 7/20\n",
      "11/11 [==============================] - 0s 11ms/step - loss: 0.2105 - accuracy: 0.9296 - val_loss: 0.1635 - val_accuracy: 0.9294\n",
      "Epoch 8/20\n",
      "11/11 [==============================] - 0s 9ms/step - loss: 0.1205 - accuracy: 0.9560 - val_loss: 0.4115 - val_accuracy: 0.8000\n",
      "Epoch 9/20\n",
      "11/11 [==============================] - 0s 10ms/step - loss: 0.2793 - accuracy: 0.8944 - val_loss: 0.1632 - val_accuracy: 0.9176\n",
      "Epoch 10/20\n",
      "11/11 [==============================] - 0s 9ms/step - loss: 0.1448 - accuracy: 0.9384 - val_loss: 0.3862 - val_accuracy: 0.7882\n",
      "Epoch 11/20\n",
      "11/11 [==============================] - 0s 10ms/step - loss: 0.1967 - accuracy: 0.9267 - val_loss: 0.1273 - val_accuracy: 0.9412\n",
      "Epoch 12/20\n",
      "11/11 [==============================] - 0s 10ms/step - loss: 0.1166 - accuracy: 0.9560 - val_loss: 0.5197 - val_accuracy: 0.7882\n",
      "Epoch 13/20\n",
      "11/11 [==============================] - 0s 10ms/step - loss: 0.2018 - accuracy: 0.9120 - val_loss: 0.1646 - val_accuracy: 0.9176\n",
      "Epoch 14/20\n",
      "11/11 [==============================] - 0s 13ms/step - loss: 0.1464 - accuracy: 0.9384 - val_loss: 0.2006 - val_accuracy: 0.9294\n",
      "Epoch 15/20\n",
      "11/11 [==============================] - 0s 10ms/step - loss: 0.1323 - accuracy: 0.9501 - val_loss: 0.1117 - val_accuracy: 0.9529\n",
      "Epoch 16/20\n",
      "11/11 [==============================] - 0s 10ms/step - loss: 0.1825 - accuracy: 0.9179 - val_loss: 0.1338 - val_accuracy: 0.9412\n",
      "Epoch 17/20\n",
      "11/11 [==============================] - 0s 10ms/step - loss: 0.1133 - accuracy: 0.9501 - val_loss: 0.1740 - val_accuracy: 0.9059\n",
      "Epoch 18/20\n",
      "11/11 [==============================] - 0s 9ms/step - loss: 0.1981 - accuracy: 0.9267 - val_loss: 0.4671 - val_accuracy: 0.8000\n",
      "Epoch 19/20\n",
      "11/11 [==============================] - 0s 11ms/step - loss: 0.1634 - accuracy: 0.9267 - val_loss: 0.1762 - val_accuracy: 0.9294\n",
      "Epoch 20/20\n",
      "11/11 [==============================] - 0s 10ms/step - loss: 0.1449 - accuracy: 0.9413 - val_loss: 0.1872 - val_accuracy: 0.9294\n"
     ]
    }
   ],
   "source": [
    "from sklearn.model_selection import StratifiedKFold\n",
    "\n",
    "k = 5\n",
    "advanced_epochs = 20\n",
    "# advanced_batch_size = 64\n",
    "scores = []\n",
    "\n",
    "advanced_model = Sequential([\n",
    "    Dense(256, activation='relu', input_shape=(seasons_data_all.shape[1],)),\n",
    "    Dense(128, activation='relu', ),\n",
    "    Dense(64, activation='relu', ),\n",
    "    Dense(32, activation='relu', ),\n",
    "    Dense(1, activation='sigmoid')\n",
    "])\n",
    "\n",
    "advanced_model.compile(optimizer='rmsprop',\n",
    "                       loss='binary_crossentropy',\n",
    "                       metrics=['accuracy'])\n",
    "\n",
    "kfold = StratifiedKFold(n_splits=k, shuffle=True, random_state=42)\n",
    "for train_idx, val_idx in kfold.split(data, target):\n",
    "    X_train_fold, X_val_fold = data[train_idx], data[val_idx]\n",
    "    y_train_fold, y_val_fold = target[train_idx], target[val_idx]\n",
    "    scores.append(advanced_model.fit(X_train_fold,\n",
    "                                     y_train_fold,\n",
    "                                     epochs=advanced_epochs,\n",
    "                                     # batch_size=advanced_batch_size,\n",
    "                                     validation_data=(X_val_fold, y_val_fold)))"
   ],
   "metadata": {
    "collapsed": false,
    "ExecuteTime": {
     "end_time": "2024-02-29T18:52:32.800833Z",
     "start_time": "2024-02-29T18:52:18.995594Z"
    }
   },
   "id": "76f26be25a7d7315",
   "execution_count": 961
  },
  {
   "cell_type": "code",
   "outputs": [],
   "source": [
    "# for hist in scores:\n",
    "#     hist_dict = hist.history\n",
    "#     plot_history('Training and validation accuracy', 'Epochs', 'Accuracy',\n",
    "#                  'Training acc', hist_dict['accuracy'], 'Validation acc', hist_dict['val_accuracy'])"
   ],
   "metadata": {
    "collapsed": false,
    "ExecuteTime": {
     "end_time": "2024-02-29T18:52:32.810434Z",
     "start_time": "2024-02-29T18:52:32.803822Z"
    }
   },
   "id": "8e87a91446b90ed1",
   "execution_count": 962
  },
  {
   "cell_type": "code",
   "outputs": [
    {
     "name": "stdout",
     "output_type": "stream",
     "text": [
      "1/1 [==============================] - 0s 40ms/step - loss: 0.5194 - accuracy: 0.8750\n",
      "Advanced model prediction accuracy is 0.875, loss is 0.519442617893219\n"
     ]
    }
   ],
   "source": [
    "advanced_prediction_2022 = advanced_model.evaluate(seasons_data_2022, seasons_target_2022)\n",
    "print(f'Advanced model prediction accuracy is {advanced_prediction_2022[1]}, loss is {advanced_prediction_2022[0]}')"
   ],
   "metadata": {
    "collapsed": false,
    "ExecuteTime": {
     "end_time": "2024-02-29T18:52:32.959997Z",
     "start_time": "2024-02-29T18:52:32.812432Z"
    }
   },
   "id": "e4f7dce485bf87e2",
   "execution_count": 963
  },
  {
   "cell_type": "markdown",
   "id": "134109fb5199368c",
   "metadata": {},
   "source": [
    "## 4.5.7. Regularizing your model and tuning your hyperparameters\n",
    "These are some things you should try:\n",
    "\n",
    "Add dropout.\n",
    "Try different architectures: add or remove layers.\n",
    "Add L1 and/or L2 regularization.\n",
    "Try different hyperparameters (such as the number of units per layer or the learning rate of the optimizer) to find the optimal configuration.\n",
    "Optionally, iterate on feature engineering: add new features, or remove features that don’t seem to be informative."
   ]
  },
  {
   "cell_type": "markdown",
   "source": [
    "L1 and L2 regularization are methods in machine learning that add a penalty term to the loss function. L1 regularization is also known as lasso regression, and L2 regularization is also known as ridge regression.\n",
    "\n",
    "L1 regularization adds the absolute value of the coefficient as a penalty term. L2 regularization adds the squared magnitude of the coefficient as a penalty term.\n",
    "Effect:\n",
    "L1 regularization generates sparse solutions and is helpful for feature selection. L2 regularization yields non-sparse solutions and is beneficial for building simpler models."
   ],
   "metadata": {
    "collapsed": false
   },
   "id": "c8f59178ec973edb"
  },
  {
   "cell_type": "code",
   "outputs": [
    {
     "name": "stdout",
     "output_type": "stream",
     "text": [
      "Epoch 1/18\n",
      "12/12 [==============================] - 3s 29ms/step - loss: 2.8193 - accuracy: 0.6877 - val_loss: 2.5617 - val_accuracy: 0.8197\n",
      "Epoch 2/18\n",
      "12/12 [==============================] - 0s 9ms/step - loss: 2.4301 - accuracy: 0.7425 - val_loss: 2.1793 - val_accuracy: 0.8852\n",
      "Epoch 3/18\n",
      "12/12 [==============================] - 0s 10ms/step - loss: 2.0929 - accuracy: 0.7589 - val_loss: 2.0919 - val_accuracy: 0.6230\n",
      "Epoch 4/18\n",
      "12/12 [==============================] - 0s 12ms/step - loss: 1.8783 - accuracy: 0.7342 - val_loss: 1.8130 - val_accuracy: 0.7049\n",
      "Epoch 5/18\n",
      "12/12 [==============================] - 0s 9ms/step - loss: 1.6779 - accuracy: 0.7507 - val_loss: 1.5998 - val_accuracy: 0.7541\n",
      "Epoch 6/18\n",
      "12/12 [==============================] - 0s 9ms/step - loss: 1.5130 - accuracy: 0.7671 - val_loss: 1.4343 - val_accuracy: 0.7869\n",
      "Epoch 7/18\n",
      "12/12 [==============================] - 0s 9ms/step - loss: 1.3380 - accuracy: 0.8192 - val_loss: 1.2295 - val_accuracy: 0.8525\n",
      "Epoch 8/18\n",
      "12/12 [==============================] - 0s 10ms/step - loss: 1.2366 - accuracy: 0.8247 - val_loss: 1.1478 - val_accuracy: 0.8197\n",
      "Epoch 9/18\n",
      "12/12 [==============================] - 0s 9ms/step - loss: 1.1403 - accuracy: 0.8384 - val_loss: 1.1842 - val_accuracy: 0.7541\n",
      "Epoch 10/18\n",
      "12/12 [==============================] - 0s 9ms/step - loss: 1.0697 - accuracy: 0.8192 - val_loss: 0.9672 - val_accuracy: 0.9016\n",
      "Epoch 11/18\n",
      "12/12 [==============================] - 0s 9ms/step - loss: 0.9677 - accuracy: 0.8493 - val_loss: 0.9273 - val_accuracy: 0.8689\n",
      "Epoch 12/18\n",
      "12/12 [==============================] - 0s 9ms/step - loss: 0.9039 - accuracy: 0.8658 - val_loss: 0.9635 - val_accuracy: 0.7705\n",
      "Epoch 13/18\n",
      "12/12 [==============================] - 0s 10ms/step - loss: 0.8581 - accuracy: 0.8685 - val_loss: 0.8283 - val_accuracy: 0.9016\n",
      "Epoch 14/18\n",
      "12/12 [==============================] - 0s 9ms/step - loss: 0.8804 - accuracy: 0.8521 - val_loss: 0.8643 - val_accuracy: 0.7869\n",
      "Epoch 15/18\n",
      "12/12 [==============================] - 0s 9ms/step - loss: 0.8231 - accuracy: 0.8603 - val_loss: 0.9166 - val_accuracy: 0.7705\n",
      "Epoch 16/18\n",
      "12/12 [==============================] - 0s 9ms/step - loss: 0.7756 - accuracy: 0.8767 - val_loss: 0.7991 - val_accuracy: 0.8361\n",
      "Epoch 17/18\n",
      "12/12 [==============================] - 0s 10ms/step - loss: 0.7528 - accuracy: 0.8849 - val_loss: 0.7569 - val_accuracy: 0.9016\n",
      "Epoch 18/18\n",
      "12/12 [==============================] - 0s 9ms/step - loss: 0.7235 - accuracy: 0.8795 - val_loss: 0.8550 - val_accuracy: 0.7541\n",
      "Epoch 1/18\n",
      "12/12 [==============================] - 0s 16ms/step - loss: 0.7736 - accuracy: 0.8411 - val_loss: 0.6866 - val_accuracy: 0.9016\n",
      "Epoch 2/18\n",
      "12/12 [==============================] - 0s 10ms/step - loss: 0.7444 - accuracy: 0.8740 - val_loss: 0.7090 - val_accuracy: 0.8689\n",
      "Epoch 3/18\n",
      "12/12 [==============================] - 0s 9ms/step - loss: 0.7313 - accuracy: 0.8849 - val_loss: 0.6840 - val_accuracy: 0.9016\n",
      "Epoch 4/18\n",
      "12/12 [==============================] - 0s 10ms/step - loss: 0.7379 - accuracy: 0.8575 - val_loss: 0.6756 - val_accuracy: 0.8852\n",
      "Epoch 5/18\n",
      "12/12 [==============================] - 0s 10ms/step - loss: 0.6901 - accuracy: 0.8767 - val_loss: 0.6686 - val_accuracy: 0.8689\n",
      "Epoch 6/18\n",
      "12/12 [==============================] - 0s 10ms/step - loss: 0.6615 - accuracy: 0.8986 - val_loss: 0.6533 - val_accuracy: 0.9016\n",
      "Epoch 7/18\n",
      "12/12 [==============================] - 0s 9ms/step - loss: 0.6518 - accuracy: 0.9014 - val_loss: 0.6621 - val_accuracy: 0.8525\n",
      "Epoch 8/18\n",
      "12/12 [==============================] - 0s 9ms/step - loss: 0.6614 - accuracy: 0.8849 - val_loss: 0.6749 - val_accuracy: 0.8689\n",
      "Epoch 9/18\n",
      "12/12 [==============================] - 0s 10ms/step - loss: 0.6801 - accuracy: 0.8685 - val_loss: 0.6450 - val_accuracy: 0.8361\n",
      "Epoch 10/18\n",
      "12/12 [==============================] - 0s 9ms/step - loss: 0.6400 - accuracy: 0.8795 - val_loss: 0.6250 - val_accuracy: 0.9180\n",
      "Epoch 11/18\n",
      "12/12 [==============================] - 0s 9ms/step - loss: 0.6250 - accuracy: 0.8932 - val_loss: 0.6200 - val_accuracy: 0.9016\n",
      "Epoch 12/18\n",
      "12/12 [==============================] - 0s 9ms/step - loss: 0.6116 - accuracy: 0.8932 - val_loss: 0.6297 - val_accuracy: 0.8361\n",
      "Epoch 13/18\n",
      "12/12 [==============================] - 0s 9ms/step - loss: 0.6041 - accuracy: 0.9123 - val_loss: 0.6098 - val_accuracy: 0.9016\n",
      "Epoch 14/18\n",
      "12/12 [==============================] - 0s 9ms/step - loss: 0.5954 - accuracy: 0.8959 - val_loss: 0.6101 - val_accuracy: 0.8525\n",
      "Epoch 15/18\n",
      "12/12 [==============================] - 0s 8ms/step - loss: 0.5924 - accuracy: 0.8932 - val_loss: 0.6187 - val_accuracy: 0.8525\n",
      "Epoch 16/18\n",
      "12/12 [==============================] - 0s 9ms/step - loss: 0.5865 - accuracy: 0.9041 - val_loss: 0.5887 - val_accuracy: 0.9016\n",
      "Epoch 17/18\n",
      "12/12 [==============================] - 0s 9ms/step - loss: 0.5842 - accuracy: 0.9068 - val_loss: 0.5936 - val_accuracy: 0.8689\n",
      "Epoch 18/18\n",
      "12/12 [==============================] - 0s 9ms/step - loss: 0.5774 - accuracy: 0.8822 - val_loss: 0.5964 - val_accuracy: 0.8361\n",
      "Epoch 1/18\n",
      "12/12 [==============================] - 0s 17ms/step - loss: 0.5919 - accuracy: 0.8849 - val_loss: 0.5251 - val_accuracy: 0.9344\n",
      "Epoch 2/18\n",
      "12/12 [==============================] - 0s 10ms/step - loss: 0.6039 - accuracy: 0.9068 - val_loss: 0.5336 - val_accuracy: 0.9344\n",
      "Epoch 3/18\n",
      "12/12 [==============================] - 0s 9ms/step - loss: 0.5819 - accuracy: 0.8932 - val_loss: 0.5145 - val_accuracy: 0.9180\n",
      "Epoch 4/18\n",
      "12/12 [==============================] - 0s 9ms/step - loss: 0.5704 - accuracy: 0.8849 - val_loss: 0.5669 - val_accuracy: 0.9180\n",
      "Epoch 5/18\n",
      "12/12 [==============================] - 0s 10ms/step - loss: 0.5879 - accuracy: 0.8712 - val_loss: 0.5232 - val_accuracy: 0.9344\n",
      "Epoch 6/18\n",
      "12/12 [==============================] - 0s 9ms/step - loss: 0.5606 - accuracy: 0.8904 - val_loss: 0.5045 - val_accuracy: 0.9180\n",
      "Epoch 7/18\n",
      "12/12 [==============================] - 0s 9ms/step - loss: 0.5472 - accuracy: 0.8877 - val_loss: 0.5277 - val_accuracy: 0.8852\n",
      "Epoch 8/18\n",
      "12/12 [==============================] - 0s 9ms/step - loss: 0.5440 - accuracy: 0.8932 - val_loss: 0.4939 - val_accuracy: 0.9344\n",
      "Epoch 9/18\n",
      "12/12 [==============================] - 0s 9ms/step - loss: 0.5346 - accuracy: 0.9041 - val_loss: 0.4890 - val_accuracy: 0.9508\n",
      "Epoch 10/18\n",
      "12/12 [==============================] - 0s 10ms/step - loss: 0.5566 - accuracy: 0.8822 - val_loss: 0.4943 - val_accuracy: 0.9344\n",
      "Epoch 11/18\n",
      "12/12 [==============================] - 0s 9ms/step - loss: 0.5298 - accuracy: 0.8986 - val_loss: 0.4960 - val_accuracy: 0.9344\n",
      "Epoch 12/18\n",
      "12/12 [==============================] - 0s 10ms/step - loss: 0.5549 - accuracy: 0.8877 - val_loss: 0.5307 - val_accuracy: 0.9180\n",
      "Epoch 13/18\n",
      "12/12 [==============================] - 0s 9ms/step - loss: 0.5755 - accuracy: 0.8795 - val_loss: 0.5054 - val_accuracy: 0.9180\n",
      "Epoch 14/18\n",
      "12/12 [==============================] - 0s 9ms/step - loss: 0.6174 - accuracy: 0.8466 - val_loss: 0.6035 - val_accuracy: 0.8197\n",
      "Epoch 15/18\n",
      "12/12 [==============================] - 0s 9ms/step - loss: 0.5419 - accuracy: 0.8822 - val_loss: 0.4957 - val_accuracy: 0.8852\n",
      "Epoch 16/18\n",
      "12/12 [==============================] - 0s 9ms/step - loss: 0.5261 - accuracy: 0.8795 - val_loss: 0.4949 - val_accuracy: 0.8852\n",
      "Epoch 17/18\n",
      "12/12 [==============================] - 0s 9ms/step - loss: 0.5139 - accuracy: 0.8932 - val_loss: 0.4985 - val_accuracy: 0.8852\n",
      "Epoch 18/18\n",
      "12/12 [==============================] - 0s 10ms/step - loss: 0.5114 - accuracy: 0.8849 - val_loss: 0.5215 - val_accuracy: 0.8689\n",
      "Epoch 1/18\n",
      "12/12 [==============================] - 0s 19ms/step - loss: 0.5110 - accuracy: 0.8959 - val_loss: 0.5268 - val_accuracy: 0.8852\n",
      "Epoch 2/18\n",
      "12/12 [==============================] - 0s 10ms/step - loss: 0.4933 - accuracy: 0.9151 - val_loss: 0.5266 - val_accuracy: 0.8525\n",
      "Epoch 3/18\n",
      "12/12 [==============================] - 0s 10ms/step - loss: 0.4767 - accuracy: 0.9233 - val_loss: 0.5369 - val_accuracy: 0.8852\n",
      "Epoch 4/18\n",
      "12/12 [==============================] - 0s 10ms/step - loss: 0.4808 - accuracy: 0.9041 - val_loss: 0.5203 - val_accuracy: 0.8689\n",
      "Epoch 5/18\n",
      "12/12 [==============================] - 0s 9ms/step - loss: 0.4721 - accuracy: 0.9123 - val_loss: 0.5230 - val_accuracy: 0.8689\n",
      "Epoch 6/18\n",
      "12/12 [==============================] - 0s 9ms/step - loss: 0.4713 - accuracy: 0.9096 - val_loss: 0.6158 - val_accuracy: 0.8689\n",
      "Epoch 7/18\n",
      "12/12 [==============================] - 0s 9ms/step - loss: 0.5009 - accuracy: 0.9096 - val_loss: 0.6458 - val_accuracy: 0.8689\n",
      "Epoch 8/18\n",
      "12/12 [==============================] - 0s 9ms/step - loss: 0.4827 - accuracy: 0.9096 - val_loss: 0.5182 - val_accuracy: 0.8689\n",
      "Epoch 9/18\n",
      "12/12 [==============================] - 0s 9ms/step - loss: 0.5355 - accuracy: 0.8767 - val_loss: 0.5543 - val_accuracy: 0.8689\n",
      "Epoch 10/18\n",
      "12/12 [==============================] - 0s 10ms/step - loss: 0.4812 - accuracy: 0.9041 - val_loss: 0.5944 - val_accuracy: 0.8525\n",
      "Epoch 11/18\n",
      "12/12 [==============================] - 0s 10ms/step - loss: 0.5104 - accuracy: 0.8658 - val_loss: 0.5220 - val_accuracy: 0.8525\n",
      "Epoch 12/18\n",
      "12/12 [==============================] - 0s 10ms/step - loss: 0.4536 - accuracy: 0.9096 - val_loss: 0.5363 - val_accuracy: 0.8525\n",
      "Epoch 13/18\n",
      "12/12 [==============================] - 0s 9ms/step - loss: 0.4527 - accuracy: 0.9151 - val_loss: 0.5961 - val_accuracy: 0.8689\n",
      "Epoch 14/18\n",
      "12/12 [==============================] - 0s 10ms/step - loss: 0.5006 - accuracy: 0.8822 - val_loss: 0.5069 - val_accuracy: 0.8852\n",
      "Epoch 15/18\n",
      "12/12 [==============================] - 0s 10ms/step - loss: 0.4402 - accuracy: 0.9205 - val_loss: 0.5185 - val_accuracy: 0.8689\n",
      "Epoch 16/18\n",
      "12/12 [==============================] - 0s 10ms/step - loss: 0.4601 - accuracy: 0.9068 - val_loss: 0.5442 - val_accuracy: 0.8525\n",
      "Epoch 17/18\n",
      "12/12 [==============================] - 0s 8ms/step - loss: 0.4461 - accuracy: 0.9123 - val_loss: 0.6142 - val_accuracy: 0.8525\n",
      "Epoch 18/18\n",
      "12/12 [==============================] - 0s 9ms/step - loss: 0.4785 - accuracy: 0.8904 - val_loss: 0.5206 - val_accuracy: 0.8689\n",
      "Epoch 1/18\n",
      "12/12 [==============================] - 0s 18ms/step - loss: 0.4519 - accuracy: 0.9068 - val_loss: 0.6031 - val_accuracy: 0.8197\n",
      "Epoch 2/18\n",
      "12/12 [==============================] - 0s 9ms/step - loss: 0.5483 - accuracy: 0.8712 - val_loss: 0.6637 - val_accuracy: 0.8197\n",
      "Epoch 3/18\n",
      "12/12 [==============================] - 0s 11ms/step - loss: 0.4604 - accuracy: 0.9068 - val_loss: 0.6096 - val_accuracy: 0.8197\n",
      "Epoch 4/18\n",
      "12/12 [==============================] - 0s 9ms/step - loss: 0.4359 - accuracy: 0.9151 - val_loss: 0.6027 - val_accuracy: 0.8197\n",
      "Epoch 5/18\n",
      "12/12 [==============================] - 0s 9ms/step - loss: 0.4920 - accuracy: 0.8959 - val_loss: 0.6912 - val_accuracy: 0.8197\n",
      "Epoch 6/18\n",
      "12/12 [==============================] - 0s 9ms/step - loss: 0.5551 - accuracy: 0.8685 - val_loss: 0.6388 - val_accuracy: 0.8033\n",
      "Epoch 7/18\n",
      "12/12 [==============================] - 0s 9ms/step - loss: 0.4718 - accuracy: 0.8959 - val_loss: 0.5383 - val_accuracy: 0.8852\n",
      "Epoch 8/18\n",
      "12/12 [==============================] - 0s 9ms/step - loss: 0.4294 - accuracy: 0.9178 - val_loss: 0.5557 - val_accuracy: 0.8361\n",
      "Epoch 9/18\n",
      "12/12 [==============================] - 0s 9ms/step - loss: 0.4304 - accuracy: 0.9178 - val_loss: 0.6274 - val_accuracy: 0.8197\n",
      "Epoch 10/18\n",
      "12/12 [==============================] - 0s 10ms/step - loss: 0.4944 - accuracy: 0.8795 - val_loss: 0.5353 - val_accuracy: 0.8689\n",
      "Epoch 11/18\n",
      "12/12 [==============================] - 0s 8ms/step - loss: 0.4317 - accuracy: 0.9068 - val_loss: 0.5269 - val_accuracy: 0.8689\n",
      "Epoch 12/18\n",
      "12/12 [==============================] - 0s 9ms/step - loss: 0.4368 - accuracy: 0.9178 - val_loss: 0.5088 - val_accuracy: 0.8525\n",
      "Epoch 13/18\n",
      "12/12 [==============================] - 0s 9ms/step - loss: 0.4106 - accuracy: 0.9205 - val_loss: 0.5148 - val_accuracy: 0.8197\n",
      "Epoch 14/18\n",
      "12/12 [==============================] - 0s 9ms/step - loss: 0.4214 - accuracy: 0.9151 - val_loss: 0.5985 - val_accuracy: 0.8361\n",
      "Epoch 15/18\n",
      "12/12 [==============================] - 0s 9ms/step - loss: 0.4676 - accuracy: 0.8959 - val_loss: 0.5935 - val_accuracy: 0.8689\n",
      "Epoch 16/18\n",
      "12/12 [==============================] - 0s 9ms/step - loss: 0.4835 - accuracy: 0.8795 - val_loss: 0.5579 - val_accuracy: 0.8525\n",
      "Epoch 17/18\n",
      "12/12 [==============================] - 0s 10ms/step - loss: 0.4165 - accuracy: 0.9068 - val_loss: 0.5207 - val_accuracy: 0.8852\n",
      "Epoch 18/18\n",
      "12/12 [==============================] - 0s 9ms/step - loss: 0.4025 - accuracy: 0.9233 - val_loss: 0.5121 - val_accuracy: 0.8689\n",
      "Epoch 1/18\n",
      "12/12 [==============================] - 0s 17ms/step - loss: 0.4188 - accuracy: 0.9260 - val_loss: 0.3797 - val_accuracy: 0.9180\n",
      "Epoch 2/18\n",
      "12/12 [==============================] - 0s 9ms/step - loss: 0.4221 - accuracy: 0.9068 - val_loss: 0.3770 - val_accuracy: 0.9180\n",
      "Epoch 3/18\n",
      "12/12 [==============================] - 0s 9ms/step - loss: 0.4036 - accuracy: 0.9288 - val_loss: 0.3806 - val_accuracy: 0.9180\n",
      "Epoch 4/18\n",
      "12/12 [==============================] - 0s 9ms/step - loss: 0.4053 - accuracy: 0.9205 - val_loss: 0.3752 - val_accuracy: 0.9016\n",
      "Epoch 5/18\n",
      "12/12 [==============================] - 0s 8ms/step - loss: 0.4090 - accuracy: 0.9288 - val_loss: 0.3774 - val_accuracy: 0.8852\n",
      "Epoch 6/18\n",
      "12/12 [==============================] - 0s 9ms/step - loss: 0.4066 - accuracy: 0.9123 - val_loss: 0.3916 - val_accuracy: 0.9344\n",
      "Epoch 7/18\n",
      "12/12 [==============================] - 0s 10ms/step - loss: 0.3999 - accuracy: 0.9233 - val_loss: 0.4454 - val_accuracy: 0.8852\n",
      "Epoch 8/18\n",
      "12/12 [==============================] - 0s 8ms/step - loss: 0.4282 - accuracy: 0.8849 - val_loss: 0.3796 - val_accuracy: 0.8852\n",
      "Epoch 9/18\n",
      "12/12 [==============================] - 0s 9ms/step - loss: 0.4511 - accuracy: 0.8795 - val_loss: 0.3823 - val_accuracy: 0.9180\n",
      "Epoch 10/18\n",
      "12/12 [==============================] - 0s 8ms/step - loss: 0.4021 - accuracy: 0.9151 - val_loss: 0.3872 - val_accuracy: 0.8852\n",
      "Epoch 11/18\n",
      "12/12 [==============================] - 0s 8ms/step - loss: 0.3845 - accuracy: 0.9151 - val_loss: 0.3897 - val_accuracy: 0.9016\n",
      "Epoch 12/18\n",
      "12/12 [==============================] - 0s 9ms/step - loss: 0.4016 - accuracy: 0.9233 - val_loss: 0.4517 - val_accuracy: 0.8852\n",
      "Epoch 13/18\n",
      "12/12 [==============================] - 0s 8ms/step - loss: 0.4035 - accuracy: 0.9041 - val_loss: 0.3771 - val_accuracy: 0.8852\n",
      "Epoch 14/18\n",
      "12/12 [==============================] - 0s 8ms/step - loss: 0.3802 - accuracy: 0.9205 - val_loss: 0.3821 - val_accuracy: 0.8852\n",
      "Epoch 15/18\n",
      "12/12 [==============================] - 0s 9ms/step - loss: 0.3825 - accuracy: 0.9260 - val_loss: 0.3861 - val_accuracy: 0.8852\n",
      "Epoch 16/18\n",
      "12/12 [==============================] - 0s 8ms/step - loss: 0.3735 - accuracy: 0.9288 - val_loss: 0.4704 - val_accuracy: 0.8852\n",
      "Epoch 17/18\n",
      "12/12 [==============================] - 0s 9ms/step - loss: 0.4690 - accuracy: 0.8658 - val_loss: 0.5149 - val_accuracy: 0.8525\n",
      "Epoch 18/18\n",
      "12/12 [==============================] - 0s 9ms/step - loss: 0.4187 - accuracy: 0.9096 - val_loss: 0.3873 - val_accuracy: 0.9016\n",
      "Epoch 1/18\n",
      "12/12 [==============================] - 0s 16ms/step - loss: 0.4095 - accuracy: 0.9126 - val_loss: 0.3655 - val_accuracy: 0.9500\n",
      "Epoch 2/18\n",
      "12/12 [==============================] - 0s 9ms/step - loss: 0.3710 - accuracy: 0.9208 - val_loss: 0.3453 - val_accuracy: 0.9333\n",
      "Epoch 3/18\n",
      "12/12 [==============================] - 0s 9ms/step - loss: 0.3862 - accuracy: 0.9071 - val_loss: 0.3389 - val_accuracy: 0.9500\n",
      "Epoch 4/18\n",
      "12/12 [==============================] - 0s 9ms/step - loss: 0.4031 - accuracy: 0.9044 - val_loss: 0.3341 - val_accuracy: 0.9500\n",
      "Epoch 5/18\n",
      "12/12 [==============================] - 0s 8ms/step - loss: 0.3795 - accuracy: 0.9153 - val_loss: 0.4383 - val_accuracy: 0.9333\n",
      "Epoch 6/18\n",
      "12/12 [==============================] - 0s 8ms/step - loss: 0.3920 - accuracy: 0.9098 - val_loss: 0.3498 - val_accuracy: 0.9500\n",
      "Epoch 7/18\n",
      "12/12 [==============================] - 0s 10ms/step - loss: 0.3857 - accuracy: 0.9180 - val_loss: 0.3391 - val_accuracy: 0.9500\n",
      "Epoch 8/18\n",
      "12/12 [==============================] - 0s 8ms/step - loss: 0.3688 - accuracy: 0.9290 - val_loss: 0.3330 - val_accuracy: 0.9500\n",
      "Epoch 9/18\n",
      "12/12 [==============================] - 0s 10ms/step - loss: 0.3904 - accuracy: 0.9126 - val_loss: 0.3711 - val_accuracy: 0.9500\n",
      "Epoch 10/18\n",
      "12/12 [==============================] - 0s 9ms/step - loss: 0.4002 - accuracy: 0.9071 - val_loss: 0.3367 - val_accuracy: 0.9500\n",
      "Epoch 11/18\n",
      "12/12 [==============================] - 0s 9ms/step - loss: 0.3653 - accuracy: 0.9126 - val_loss: 0.4096 - val_accuracy: 0.9167\n",
      "Epoch 12/18\n",
      "12/12 [==============================] - 0s 9ms/step - loss: 0.3876 - accuracy: 0.9153 - val_loss: 0.4116 - val_accuracy: 0.9333\n",
      "Epoch 13/18\n",
      "12/12 [==============================] - 0s 9ms/step - loss: 0.3647 - accuracy: 0.9208 - val_loss: 0.3675 - val_accuracy: 0.9500\n",
      "Epoch 14/18\n",
      "12/12 [==============================] - 0s 9ms/step - loss: 0.3576 - accuracy: 0.9290 - val_loss: 0.3685 - val_accuracy: 0.9500\n",
      "Epoch 15/18\n",
      "12/12 [==============================] - 0s 9ms/step - loss: 0.3601 - accuracy: 0.9208 - val_loss: 0.3264 - val_accuracy: 0.9500\n",
      "Epoch 16/18\n",
      "12/12 [==============================] - 0s 9ms/step - loss: 0.3722 - accuracy: 0.9098 - val_loss: 0.3276 - val_accuracy: 0.9500\n",
      "Epoch 17/18\n",
      "12/12 [==============================] - 0s 10ms/step - loss: 0.3779 - accuracy: 0.9016 - val_loss: 0.3704 - val_accuracy: 0.9500\n",
      "Epoch 18/18\n",
      "12/12 [==============================] - 0s 10ms/step - loss: 0.3518 - accuracy: 0.9317 - val_loss: 0.3358 - val_accuracy: 0.9333\n",
      "1/1 [==============================] - 0s 46ms/step - loss: 0.2782 - accuracy: 0.9688\n",
      "Most advanced model prediction accuracy is 0.96875, loss is 0.27822721004486084\n"
     ]
    }
   ],
   "source": [
    "from keras.src import regularizers\n",
    "from keras.src.layers import Dropout\n",
    "from sklearn.model_selection import StratifiedKFold\n",
    "from keras import optimizers\n",
    "\n",
    "k = 7\n",
    "reg_advanced_epochs = 18\n",
    "# reg_advanced_batch_size = 256\n",
    "regularized_scores = []\n",
    "opt = optimizers.Adam(learning_rate=0.001)\n",
    "\n",
    "regularized_advanced_model = Sequential([\n",
    "    Dense(128, activation='relu', input_shape=(seasons_data_all.shape[1],), kernel_regularizer=regularizers.l1(0.001)),\n",
    "    Dense(128, activation='relu', kernel_regularizer=regularizers.l2(0.01)),\n",
    "    # Dropout(0.02),  accuracy drops to 0.5\n",
    "    Dense(64, activation='relu'),\n",
    "    # Dense(32, activation='relu'),\n",
    "    Dense(16, activation='relu'),\n",
    "    Dense(1, activation='sigmoid')\n",
    "])\n",
    "\n",
    "regularized_advanced_model.compile(optimizer=opt,\n",
    "                                   loss='binary_crossentropy',\n",
    "                                   metrics=['accuracy'])\n",
    "\n",
    "kfold = StratifiedKFold(n_splits=k, shuffle=True, random_state=42)\n",
    "for train_idx, val_idx in kfold.split(data, target):\n",
    "    X_train_fold, X_val_fold = data[train_idx], data[val_idx]\n",
    "    y_train_fold, y_val_fold = target[train_idx], target[val_idx]\n",
    "    regularized_scores.append(regularized_advanced_model.fit(X_train_fold,\n",
    "                                                             y_train_fold,\n",
    "                                                             epochs=reg_advanced_epochs,\n",
    "                                                             #batch_size=reg_advanced_batch_size,\n",
    "                                                             validation_data=(X_val_fold, y_val_fold)))\n",
    "\n",
    "most_advanced_prediction_2022 = regularized_advanced_model.evaluate(seasons_data_2022, seasons_target_2022)\n",
    "print(\n",
    "    f'Most advanced model prediction accuracy is {most_advanced_prediction_2022[1]}, loss is {most_advanced_prediction_2022[0]}')"
   ],
   "metadata": {
    "collapsed": false,
    "ExecuteTime": {
     "end_time": "2024-02-29T18:52:51.317573Z",
     "start_time": "2024-02-29T18:52:32.963601Z"
    }
   },
   "id": "203717ef5b4867c0",
   "execution_count": 964
  },
  {
   "cell_type": "markdown",
   "id": "965fae51a80bbdef",
   "metadata": {},
   "source": [
    "# Results\n"
   ]
  },
  {
   "cell_type": "markdown",
   "source": [
    "MoneyPuck has a prediction [page](https://moneypuck.com/predictions.htm). \n",
    "They calculate odds, so I created my target vector based on those odds. \n",
    "A team gets ‘1’ if the odds are greater than 40%. \n",
    "I used this vector to see the performance of my model"
   ],
   "metadata": {
    "collapsed": false
   },
   "id": "d9291a76e761865f"
  },
  {
   "cell_type": "code",
   "outputs": [
    {
     "name": "stdout",
     "output_type": "stream",
     "text": [
      "1/1 [==============================] - 0s 119ms/step\n",
      "Prediction for season 2023-2024\n",
      "   team  playoff qualified  MoneyPack in Jan  MoneyPuck in March\n",
      "0   ANA                  0                 0                   0\n",
      "1   ARI                  0                 0                   0\n",
      "2   BOS                  1                 1                   1\n",
      "3   BUF                  0                 0                   0\n",
      "4   CAR                  1                 1                   1\n",
      "5   CBJ                  0                 0                   0\n",
      "6   CGY                  1                 0                   0\n",
      "7   CHI                  0                 0                   0\n",
      "8   COL                  1                 1                   0\n",
      "9   DAL                  1                 1                   1\n",
      "10  DET                  1                 0                   1\n",
      "11  EDM                  1                 1                   1\n",
      "12  FLA                  1                 1                   1\n",
      "13  LAK                  1                 1                   1\n",
      "14  MIN                  0                 0                   1\n",
      "15  MTL                  0                 0                   0\n",
      "16  NJD                  0                 1                   0\n",
      "17  NSH                  0                 0                   0\n",
      "18  NYI                  0                 1                   1\n",
      "19  NYR                  1                 1                   0\n",
      "20  OTT                  0                 0                   1\n",
      "21  PHI                  0                 1                   1\n",
      "22  PIT                  1                 1                   0\n",
      "23  SEA                  0                 1                   0\n",
      "24  SJS                  0                 0                   0\n",
      "25  STL                  0                 0                   0\n",
      "26  TBL                  1                 1                   1\n",
      "27  TOR                  1                 1                   1\n",
      "28  VAN                  1                 1                   1\n",
      "29  VGK                  1                 1                   1\n",
      "30  WPG                  1                 1                   0\n",
      "31  WSH                  0                 0                   0\n",
      "1/1 [==============================] - 0s 288ms/step - loss: 0.5527 - accuracy: 0.8125\n",
      "Prediction comparing to MoneyPuck (Jan 2024 with January data) accuracy is 0.8125, loss is 0.5527371764183044\n",
      "1/1 [==============================] - 0s 46ms/step - loss: 1.3682 - accuracy: 0.7188\n",
      "Prediction comparing to MoneyPuck (Mar 2024 but the same January data) accuracy is 0.71875, loss is 1.368214726448059\n"
     ]
    }
   ],
   "source": [
    "advanced_prediction_2023 = regularized_advanced_model.predict(seasons_data_2023).flatten()\n",
    "# print(advanced_prediction_2023)\n",
    "round_advanced_prediction_2023 = np.where(advanced_prediction_2023 >= 0.8, 1, 0)\n",
    "final_prediction_2023 = pd.DataFrame(\n",
    "    {\"team\": seasons_teams_2022,\n",
    "     \"playoff qualified\": round_advanced_prediction_2023,\n",
    "     \"MoneyPack in Jan\": seasons_target_2023,\n",
    "     \"MoneyPuck in March\" : seasons_target_2023_march\n",
    "     }\n",
    ")\n",
    "print(f'Prediction for season 2023-2024\\n{final_prediction_2023}')\n",
    "\n",
    "\n",
    "against_money_puck_prediction_2023 = regularized_advanced_model.evaluate(seasons_data_2023,\n",
    "                                                                         np.array(seasons_target_2023))\n",
    "print(\n",
    "    f'Prediction comparing to MoneyPuck (Jan 2024 with January data) accuracy is {against_money_puck_prediction_2023[1]}, loss is {against_money_puck_prediction_2023[0]}')\n",
    "\n",
    "against_money_puck_prediction_2023_march = regularized_advanced_model.evaluate(seasons_data_2023,\n",
    "                                                                               np.array(seasons_target_2023_march))\n",
    "print(\n",
    "    f'Prediction comparing to MoneyPuck (Mar 2024 but the same January data) accuracy is {against_money_puck_prediction_2023_march[1]}, loss is {against_money_puck_prediction_2023_march[0]}')\n",
    "\n"
   ],
   "metadata": {
    "collapsed": false,
    "ExecuteTime": {
     "end_time": "2024-02-29T18:52:52.010284Z",
     "start_time": "2024-02-29T18:52:51.319567Z"
    }
   },
   "id": "49cab30cdf2782cc",
   "execution_count": 965
  },
  {
   "cell_type": "markdown",
   "id": "b4517e35d75ca1e",
   "metadata": {},
   "source": [
    "# Evaluation\n",
    "for advanced overfitting after k=7 abd epocs > 20"
   ]
  },
  {
   "cell_type": "markdown",
   "id": "e7278f61abb9ad56",
   "metadata": {},
   "source": [
    "# Conclusions"
   ]
  },
  {
   "cell_type": "markdown",
   "id": "7a4a6748c954bbd4",
   "metadata": {},
   "source": [
    "# References\n"
   ]
  }
 ],
 "metadata": {
  "kernelspec": {
   "display_name": "Python 3 (ipykernel)",
   "language": "python",
   "name": "python3"
  },
  "language_info": {
   "codemirror_mode": {
    "name": "ipython",
    "version": 3
   },
   "file_extension": ".py",
   "mimetype": "text/x-python",
   "name": "python",
   "nbconvert_exporter": "python",
   "pygments_lexer": "ipython3",
   "version": "3.9.2"
  }
 },
 "nbformat": 4,
 "nbformat_minor": 5
}
