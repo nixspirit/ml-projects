{
 "cells": [
  {
   "cell_type": "markdown",
   "id": "fcb1cba37ce89672",
   "metadata": {},
   "source": [
    "# Abstract\n",
    "\n",
    "This work aims to predict the qualification for the playoffs in the upcoming NHL season (2023-2024) based on the game features using neural network.\n",
    "This work is continuation of the Midterm work which used the kNN and Decision tree algorithms for prediction.\n"
   ]
  },
  {
   "cell_type": "markdown",
   "id": "fa472f5ad63a776c",
   "metadata": {},
   "source": [
    "# Introduction\n",
    "\n",
    "The National Hockey League is a professional ice hockey league in North America consisting of 32 (as of 2023) teams: 25 in the United States and 7 in Canada. \n",
    "Eight teams from each of the two conferences qualify for the playoffs based on their total regular season points.\n",
    "Thus, it is not possible to win the Stanley Cup without being qualified for playoffs. \n",
    "\n",
    "Making precise predictions might help coaches improve team game strategies and adjust plans before the next game.\n",
    "\n",
    "The dataset was taken from the MoneyPuck [source](https://moneypuck.com/moneypuck/playerData/careers/gameByGame/all_teams.csv). \n",
    "The data is free to use. No guarantees are made to the quality of the data. NHL data is known to have issues and biases. \n",
    "Data is summarized on the season level and a game-by-game level going from 2008 up to 2023. \n",
    "The data for 2022 and 2023 will be filtered out because the prediction is going to be made for the 2022-2024 seasons \n",
    "and data for seasons up to 2022 is taken from the [file](https://moneypuck.com/moneypuck/playerData/seasonSummary/2023/regular/teams.csv)\n",
    "\n"
   ]
  },
  {
   "cell_type": "code",
   "execution_count": 886,
   "id": "initial_id",
   "metadata": {
    "collapsed": true,
    "ExecuteTime": {
     "end_time": "2024-02-29T18:42:37.795401Z",
     "start_time": "2024-02-29T18:42:37.786568Z"
    }
   },
   "outputs": [],
   "source": [
    "%matplotlib inline\n",
    "import warnings\n",
    "\n",
    "warnings.filterwarnings('ignore')\n",
    "import numpy as np\n",
    "import matplotlib.pyplot as plt\n",
    "import pandas as pd\n",
    "\n",
    "from keras import models\n",
    "from keras import layers"
   ]
  },
  {
   "cell_type": "markdown",
   "id": "41ab4aaaecd80455",
   "metadata": {},
   "source": [
    "# Methodology\n"
   ]
  },
  {
   "cell_type": "code",
   "execution_count": 886,
   "id": "b521ba8fd094409a",
   "metadata": {
    "ExecuteTime": {
     "end_time": "2024-02-29T18:42:38.085383Z",
     "start_time": "2024-02-29T18:42:38.082258Z"
    }
   },
   "outputs": [],
   "source": []
  },
  {
   "cell_type": "markdown",
   "id": "e1c96597034093f3",
   "metadata": {},
   "source": [
    "## 4.5.1. Defining the problem and assembling a dataset"
   ]
  },
  {
   "cell_type": "markdown",
   "id": "44eeff17c8d789f",
   "metadata": {},
   "source": [
    "I am trying to predict whether a team is qualified for playoff or not based on historical data. \n",
    "The historical data contains the column `playoffGame` a flag depicting whether a game was played during playoffs. \n",
    "Thus, if a team plays at least one game during the season’s playoff it means that the team has been qualified for the playoff.\n",
    "This is binary classification problem"
   ]
  },
  {
   "cell_type": "code",
   "outputs": [],
   "source": [
    "def read_nhl_data():\n",
    "    _nhl_data = pd.read_csv('moneypack/all_teams.csv')\n",
    "    _nhl_data = _nhl_data.dropna()\n",
    "\n",
    "    columns_to_drop = [\n",
    "        'name', 'gameId', 'playerTeam',\n",
    "        'opposingTeam', 'home_or_away',\n",
    "        'gameDate', 'position',\n",
    "        'situation', 'iceTime',\n",
    "        #'playoffGame'\n",
    "    ]\n",
    "\n",
    "    _nhl_data = _nhl_data.sort_values(by=['team', 'season'])\n",
    "    _nhl_data = _nhl_data.drop(columns=columns_to_drop)\n",
    "    _nhl_data = _nhl_data.groupby(['team', 'season'], as_index=False).mean()\n",
    "    _nhl_data['playoff_qualified'] = _nhl_data['playoffGame'].apply(lambda val: 1 if val > 0 else 0)\n",
    "    _nhl_data = _nhl_data.drop(columns=['playoffGame'])\n",
    "\n",
    "    return _nhl_data\n",
    "\n",
    "\n",
    "def read_nhl_data_2023():\n",
    "    _nhl_data_2023 = pd.read_csv('moneypack/teams_2023.csv')\n",
    "    columns_to_drop_from_2023 = ['name', 'position', 'situation', 'iceTime', 'team.1', 'games_played']\n",
    "\n",
    "    _nhl_data_2023 = _nhl_data_2023.dropna()\n",
    "    _nhl_data_2023 = _nhl_data_2023.drop(columns=columns_to_drop_from_2023)\n",
    "    _nhl_data_2023 = _nhl_data_2023.sort_values(by=['team', 'season'])\n",
    "    _nhl_data_2023 = _nhl_data_2023.groupby(['team', 'season']).mean()\n",
    "    return _nhl_data_2023\n",
    "\n",
    "\n",
    "def get_team_names(_team_data):\n",
    "    duplicates = pd.DataFrame(_team_data['team']).drop_duplicates(subset=None, keep='first', inplace=False,\n",
    "                                                                  ignore_index=False)\n",
    "    duplicates = duplicates.sort_values(by=['team'])\n",
    "    return duplicates['team'].values"
   ],
   "metadata": {
    "collapsed": false,
    "ExecuteTime": {
     "end_time": "2024-02-29T18:42:38.150902Z",
     "start_time": "2024-02-29T18:42:38.127361Z"
    }
   },
   "id": "6e2dcd40cc95a952",
   "execution_count": 887
  },
  {
   "cell_type": "code",
   "outputs": [],
   "source": [
    "by_team_season_all = read_nhl_data()\n",
    "by_team_season_all = by_team_season_all[(by_team_season_all['season'] != 2023)]\n",
    "by_team_season_all = by_team_season_all[(by_team_season_all['season'] != 2022)]\n",
    "\n",
    "seasons_data_all = by_team_season_all.drop(columns=['playoff_qualified', 'season', 'team'])\n",
    "seasons_target_all = by_team_season_all['playoff_qualified'].values"
   ],
   "metadata": {
    "collapsed": false,
    "ExecuteTime": {
     "end_time": "2024-02-29T18:42:42.402762Z",
     "start_time": "2024-02-29T18:42:38.238665Z"
    }
   },
   "id": "c74d6ed183281fd9",
   "execution_count": 888
  },
  {
   "cell_type": "markdown",
   "source": [],
   "metadata": {
    "collapsed": false
   },
   "id": "73899362aede06e1"
  },
  {
   "cell_type": "markdown",
   "id": "7ad4cd55a87b585d",
   "metadata": {},
   "source": [
    "## 4.5.2. Choosing a measure of success\n",
    "To select the main metrics for success for the binary classification problem we need to understand if the classes are approximately equal.\n",
    "Try to visualize the classes and calculate the imbalance ratio as follows"
   ]
  },
  {
   "cell_type": "code",
   "outputs": [],
   "source": [],
   "metadata": {
    "collapsed": false,
    "ExecuteTime": {
     "end_time": "2024-02-29T18:42:42.409367Z",
     "start_time": "2024-02-29T18:42:42.404762Z"
    }
   },
   "id": "d06d37087a8c718f",
   "execution_count": 888
  },
  {
   "cell_type": "code",
   "outputs": [
    {
     "name": "stdout",
     "output_type": "stream",
     "text": [
      "Class Counts: 1    232\n",
      "0    194\n",
      "Name: count, dtype: int64\n",
      "Class Proportions: 1    0.544601\n",
      "0    0.455399\n",
      "Name: proportion, dtype: float64\n",
      "Imbalance Ratio: 0.8362068965517241\n"
     ]
    },
    {
     "data": {
      "text/plain": "<Figure size 640x480 with 1 Axes>",
      "image/png": "[encoded data removed]"
     },
     "metadata": {},
     "output_type": "display_data"
    }
   ],
   "source": [
    "class_counts = pd.Series(seasons_target_all).value_counts()\n",
    "class_proportions = pd.Series(seasons_target_all).value_counts(normalize=True)\n",
    "imbalance_ratio = class_counts[0] / class_counts[1]  # Assuming binary classification\n",
    "print(\"Class Counts:\", class_counts)\n",
    "print(\"Class Proportions:\", class_proportions)\n",
    "print(\"Imbalance Ratio:\", imbalance_ratio)\n",
    "plt.hist(seasons_target_all)\n",
    "plt.xlabel('Class')\n",
    "plt.ylabel('Frequency')\n",
    "plt.title('Distribution of Target Classes')\n",
    "plt.show()"
   ],
   "metadata": {
    "collapsed": false,
    "ExecuteTime": {
     "end_time": "2024-02-29T18:42:42.814507Z",
     "start_time": "2024-02-29T18:42:42.411381Z"
    }
   },
   "id": "5e797207fcc17bb9",
   "execution_count": 889
  },
  {
   "cell_type": "markdown",
   "source": [
    "Classes are almost balanced and the Accuracy can be used as the main metrics for success. \n",
    "TBD it defines the loss function. "
   ],
   "metadata": {
    "collapsed": false
   },
   "id": "f3528a19b44805e3"
  },
  {
   "cell_type": "markdown",
   "id": "2a947604b3fd74ff",
   "metadata": {},
   "source": [
    "## 4.5.3. Deciding on an evaluation protocol\n",
    "Doing iterated K-fold validation— For performing highly accurate model evaluation when little data is available"
   ]
  },
  {
   "cell_type": "markdown",
   "id": "f830df088eebb7d0",
   "metadata": {},
   "source": [
    "## 4.5.4. Preparing your data\n",
    " data should be formatted as tensors.\n",
    " The values taken by these tensors should usually be scaled to small values: for example, in the [-1, 1] range or [0, 1] range.\n",
    " the data should be normalized."
   ]
  },
  {
   "cell_type": "markdown",
   "source": [
    "Get data for 2022 as test set?"
   ],
   "metadata": {
    "collapsed": false
   },
   "id": "2853c0e78702bf8"
  },
  {
   "cell_type": "code",
   "outputs": [],
   "source": [
    "by_team_season_all = read_nhl_data()\n",
    "by_team_season_all = by_team_season_all[(by_team_season_all['season'] == 2022)]\n",
    "\n",
    "seasons_teams_2022 = get_team_names(by_team_season_all)\n",
    "seasons_data_2022 = by_team_season_all.drop(columns=['playoff_qualified', 'season', 'team'])\n",
    "seasons_target_2022 = by_team_season_all['playoff_qualified'].values"
   ],
   "metadata": {
    "collapsed": false,
    "ExecuteTime": {
     "end_time": "2024-02-29T18:42:46.037461Z",
     "start_time": "2024-02-29T18:42:42.819511Z"
    }
   },
   "id": "c4ca28df390a5ce3",
   "execution_count": 890
  },
  {
   "cell_type": "markdown",
   "source": [
    "Get data for 2023 as validation set?"
   ],
   "metadata": {
    "collapsed": false
   },
   "id": "e1c3bc74ae86db9"
  },
  {
   "cell_type": "code",
   "outputs": [],
   "source": [
    "seasons_data_2023 = read_nhl_data_2023()\n",
    "seasons_teams_2023 = get_team_names(pd.read_csv('moneypack/teams_2023.csv'))\n",
    "seasons_target_2023 = [0, 0, 1, 0, 1, 0, 0, 0, 1, 1, 0, 1, 1, 1, 0, 0, 1, 0, 1, 1, 0, 1, 1, 1, 0, 0, 1, 1, 1, 1, 1,\n",
    "                       0]  #<40\n",
    "seasons_target_2023_march = [0, 0, 1, 0, 1, 0, 0, 0, 0, 1, 1, 1, 1, 1, 1, 0, 0, 0, 1, 0, 1, 1, 0, 0, 0, 0, 1, 1, 1, 1,\n",
    "                             0, 0]"
   ],
   "metadata": {
    "collapsed": false,
    "ExecuteTime": {
     "end_time": "2024-02-29T18:42:46.080216Z",
     "start_time": "2024-02-29T18:42:46.039020Z"
    }
   },
   "id": "711c48d3811df5b0",
   "execution_count": 891
  },
  {
   "cell_type": "markdown",
   "source": [
    "Transform features by scaling each feature to a given range.\n",
    "This MinMaxScaler estimator scales and translates each feature individually such that it is in the given range on the training set, between zero and one."
   ],
   "metadata": {
    "collapsed": false
   },
   "id": "a73eaa3de89a74b7"
  },
  {
   "cell_type": "code",
   "outputs": [
    {
     "name": "stdout",
     "output_type": "stream",
     "text": [
      "[[0.         0.05098676 0.05835644 ... 0.98334063 1.         1.        ]\n",
      " [0.13453518 0.         0.         ... 1.         0.99729324 0.97581056]\n",
      " [0.85038411 0.71967475 0.70747693 ... 0.29028081 0.26721015 0.26381488]\n",
      " ...\n",
      " [0.63753181 0.32678133 0.4863255  ... 0.23511574 0.22135281 0.23107669]\n",
      " [0.64870309 0.51797002 0.55173883 ... 0.36275068 0.35802139 0.35461815]\n",
      " [0.54873341 0.53459687 0.5518523  ... 0.52671626 0.52122417 0.52591267]]\n"
     ]
    }
   ],
   "source": [
    "from sklearn.preprocessing import MinMaxScaler\n",
    "\n",
    "scaler = MinMaxScaler()\n",
    "seasons_data_all = scaler.fit_transform(seasons_data_all)\n",
    "seasons_data_2022 = scaler.fit_transform(seasons_data_2022)\n",
    "seasons_data_2023 = scaler.fit_transform(seasons_data_2023)\n",
    "print(seasons_data_2022)"
   ],
   "metadata": {
    "collapsed": false,
    "ExecuteTime": {
     "end_time": "2024-02-29T18:42:46.119906Z",
     "start_time": "2024-02-29T18:42:46.082217Z"
    }
   },
   "id": "343441cd66dbbf76",
   "execution_count": 892
  },
  {
   "cell_type": "markdown",
   "id": "7c58da94271a26ea",
   "metadata": {},
   "source": [
    "## 4.5.5. Developing a model that does better than a baseline\n",
    "Assuming that things go well, you need to make three key choices to build your first working model:\n",
    "\n",
    "Last-layer activation - sigmoid in the last layer\n",
    "Loss function - binary_crossentropy\n",
    "Optimization configuration - What optimizer will you use? What will its learning rate be? In most cases, it’s safe to go with rmsprop and its default learning rate"
   ]
  },
  {
   "cell_type": "code",
   "outputs": [],
   "source": [
    "def plot_history(title, xlabel, ylabel, plot1_label, plot1_vals, plot2_label, plot2_vals):\n",
    "    plt.clf()\n",
    "    epochs = range(1, len(plot1_vals) + 1)\n",
    "    plt.plot(epochs, plot1_vals, 'bo', label=plot1_label)\n",
    "    plt.plot(epochs, plot2_vals, 'b', label=plot2_label)\n",
    "    plt.title(title)\n",
    "    plt.xlabel(xlabel)\n",
    "    plt.ylabel(ylabel)\n",
    "    plt.legend()\n",
    "    plt.show()"
   ],
   "metadata": {
    "collapsed": false,
    "ExecuteTime": {
     "end_time": "2024-02-29T18:42:46.130439Z",
     "start_time": "2024-02-29T18:42:46.122936Z"
    }
   },
   "id": "37be71b9ff9e4415",
   "execution_count": 893
  },
  {
   "cell_type": "code",
   "outputs": [],
   "source": [
    "limit = 320\n",
    "\n",
    "data = seasons_data_all\n",
    "target = seasons_target_all\n",
    "\n",
    "x_val = data[:limit]\n",
    "y_val = target[:limit]\n",
    "partial_x_train = data[limit:]\n",
    "partial_y_train = target[limit:]\n"
   ],
   "metadata": {
    "collapsed": false,
    "ExecuteTime": {
     "end_time": "2024-02-29T18:42:46.142976Z",
     "start_time": "2024-02-29T18:42:46.133432Z"
    }
   },
   "id": "2d4cc31d55bcf7eb",
   "execution_count": 894
  },
  {
   "cell_type": "markdown",
   "source": [
    "baseline model\n",
    "“stratified”: This strategy randomly selects class labels based on the class distribution in the training set. It aims to maintain the same class distribution as the training data, making it useful for imbalanced classes."
   ],
   "metadata": {
    "collapsed": false
   },
   "id": "1fcd290cbae8f034"
  },
  {
   "cell_type": "code",
   "outputs": [
    {
     "name": "stdout",
     "output_type": "stream",
     "text": [
      "Random baseline model accuracy 0.46875\n"
     ]
    }
   ],
   "source": [
    "from sklearn.metrics import accuracy_score\n",
    "#https://medium.com/@preethi_prakash/understanding-baseline-models-in-machine-learning-3ed94f03d645\n",
    "\n",
    "from sklearn.dummy import DummyClassifier\n",
    "\n",
    "dummy_clf = DummyClassifier(strategy='stratified', random_state=42)\n",
    "dummy_clf.fit(partial_x_train, partial_y_train)\n",
    "baseline_y_pred = dummy_clf.predict(seasons_data_2022)\n",
    "dummy_model_accuracy = accuracy_score(seasons_target_2022, baseline_y_pred)\n",
    "print(f'Random baseline model accuracy {dummy_model_accuracy}')\n"
   ],
   "metadata": {
    "collapsed": false,
    "ExecuteTime": {
     "end_time": "2024-02-29T18:42:46.162502Z",
     "start_time": "2024-02-29T18:42:46.145956Z"
    }
   },
   "id": "b6dc6cbd7a5dfb31",
   "execution_count": 895
  },
  {
   "cell_type": "markdown",
   "source": [
    "model better than baseline\n",
    "you’ll now train the model for 20 epochs (20 iterations over all samples in the x_train and y_train tensors), in mini-batches of 512 samples.\n",
    " At the same time, you’ll monitor loss and accuracy on the 10,000 samples that you set apart. You do so by passing the validation data as the validation_data argument.\n",
    " train on the training data and evaluate your model on the validation data. \n",
    "Simple hold-out validation"
   ],
   "metadata": {
    "collapsed": false
   },
   "id": "10b165253318dcc6"
  },
  {
   "cell_type": "code",
   "outputs": [
    {
     "name": "stdout",
     "output_type": "stream",
     "text": [
      "Epoch 1/30\n",
      "4/4 [==============================] - 1s 117ms/step - loss: 0.6299 - accuracy: 0.6792 - val_loss: 0.7572 - val_accuracy: 0.5031\n",
      "Epoch 2/30\n",
      "4/4 [==============================] - 0s 29ms/step - loss: 0.5933 - accuracy: 0.6698 - val_loss: 0.7181 - val_accuracy: 0.5063\n",
      "Epoch 3/30\n",
      "4/4 [==============================] - 0s 31ms/step - loss: 0.5689 - accuracy: 0.6792 - val_loss: 0.6528 - val_accuracy: 0.5375\n",
      "Epoch 4/30\n",
      "4/4 [==============================] - 0s 30ms/step - loss: 0.5454 - accuracy: 0.6981 - val_loss: 0.5908 - val_accuracy: 0.7531\n",
      "Epoch 5/30\n",
      "4/4 [==============================] - 0s 28ms/step - loss: 0.5251 - accuracy: 0.8113 - val_loss: 0.7601 - val_accuracy: 0.5125\n",
      "Epoch 6/30\n",
      "4/4 [==============================] - 0s 29ms/step - loss: 0.5614 - accuracy: 0.7264 - val_loss: 0.5742 - val_accuracy: 0.7406\n",
      "Epoch 7/30\n",
      "4/4 [==============================] - 0s 30ms/step - loss: 0.5072 - accuracy: 0.7925 - val_loss: 0.5909 - val_accuracy: 0.6562\n",
      "Epoch 8/30\n",
      "4/4 [==============================] - 0s 30ms/step - loss: 0.5015 - accuracy: 0.7642 - val_loss: 0.5430 - val_accuracy: 0.7750\n",
      "Epoch 9/30\n",
      "4/4 [==============================] - 0s 29ms/step - loss: 0.4923 - accuracy: 0.8113 - val_loss: 0.5594 - val_accuracy: 0.7281\n",
      "Epoch 10/30\n",
      "4/4 [==============================] - 0s 29ms/step - loss: 0.4776 - accuracy: 0.8019 - val_loss: 0.5925 - val_accuracy: 0.6594\n",
      "Epoch 11/30\n",
      "4/4 [==============================] - 0s 27ms/step - loss: 0.4878 - accuracy: 0.8019 - val_loss: 0.7213 - val_accuracy: 0.5688\n",
      "Epoch 12/30\n",
      "4/4 [==============================] - 0s 27ms/step - loss: 0.4826 - accuracy: 0.7736 - val_loss: 0.5067 - val_accuracy: 0.8000\n",
      "Epoch 13/30\n",
      "4/4 [==============================] - 0s 31ms/step - loss: 0.4792 - accuracy: 0.8113 - val_loss: 0.5051 - val_accuracy: 0.7906\n",
      "Epoch 14/30\n",
      "4/4 [==============================] - 0s 28ms/step - loss: 0.4495 - accuracy: 0.8208 - val_loss: 0.5628 - val_accuracy: 0.7250\n",
      "Epoch 15/30\n",
      "4/4 [==============================] - 0s 30ms/step - loss: 0.4501 - accuracy: 0.8113 - val_loss: 0.6185 - val_accuracy: 0.6500\n",
      "Epoch 16/30\n",
      "4/4 [==============================] - 0s 31ms/step - loss: 0.4502 - accuracy: 0.8019 - val_loss: 0.4919 - val_accuracy: 0.7969\n",
      "Epoch 17/30\n",
      "4/4 [==============================] - 0s 28ms/step - loss: 0.4327 - accuracy: 0.8208 - val_loss: 0.4871 - val_accuracy: 0.7969\n",
      "Epoch 18/30\n",
      "4/4 [==============================] - 0s 30ms/step - loss: 0.4532 - accuracy: 0.8113 - val_loss: 0.5339 - val_accuracy: 0.7469\n",
      "Epoch 19/30\n",
      "4/4 [==============================] - 0s 31ms/step - loss: 0.4348 - accuracy: 0.8113 - val_loss: 0.5804 - val_accuracy: 0.7031\n",
      "Epoch 20/30\n",
      "4/4 [==============================] - 0s 28ms/step - loss: 0.4255 - accuracy: 0.8208 - val_loss: 0.4752 - val_accuracy: 0.7969\n",
      "Epoch 21/30\n",
      "4/4 [==============================] - 0s 28ms/step - loss: 0.4284 - accuracy: 0.8396 - val_loss: 0.4640 - val_accuracy: 0.7906\n",
      "Epoch 22/30\n",
      "4/4 [==============================] - 0s 29ms/step - loss: 0.4191 - accuracy: 0.8019 - val_loss: 0.4748 - val_accuracy: 0.7969\n",
      "Epoch 23/30\n",
      "4/4 [==============================] - 0s 29ms/step - loss: 0.4219 - accuracy: 0.7736 - val_loss: 0.4763 - val_accuracy: 0.7875\n",
      "Epoch 24/30\n",
      "4/4 [==============================] - 0s 29ms/step - loss: 0.4071 - accuracy: 0.8208 - val_loss: 0.4606 - val_accuracy: 0.7937\n",
      "Epoch 25/30\n",
      "4/4 [==============================] - 0s 29ms/step - loss: 0.3936 - accuracy: 0.8302 - val_loss: 0.5664 - val_accuracy: 0.7281\n",
      "Epoch 26/30\n",
      "4/4 [==============================] - 0s 29ms/step - loss: 0.4173 - accuracy: 0.8019 - val_loss: 0.4480 - val_accuracy: 0.8156\n",
      "Epoch 27/30\n",
      "4/4 [==============================] - 0s 27ms/step - loss: 0.4042 - accuracy: 0.8302 - val_loss: 0.5160 - val_accuracy: 0.7594\n",
      "Epoch 28/30\n",
      "4/4 [==============================] - 0s 28ms/step - loss: 0.4012 - accuracy: 0.8585 - val_loss: 0.5680 - val_accuracy: 0.7281\n",
      "Epoch 29/30\n",
      "4/4 [==============================] - 0s 29ms/step - loss: 0.3964 - accuracy: 0.7925 - val_loss: 0.4562 - val_accuracy: 0.8000\n",
      "Epoch 30/30\n",
      "4/4 [==============================] - 0s 30ms/step - loss: 0.3954 - accuracy: 0.8396 - val_loss: 0.4436 - val_accuracy: 0.7969\n"
     ]
    },
    {
     "data": {
      "text/plain": "<Figure size 640x480 with 1 Axes>",
      "image/png": "[encoded data removed]"
     },
     "metadata": {},
     "output_type": "display_data"
    },
    {
     "data": {
      "text/plain": "<Figure size 640x480 with 1 Axes>",
      "image/png": "[encoded data removed]"
     },
     "metadata": {},
     "output_type": "display_data"
    }
   ],
   "source": [
    "from keras.src.layers import Dense\n",
    "from keras import Sequential\n",
    "\n",
    "model = Sequential([\n",
    "    Dense(64, activation='relu', input_shape=(seasons_data_all.shape[1],)),\n",
    "    Dense(32, activation='relu'),\n",
    "    Dense(1, activation='sigmoid')\n",
    "])\n",
    "\n",
    "model.compile(optimizer='rmsprop',\n",
    "              loss='binary_crossentropy',\n",
    "              metrics=['accuracy'])\n",
    "\n",
    "history = model.fit(partial_x_train,\n",
    "                    partial_y_train,\n",
    "                    epochs=30,\n",
    "                    validation_data=(x_val, y_val))\n",
    "\n",
    "history_dict = history.history\n",
    "plot_history('Training and validation loss', 'Epochs', 'Loss',\n",
    "             'Training loss', history_dict['loss'], 'Validation loss', history_dict['val_loss'])\n",
    "plot_history('Training and validation accuracy', 'Epochs', 'Accuracy',\n",
    "             'Training acc', history_dict['accuracy'], 'Validation acc', history_dict['val_accuracy'])\n"
   ],
   "metadata": {
    "collapsed": false,
    "ExecuteTime": {
     "end_time": "2024-02-29T18:42:51.222711Z",
     "start_time": "2024-02-29T18:42:46.169497Z"
    }
   },
   "id": "54d56bef41604bb5",
   "execution_count": 896
  },
  {
   "cell_type": "markdown",
   "source": [
    "As you can see, the training loss decreases with every epoch, and the training accuracy increases with every epoch. That’s what you would expect when running gradient-descent optimization—the quantity you’re trying to minimize should be less with every iteration"
   ],
   "metadata": {
    "collapsed": false
   },
   "id": "8ae3f9eabe1c4da4"
  },
  {
   "cell_type": "markdown",
   "source": [
    "Test it on the test data for 2022"
   ],
   "metadata": {
    "collapsed": false
   },
   "id": "cde6bde06e877c97"
  },
  {
   "cell_type": "code",
   "outputs": [
    {
     "name": "stdout",
     "output_type": "stream",
     "text": [
      "1/1 [==============================] - 0s 36ms/step - loss: 0.3664 - accuracy: 0.9062\n",
      "Simple model prediction accuracy is 0.90625, loss is 0.3663997948169708\n"
     ]
    }
   ],
   "source": [
    "simple_prediction_2022 = model.evaluate(seasons_data_2022, seasons_target_2022)\n",
    "print(f'Simple model prediction accuracy is {simple_prediction_2022[1]}, loss is {simple_prediction_2022[0]}')"
   ],
   "metadata": {
    "collapsed": false,
    "ExecuteTime": {
     "end_time": "2024-02-29T18:42:51.343170Z",
     "start_time": "2024-02-29T18:42:51.224726Z"
    }
   },
   "id": "b2b282b47b243383",
   "execution_count": 897
  },
  {
   "cell_type": "markdown",
   "source": [],
   "metadata": {
    "collapsed": false
   },
   "id": "73b65cb16dfe5f28"
  },
  {
   "cell_type": "markdown",
   "source": [
    "You train on the training data and evaluate your model on the validation data. \n",
    "Once your model is ready for prime time, you test it one final time on the test data. \n",
    "(2022 test data)\n",
    "2023 - new data for prediction\n",
    "so i need to split seasons_data_all_features to training and validation data"
   ],
   "metadata": {
    "collapsed": false
   },
   "id": "37b00dc4ef82c03f"
  },
  {
   "cell_type": "markdown",
   "id": "13e6ee7e9510046d",
   "metadata": {},
   "source": [
    "## 4.5.6. Scaling up: developing a model that overfits\n",
    "To figure out how big a model you’ll need, you must develop a model that overfits. This is fairly easy:\n",
    "\n",
    "Add layers.\n",
    "Make the layers bigger.\n",
    "Train for more epochs."
   ]
  },
  {
   "cell_type": "markdown",
   "source": [
    "This one is for situations in which you have relatively little data available and you need to evaluate your model as precisely as possible."
   ],
   "metadata": {
    "collapsed": false
   },
   "id": "8c3283e232d6340f"
  },
  {
   "cell_type": "code",
   "outputs": [
    {
     "name": "stdout",
     "output_type": "stream",
     "text": [
      "Epoch 1/20\n",
      "11/11 [==============================] - 1s 36ms/step - loss: 0.6829 - accuracy: 0.6235 - val_loss: 0.6248 - val_accuracy: 0.5698\n",
      "Epoch 2/20\n",
      "11/11 [==============================] - 0s 10ms/step - loss: 0.6124 - accuracy: 0.7029 - val_loss: 0.6637 - val_accuracy: 0.5698\n",
      "Epoch 3/20\n",
      "11/11 [==============================] - 0s 11ms/step - loss: 0.5446 - accuracy: 0.7500 - val_loss: 0.4523 - val_accuracy: 0.8372\n",
      "Epoch 4/20\n",
      "11/11 [==============================] - 0s 11ms/step - loss: 0.5041 - accuracy: 0.7500 - val_loss: 0.4382 - val_accuracy: 0.8256\n",
      "Epoch 5/20\n",
      "11/11 [==============================] - 0s 10ms/step - loss: 0.5244 - accuracy: 0.7412 - val_loss: 0.4301 - val_accuracy: 0.8372\n",
      "Epoch 6/20\n",
      "11/11 [==============================] - 0s 10ms/step - loss: 0.4798 - accuracy: 0.7765 - val_loss: 0.3687 - val_accuracy: 0.8721\n",
      "Epoch 7/20\n",
      "11/11 [==============================] - 0s 10ms/step - loss: 0.4770 - accuracy: 0.7588 - val_loss: 0.4952 - val_accuracy: 0.7209\n",
      "Epoch 8/20\n",
      "11/11 [==============================] - 0s 10ms/step - loss: 0.4633 - accuracy: 0.7735 - val_loss: 0.4840 - val_accuracy: 0.7791\n",
      "Epoch 9/20\n",
      "11/11 [==============================] - 0s 11ms/step - loss: 0.4414 - accuracy: 0.7824 - val_loss: 0.3637 - val_accuracy: 0.8488\n",
      "Epoch 10/20\n",
      "11/11 [==============================] - 0s 9ms/step - loss: 0.4377 - accuracy: 0.8000 - val_loss: 0.3535 - val_accuracy: 0.8605\n",
      "Epoch 11/20\n",
      "11/11 [==============================] - 0s 10ms/step - loss: 0.4130 - accuracy: 0.8118 - val_loss: 0.4256 - val_accuracy: 0.8256\n",
      "Epoch 12/20\n",
      "11/11 [==============================] - 0s 9ms/step - loss: 0.4139 - accuracy: 0.8235 - val_loss: 0.3593 - val_accuracy: 0.8488\n",
      "Epoch 13/20\n",
      "11/11 [==============================] - 0s 9ms/step - loss: 0.4023 - accuracy: 0.8118 - val_loss: 0.3063 - val_accuracy: 0.8837\n",
      "Epoch 14/20\n",
      "11/11 [==============================] - 0s 10ms/step - loss: 0.4116 - accuracy: 0.8000 - val_loss: 0.3087 - val_accuracy: 0.8953\n",
      "Epoch 15/20\n",
      "11/11 [==============================] - 0s 10ms/step - loss: 0.4242 - accuracy: 0.7971 - val_loss: 0.4428 - val_accuracy: 0.8023\n",
      "Epoch 16/20\n",
      "11/11 [==============================] - 0s 10ms/step - loss: 0.3814 - accuracy: 0.8412 - val_loss: 0.2844 - val_accuracy: 0.8953\n",
      "Epoch 17/20\n",
      "11/11 [==============================] - 0s 10ms/step - loss: 0.3856 - accuracy: 0.8382 - val_loss: 0.2832 - val_accuracy: 0.8953\n",
      "Epoch 18/20\n",
      "11/11 [==============================] - 0s 9ms/step - loss: 0.3551 - accuracy: 0.8559 - val_loss: 0.2967 - val_accuracy: 0.8605\n",
      "Epoch 19/20\n",
      "11/11 [==============================] - 0s 9ms/step - loss: 0.3449 - accuracy: 0.8471 - val_loss: 0.2827 - val_accuracy: 0.8837\n",
      "Epoch 20/20\n",
      "11/11 [==============================] - 0s 10ms/step - loss: 0.3551 - accuracy: 0.8412 - val_loss: 0.6117 - val_accuracy: 0.6977\n",
      "Epoch 1/20\n",
      "11/11 [==============================] - 0s 17ms/step - loss: 0.3478 - accuracy: 0.8563 - val_loss: 0.3091 - val_accuracy: 0.8824\n",
      "Epoch 2/20\n",
      "11/11 [==============================] - 0s 10ms/step - loss: 0.3405 - accuracy: 0.8446 - val_loss: 0.3082 - val_accuracy: 0.8471\n",
      "Epoch 3/20\n",
      "11/11 [==============================] - 0s 10ms/step - loss: 0.3560 - accuracy: 0.8446 - val_loss: 0.4121 - val_accuracy: 0.8235\n",
      "Epoch 4/20\n",
      "11/11 [==============================] - 0s 9ms/step - loss: 0.3176 - accuracy: 0.8504 - val_loss: 0.3447 - val_accuracy: 0.8118\n",
      "Epoch 5/20\n",
      "11/11 [==============================] - 0s 10ms/step - loss: 0.2780 - accuracy: 0.8915 - val_loss: 0.4467 - val_accuracy: 0.8000\n",
      "Epoch 6/20\n",
      "11/11 [==============================] - 0s 10ms/step - loss: 0.3728 - accuracy: 0.8065 - val_loss: 0.4664 - val_accuracy: 0.7882\n",
      "Epoch 7/20\n",
      "11/11 [==============================] - 0s 10ms/step - loss: 0.3172 - accuracy: 0.8592 - val_loss: 0.5478 - val_accuracy: 0.7647\n",
      "Epoch 8/20\n",
      "11/11 [==============================] - 0s 10ms/step - loss: 0.3587 - accuracy: 0.8563 - val_loss: 0.3182 - val_accuracy: 0.8588\n",
      "Epoch 9/20\n",
      "11/11 [==============================] - 0s 9ms/step - loss: 0.2976 - accuracy: 0.8651 - val_loss: 0.3066 - val_accuracy: 0.8353\n",
      "Epoch 10/20\n",
      "11/11 [==============================] - 0s 11ms/step - loss: 0.3382 - accuracy: 0.8592 - val_loss: 0.4934 - val_accuracy: 0.7647\n",
      "Epoch 11/20\n",
      "11/11 [==============================] - 0s 10ms/step - loss: 0.3294 - accuracy: 0.8475 - val_loss: 0.3085 - val_accuracy: 0.8235\n",
      "Epoch 12/20\n",
      "11/11 [==============================] - 0s 9ms/step - loss: 0.2700 - accuracy: 0.8710 - val_loss: 0.3856 - val_accuracy: 0.8235\n",
      "Epoch 13/20\n",
      "11/11 [==============================] - 0s 10ms/step - loss: 0.3176 - accuracy: 0.8534 - val_loss: 0.2838 - val_accuracy: 0.8588\n",
      "Epoch 14/20\n",
      "11/11 [==============================] - 0s 10ms/step - loss: 0.3190 - accuracy: 0.8446 - val_loss: 0.7633 - val_accuracy: 0.6588\n",
      "Epoch 15/20\n",
      "11/11 [==============================] - 0s 10ms/step - loss: 0.3081 - accuracy: 0.8592 - val_loss: 0.2662 - val_accuracy: 0.8824\n",
      "Epoch 16/20\n",
      "11/11 [==============================] - 0s 9ms/step - loss: 0.2972 - accuracy: 0.8710 - val_loss: 0.3189 - val_accuracy: 0.8353\n",
      "Epoch 17/20\n",
      "11/11 [==============================] - 0s 10ms/step - loss: 0.2484 - accuracy: 0.8974 - val_loss: 0.2926 - val_accuracy: 0.8588\n",
      "Epoch 18/20\n",
      "11/11 [==============================] - 0s 9ms/step - loss: 0.3022 - accuracy: 0.8710 - val_loss: 0.2789 - val_accuracy: 0.8588\n",
      "Epoch 19/20\n",
      "11/11 [==============================] - 0s 10ms/step - loss: 0.2921 - accuracy: 0.8563 - val_loss: 0.3007 - val_accuracy: 0.8471\n",
      "Epoch 20/20\n",
      "11/11 [==============================] - 0s 9ms/step - loss: 0.2656 - accuracy: 0.8710 - val_loss: 0.2903 - val_accuracy: 0.8706\n",
      "Epoch 1/20\n",
      "11/11 [==============================] - 0s 18ms/step - loss: 0.3154 - accuracy: 0.8710 - val_loss: 0.2841 - val_accuracy: 0.8471\n",
      "Epoch 2/20\n",
      "11/11 [==============================] - 0s 10ms/step - loss: 0.2708 - accuracy: 0.8827 - val_loss: 0.2987 - val_accuracy: 0.8588\n",
      "Epoch 3/20\n",
      "11/11 [==============================] - 0s 10ms/step - loss: 0.2559 - accuracy: 0.8739 - val_loss: 0.3397 - val_accuracy: 0.8588\n",
      "Epoch 4/20\n",
      "11/11 [==============================] - 0s 10ms/step - loss: 0.2743 - accuracy: 0.8768 - val_loss: 0.2678 - val_accuracy: 0.8588\n",
      "Epoch 5/20\n",
      "11/11 [==============================] - 0s 10ms/step - loss: 0.2713 - accuracy: 0.8768 - val_loss: 0.2726 - val_accuracy: 0.8706\n",
      "Epoch 6/20\n",
      "11/11 [==============================] - 0s 10ms/step - loss: 0.2313 - accuracy: 0.8856 - val_loss: 0.3113 - val_accuracy: 0.8588\n",
      "Epoch 7/20\n",
      "11/11 [==============================] - 0s 10ms/step - loss: 0.2593 - accuracy: 0.8651 - val_loss: 0.2886 - val_accuracy: 0.8471\n",
      "Epoch 8/20\n",
      "11/11 [==============================] - 0s 9ms/step - loss: 0.2718 - accuracy: 0.8768 - val_loss: 0.3390 - val_accuracy: 0.8588\n",
      "Epoch 9/20\n",
      "11/11 [==============================] - 0s 10ms/step - loss: 0.2024 - accuracy: 0.9091 - val_loss: 0.3309 - val_accuracy: 0.8824\n",
      "Epoch 10/20\n",
      "11/11 [==============================] - 0s 10ms/step - loss: 0.2897 - accuracy: 0.8622 - val_loss: 0.2682 - val_accuracy: 0.8588\n",
      "Epoch 11/20\n",
      "11/11 [==============================] - 0s 9ms/step - loss: 0.1910 - accuracy: 0.9150 - val_loss: 0.2993 - val_accuracy: 0.8588\n",
      "Epoch 12/20\n",
      "11/11 [==============================] - 0s 9ms/step - loss: 0.2191 - accuracy: 0.9150 - val_loss: 0.2844 - val_accuracy: 0.8588\n",
      "Epoch 13/20\n",
      "11/11 [==============================] - 0s 10ms/step - loss: 0.3074 - accuracy: 0.8827 - val_loss: 0.3592 - val_accuracy: 0.8471\n",
      "Epoch 14/20\n",
      "11/11 [==============================] - 0s 10ms/step - loss: 0.1946 - accuracy: 0.9208 - val_loss: 0.2851 - val_accuracy: 0.8706\n",
      "Epoch 15/20\n",
      "11/11 [==============================] - 0s 11ms/step - loss: 0.2341 - accuracy: 0.8886 - val_loss: 0.2660 - val_accuracy: 0.8471\n",
      "Epoch 16/20\n",
      "11/11 [==============================] - 0s 10ms/step - loss: 0.1487 - accuracy: 0.9413 - val_loss: 0.6126 - val_accuracy: 0.7882\n",
      "Epoch 17/20\n",
      "11/11 [==============================] - 0s 10ms/step - loss: 0.1839 - accuracy: 0.9179 - val_loss: 0.3841 - val_accuracy: 0.8235\n",
      "Epoch 18/20\n",
      "11/11 [==============================] - 0s 9ms/step - loss: 0.2494 - accuracy: 0.8827 - val_loss: 0.2793 - val_accuracy: 0.8471\n",
      "Epoch 19/20\n",
      "11/11 [==============================] - 0s 11ms/step - loss: 0.2021 - accuracy: 0.8944 - val_loss: 0.2863 - val_accuracy: 0.8706\n",
      "Epoch 20/20\n",
      "11/11 [==============================] - 0s 9ms/step - loss: 0.2013 - accuracy: 0.9091 - val_loss: 0.2835 - val_accuracy: 0.8471\n",
      "Epoch 1/20\n",
      "11/11 [==============================] - 0s 17ms/step - loss: 0.2647 - accuracy: 0.8944 - val_loss: 0.1667 - val_accuracy: 0.9412\n",
      "Epoch 2/20\n",
      "11/11 [==============================] - 0s 11ms/step - loss: 0.2209 - accuracy: 0.9091 - val_loss: 0.1541 - val_accuracy: 0.9412\n",
      "Epoch 3/20\n",
      "11/11 [==============================] - 0s 10ms/step - loss: 0.2683 - accuracy: 0.9003 - val_loss: 0.1557 - val_accuracy: 0.9529\n",
      "Epoch 4/20\n",
      "11/11 [==============================] - 0s 10ms/step - loss: 0.2274 - accuracy: 0.8974 - val_loss: 0.1998 - val_accuracy: 0.9059\n",
      "Epoch 5/20\n",
      "11/11 [==============================] - 0s 9ms/step - loss: 0.1938 - accuracy: 0.9326 - val_loss: 0.3031 - val_accuracy: 0.8706\n",
      "Epoch 6/20\n",
      "11/11 [==============================] - 0s 11ms/step - loss: 0.2074 - accuracy: 0.9062 - val_loss: 0.3412 - val_accuracy: 0.8471\n",
      "Epoch 7/20\n",
      "11/11 [==============================] - 0s 11ms/step - loss: 0.2128 - accuracy: 0.8944 - val_loss: 0.1634 - val_accuracy: 0.9059\n",
      "Epoch 8/20\n",
      "11/11 [==============================] - 0s 11ms/step - loss: 0.2727 - accuracy: 0.8915 - val_loss: 0.3267 - val_accuracy: 0.8588\n",
      "Epoch 9/20\n",
      "11/11 [==============================] - 0s 10ms/step - loss: 0.2142 - accuracy: 0.9062 - val_loss: 0.1878 - val_accuracy: 0.9176\n",
      "Epoch 10/20\n",
      "11/11 [==============================] - 0s 10ms/step - loss: 0.2115 - accuracy: 0.9179 - val_loss: 0.1662 - val_accuracy: 0.9412\n",
      "Epoch 11/20\n",
      "11/11 [==============================] - 0s 11ms/step - loss: 0.1947 - accuracy: 0.9150 - val_loss: 0.7935 - val_accuracy: 0.7176\n",
      "Epoch 12/20\n",
      "11/11 [==============================] - 0s 11ms/step - loss: 0.2098 - accuracy: 0.9091 - val_loss: 0.2017 - val_accuracy: 0.9176\n",
      "Epoch 13/20\n",
      "11/11 [==============================] - 0s 9ms/step - loss: 0.1500 - accuracy: 0.9413 - val_loss: 0.7139 - val_accuracy: 0.7529\n",
      "Epoch 14/20\n",
      "11/11 [==============================] - 0s 11ms/step - loss: 0.2230 - accuracy: 0.9091 - val_loss: 0.1604 - val_accuracy: 0.9412\n",
      "Epoch 15/20\n",
      "11/11 [==============================] - 0s 9ms/step - loss: 0.1636 - accuracy: 0.9179 - val_loss: 0.1475 - val_accuracy: 0.9412\n",
      "Epoch 16/20\n",
      "11/11 [==============================] - 0s 10ms/step - loss: 0.2082 - accuracy: 0.9062 - val_loss: 0.2042 - val_accuracy: 0.9059\n",
      "Epoch 17/20\n",
      "11/11 [==============================] - 0s 12ms/step - loss: 0.1702 - accuracy: 0.9355 - val_loss: 0.5654 - val_accuracy: 0.7529\n",
      "Epoch 18/20\n",
      "11/11 [==============================] - 0s 12ms/step - loss: 0.2369 - accuracy: 0.8915 - val_loss: 0.1719 - val_accuracy: 0.9412\n",
      "Epoch 19/20\n",
      "11/11 [==============================] - 0s 9ms/step - loss: 0.1930 - accuracy: 0.9208 - val_loss: 0.1579 - val_accuracy: 0.9529\n",
      "Epoch 20/20\n",
      "11/11 [==============================] - 0s 9ms/step - loss: 0.1875 - accuracy: 0.9179 - val_loss: 0.1495 - val_accuracy: 0.9412\n",
      "Epoch 1/20\n",
      "11/11 [==============================] - 0s 21ms/step - loss: 0.1764 - accuracy: 0.9179 - val_loss: 0.1305 - val_accuracy: 0.9176\n",
      "Epoch 2/20\n",
      "11/11 [==============================] - 0s 9ms/step - loss: 0.2164 - accuracy: 0.9091 - val_loss: 0.2710 - val_accuracy: 0.8824\n",
      "Epoch 3/20\n",
      "11/11 [==============================] - 0s 9ms/step - loss: 0.1468 - accuracy: 0.9472 - val_loss: 0.1153 - val_accuracy: 0.9412\n",
      "Epoch 4/20\n",
      "11/11 [==============================] - 0s 10ms/step - loss: 0.2190 - accuracy: 0.9120 - val_loss: 0.1146 - val_accuracy: 0.9647\n",
      "Epoch 5/20\n",
      "11/11 [==============================] - 0s 9ms/step - loss: 0.1324 - accuracy: 0.9472 - val_loss: 0.4252 - val_accuracy: 0.8235\n",
      "Epoch 6/20\n",
      "11/11 [==============================] - 0s 10ms/step - loss: 0.2165 - accuracy: 0.9062 - val_loss: 0.1080 - val_accuracy: 0.9294\n",
      "Epoch 7/20\n",
      "11/11 [==============================] - 0s 9ms/step - loss: 0.2372 - accuracy: 0.9032 - val_loss: 0.2267 - val_accuracy: 0.8941\n",
      "Epoch 8/20\n",
      "11/11 [==============================] - 0s 9ms/step - loss: 0.1296 - accuracy: 0.9501 - val_loss: 0.1385 - val_accuracy: 0.9412\n",
      "Epoch 9/20\n",
      "11/11 [==============================] - 0s 9ms/step - loss: 0.2038 - accuracy: 0.9296 - val_loss: 0.1391 - val_accuracy: 0.9412\n",
      "Epoch 10/20\n",
      "11/11 [==============================] - 0s 9ms/step - loss: 0.1400 - accuracy: 0.9384 - val_loss: 0.1404 - val_accuracy: 0.9412\n",
      "Epoch 11/20\n",
      "11/11 [==============================] - 0s 8ms/step - loss: 0.1153 - accuracy: 0.9501 - val_loss: 0.1261 - val_accuracy: 0.9294\n",
      "Epoch 12/20\n",
      "11/11 [==============================] - 0s 10ms/step - loss: 0.1923 - accuracy: 0.9150 - val_loss: 0.1072 - val_accuracy: 0.9412\n",
      "Epoch 13/20\n",
      "11/11 [==============================] - 0s 9ms/step - loss: 0.1464 - accuracy: 0.9472 - val_loss: 0.1108 - val_accuracy: 0.9412\n",
      "Epoch 14/20\n",
      "11/11 [==============================] - 0s 9ms/step - loss: 0.1880 - accuracy: 0.9179 - val_loss: 0.1595 - val_accuracy: 0.9176\n",
      "Epoch 15/20\n",
      "11/11 [==============================] - 0s 11ms/step - loss: 0.0949 - accuracy: 0.9648 - val_loss: 0.1164 - val_accuracy: 0.9294\n",
      "Epoch 16/20\n",
      "11/11 [==============================] - 0s 9ms/step - loss: 0.3129 - accuracy: 0.9091 - val_loss: 0.1447 - val_accuracy: 0.9412\n",
      "Epoch 17/20\n",
      "11/11 [==============================] - 0s 10ms/step - loss: 0.1029 - accuracy: 0.9619 - val_loss: 0.3383 - val_accuracy: 0.8471\n",
      "Epoch 18/20\n",
      "11/11 [==============================] - 0s 10ms/step - loss: 0.1741 - accuracy: 0.9179 - val_loss: 0.1203 - val_accuracy: 0.9294\n",
      "Epoch 19/20\n",
      "11/11 [==============================] - 0s 9ms/step - loss: 0.2101 - accuracy: 0.9326 - val_loss: 0.1856 - val_accuracy: 0.9412\n",
      "Epoch 20/20\n",
      "11/11 [==============================] - 0s 9ms/step - loss: 0.0984 - accuracy: 0.9619 - val_loss: 0.2728 - val_accuracy: 0.8941\n"
     ]
    }
   ],
   "source": [
    "from sklearn.model_selection import StratifiedKFold\n",
    "\n",
    "k = 5\n",
    "advanced_epochs = 20\n",
    "advanced_batch_size = 64\n",
    "scores = []\n",
    "\n",
    "advanced_model = Sequential([\n",
    "    Dense(256, activation='relu', input_shape=(seasons_data_all.shape[1],)),\n",
    "    Dense(128, activation='relu', ),\n",
    "    Dense(64, activation='relu', ),\n",
    "    Dense(32, activation='relu', ),\n",
    "    Dense(1, activation='sigmoid')\n",
    "])\n",
    "\n",
    "advanced_model.compile(optimizer='rmsprop',\n",
    "                       loss='binary_crossentropy',\n",
    "                       metrics=['accuracy'])\n",
    "\n",
    "kfold = StratifiedKFold(n_splits=k, shuffle=True, random_state=42)\n",
    "for train_idx, val_idx in kfold.split(data, target):\n",
    "    X_train_fold, X_val_fold = data[train_idx], data[val_idx]\n",
    "    y_train_fold, y_val_fold = target[train_idx], target[val_idx]\n",
    "    scores.append(advanced_model.fit(X_train_fold,\n",
    "                                     y_train_fold,\n",
    "                                     epochs=advanced_epochs,\n",
    "                                     # batch_size=advanced_batch_size,\n",
    "                                     validation_data=(X_val_fold, y_val_fold)))"
   ],
   "metadata": {
    "collapsed": false,
    "ExecuteTime": {
     "end_time": "2024-02-29T18:43:04.637888Z",
     "start_time": "2024-02-29T18:42:51.345133Z"
    }
   },
   "id": "76f26be25a7d7315",
   "execution_count": 898
  },
  {
   "cell_type": "code",
   "outputs": [],
   "source": [
    "# for hist in scores:\n",
    "#     hist_dict = hist.history\n",
    "#     plot_history('Training and validation accuracy', 'Epochs', 'Accuracy',\n",
    "#                  'Training acc', hist_dict['accuracy'], 'Validation acc', hist_dict['val_accuracy'])"
   ],
   "metadata": {
    "collapsed": false,
    "ExecuteTime": {
     "end_time": "2024-02-29T18:43:04.647232Z",
     "start_time": "2024-02-29T18:43:04.640892Z"
    }
   },
   "id": "8e87a91446b90ed1",
   "execution_count": 899
  },
  {
   "cell_type": "code",
   "outputs": [
    {
     "name": "stdout",
     "output_type": "stream",
     "text": [
      "1/1 [==============================] - 0s 43ms/step - loss: 0.0908 - accuracy: 0.9375\n",
      "Advanced model prediction accuracy is 0.9375, loss is 0.09083177149295807\n"
     ]
    }
   ],
   "source": [
    "advanced_prediction_2022 = advanced_model.evaluate(seasons_data_2022, seasons_target_2022)\n",
    "print(f'Advanced model prediction accuracy is {advanced_prediction_2022[1]}, loss is {advanced_prediction_2022[0]}')"
   ],
   "metadata": {
    "collapsed": false,
    "ExecuteTime": {
     "end_time": "2024-02-29T18:43:04.772227Z",
     "start_time": "2024-02-29T18:43:04.653225Z"
    }
   },
   "id": "e4f7dce485bf87e2",
   "execution_count": 900
  },
  {
   "cell_type": "markdown",
   "id": "134109fb5199368c",
   "metadata": {},
   "source": [
    "## 4.5.7. Regularizing your model and tuning your hyperparameters\n",
    "These are some things you should try:\n",
    "\n",
    "Add dropout.\n",
    "Try different architectures: add or remove layers.\n",
    "Add L1 and/or L2 regularization.\n",
    "Try different hyperparameters (such as the number of units per layer or the learning rate of the optimizer) to find the optimal configuration.\n",
    "Optionally, iterate on feature engineering: add new features, or remove features that don’t seem to be informative."
   ]
  },
  {
   "cell_type": "markdown",
   "source": [
    "L1 and L2 regularization are methods in machine learning that add a penalty term to the loss function. L1 regularization is also known as lasso regression, and L2 regularization is also known as ridge regression.\n",
    "\n",
    "L1 regularization adds the absolute value of the coefficient as a penalty term. L2 regularization adds the squared magnitude of the coefficient as a penalty term.\n",
    "Effect:\n",
    "L1 regularization generates sparse solutions and is helpful for feature selection. L2 regularization yields non-sparse solutions and is beneficial for building simpler models."
   ],
   "metadata": {
    "collapsed": false
   },
   "id": "c8f59178ec973edb"
  },
  {
   "cell_type": "code",
   "outputs": [
    {
     "name": "stdout",
     "output_type": "stream",
     "text": [
      "Epoch 1/18\n",
      "12/12 [==============================] - 2s 37ms/step - loss: 1.7557 - accuracy: 0.6767 - val_loss: 1.6029 - val_accuracy: 0.8033\n",
      "Epoch 2/18\n",
      "12/12 [==============================] - 0s 10ms/step - loss: 1.5617 - accuracy: 0.7562 - val_loss: 1.4878 - val_accuracy: 0.7049\n",
      "Epoch 3/18\n",
      "12/12 [==============================] - 0s 9ms/step - loss: 1.4210 - accuracy: 0.7507 - val_loss: 1.2826 - val_accuracy: 0.8361\n",
      "Epoch 4/18\n",
      "12/12 [==============================] - 0s 10ms/step - loss: 1.2893 - accuracy: 0.8000 - val_loss: 1.1759 - val_accuracy: 0.8361\n",
      "Epoch 5/18\n",
      "12/12 [==============================] - 0s 10ms/step - loss: 1.1932 - accuracy: 0.8000 - val_loss: 1.1362 - val_accuracy: 0.7869\n",
      "Epoch 6/18\n",
      "12/12 [==============================] - 0s 10ms/step - loss: 1.0862 - accuracy: 0.8438 - val_loss: 1.0434 - val_accuracy: 0.8689\n",
      "Epoch 7/18\n",
      "12/12 [==============================] - 0s 9ms/step - loss: 1.0843 - accuracy: 0.7808 - val_loss: 0.9821 - val_accuracy: 0.8525\n",
      "Epoch 8/18\n",
      "12/12 [==============================] - 0s 11ms/step - loss: 1.0382 - accuracy: 0.8219 - val_loss: 1.0000 - val_accuracy: 0.7541\n",
      "Epoch 9/18\n",
      "12/12 [==============================] - 0s 9ms/step - loss: 0.9125 - accuracy: 0.8658 - val_loss: 0.8783 - val_accuracy: 0.9180\n",
      "Epoch 10/18\n",
      "12/12 [==============================] - 0s 10ms/step - loss: 0.8892 - accuracy: 0.8603 - val_loss: 0.9892 - val_accuracy: 0.7541\n",
      "Epoch 11/18\n",
      "12/12 [==============================] - 0s 9ms/step - loss: 0.8874 - accuracy: 0.8548 - val_loss: 0.8547 - val_accuracy: 0.8033\n",
      "Epoch 12/18\n",
      "12/12 [==============================] - 0s 9ms/step - loss: 0.7998 - accuracy: 0.8603 - val_loss: 0.8000 - val_accuracy: 0.9344\n",
      "Epoch 13/18\n",
      "12/12 [==============================] - 0s 8ms/step - loss: 0.7915 - accuracy: 0.8521 - val_loss: 0.8051 - val_accuracy: 0.8525\n",
      "Epoch 14/18\n",
      "12/12 [==============================] - 0s 9ms/step - loss: 0.7675 - accuracy: 0.8959 - val_loss: 0.7962 - val_accuracy: 0.8525\n",
      "Epoch 15/18\n",
      "12/12 [==============================] - 0s 9ms/step - loss: 0.7537 - accuracy: 0.8740 - val_loss: 0.9573 - val_accuracy: 0.7213\n",
      "Epoch 16/18\n",
      "12/12 [==============================] - 0s 9ms/step - loss: 0.8215 - accuracy: 0.8411 - val_loss: 0.7630 - val_accuracy: 0.9344\n",
      "Epoch 17/18\n",
      "12/12 [==============================] - 0s 11ms/step - loss: 0.7386 - accuracy: 0.8795 - val_loss: 0.7424 - val_accuracy: 0.8852\n",
      "Epoch 18/18\n",
      "12/12 [==============================] - 0s 9ms/step - loss: 0.7177 - accuracy: 0.8877 - val_loss: 0.7300 - val_accuracy: 0.9180\n",
      "Epoch 1/18\n",
      "12/12 [==============================] - 0s 17ms/step - loss: 0.7141 - accuracy: 0.8712 - val_loss: 0.6773 - val_accuracy: 0.9180\n",
      "Epoch 2/18\n",
      "12/12 [==============================] - 0s 9ms/step - loss: 0.7063 - accuracy: 0.8740 - val_loss: 0.6830 - val_accuracy: 0.8852\n",
      "Epoch 3/18\n",
      "12/12 [==============================] - 0s 9ms/step - loss: 0.6987 - accuracy: 0.8795 - val_loss: 0.6751 - val_accuracy: 0.8689\n",
      "Epoch 4/18\n",
      "12/12 [==============================] - 0s 10ms/step - loss: 0.6762 - accuracy: 0.8986 - val_loss: 0.6729 - val_accuracy: 0.9180\n",
      "Epoch 5/18\n",
      "12/12 [==============================] - 0s 9ms/step - loss: 0.6976 - accuracy: 0.8767 - val_loss: 0.6835 - val_accuracy: 0.8852\n",
      "Epoch 6/18\n",
      "12/12 [==============================] - 0s 10ms/step - loss: 0.6544 - accuracy: 0.8904 - val_loss: 0.6791 - val_accuracy: 0.8852\n",
      "Epoch 7/18\n",
      "12/12 [==============================] - 0s 9ms/step - loss: 0.6545 - accuracy: 0.8932 - val_loss: 0.6740 - val_accuracy: 0.8852\n",
      "Epoch 8/18\n",
      "12/12 [==============================] - 0s 9ms/step - loss: 0.6521 - accuracy: 0.8849 - val_loss: 0.6509 - val_accuracy: 0.8852\n",
      "Epoch 9/18\n",
      "12/12 [==============================] - 0s 10ms/step - loss: 0.6397 - accuracy: 0.9041 - val_loss: 0.6934 - val_accuracy: 0.8525\n",
      "Epoch 10/18\n",
      "12/12 [==============================] - 0s 9ms/step - loss: 0.6846 - accuracy: 0.8685 - val_loss: 0.6467 - val_accuracy: 0.8852\n",
      "Epoch 11/18\n",
      "12/12 [==============================] - 0s 10ms/step - loss: 0.6179 - accuracy: 0.9041 - val_loss: 0.6345 - val_accuracy: 0.9016\n",
      "Epoch 12/18\n",
      "12/12 [==============================] - 0s 9ms/step - loss: 0.6145 - accuracy: 0.8986 - val_loss: 0.6311 - val_accuracy: 0.9016\n",
      "Epoch 13/18\n",
      "12/12 [==============================] - 0s 10ms/step - loss: 0.6119 - accuracy: 0.9014 - val_loss: 0.6306 - val_accuracy: 0.9016\n",
      "Epoch 14/18\n",
      "12/12 [==============================] - 0s 9ms/step - loss: 0.5971 - accuracy: 0.9041 - val_loss: 0.6294 - val_accuracy: 0.8361\n",
      "Epoch 15/18\n",
      "12/12 [==============================] - 0s 10ms/step - loss: 0.6202 - accuracy: 0.8986 - val_loss: 0.6154 - val_accuracy: 0.8852\n",
      "Epoch 16/18\n",
      "12/12 [==============================] - 0s 10ms/step - loss: 0.6083 - accuracy: 0.8849 - val_loss: 0.7281 - val_accuracy: 0.8361\n",
      "Epoch 17/18\n",
      "12/12 [==============================] - 0s 9ms/step - loss: 0.6149 - accuracy: 0.8932 - val_loss: 0.6188 - val_accuracy: 0.9016\n",
      "Epoch 18/18\n",
      "12/12 [==============================] - 0s 9ms/step - loss: 0.6031 - accuracy: 0.9068 - val_loss: 0.6330 - val_accuracy: 0.9016\n",
      "Epoch 1/18\n",
      "12/12 [==============================] - 0s 15ms/step - loss: 0.6261 - accuracy: 0.8795 - val_loss: 0.5308 - val_accuracy: 0.9508\n",
      "Epoch 2/18\n",
      "12/12 [==============================] - 0s 9ms/step - loss: 0.5939 - accuracy: 0.8849 - val_loss: 0.5744 - val_accuracy: 0.8689\n",
      "Epoch 3/18\n",
      "12/12 [==============================] - 0s 9ms/step - loss: 0.6528 - accuracy: 0.8575 - val_loss: 0.5272 - val_accuracy: 0.9672\n",
      "Epoch 4/18\n",
      "12/12 [==============================] - 0s 10ms/step - loss: 0.6144 - accuracy: 0.8767 - val_loss: 0.5360 - val_accuracy: 0.9508\n",
      "Epoch 5/18\n",
      "12/12 [==============================] - 0s 9ms/step - loss: 0.5827 - accuracy: 0.8986 - val_loss: 0.5275 - val_accuracy: 0.9180\n",
      "Epoch 6/18\n",
      "12/12 [==============================] - 0s 11ms/step - loss: 0.5968 - accuracy: 0.8795 - val_loss: 0.6672 - val_accuracy: 0.8361\n",
      "Epoch 7/18\n",
      "12/12 [==============================] - 0s 10ms/step - loss: 0.6337 - accuracy: 0.8712 - val_loss: 0.5577 - val_accuracy: 0.8852\n",
      "Epoch 8/18\n",
      "12/12 [==============================] - 0s 10ms/step - loss: 0.5972 - accuracy: 0.8767 - val_loss: 0.5219 - val_accuracy: 0.9016\n",
      "Epoch 9/18\n",
      "12/12 [==============================] - 0s 10ms/step - loss: 0.5572 - accuracy: 0.8986 - val_loss: 0.5165 - val_accuracy: 0.9672\n",
      "Epoch 10/18\n",
      "12/12 [==============================] - 0s 10ms/step - loss: 0.5617 - accuracy: 0.8959 - val_loss: 0.5054 - val_accuracy: 0.9344\n",
      "Epoch 11/18\n",
      "12/12 [==============================] - 0s 9ms/step - loss: 0.5588 - accuracy: 0.8959 - val_loss: 0.5067 - val_accuracy: 0.9180\n",
      "Epoch 12/18\n",
      "12/12 [==============================] - 0s 8ms/step - loss: 0.5477 - accuracy: 0.8986 - val_loss: 0.5257 - val_accuracy: 0.9016\n",
      "Epoch 13/18\n",
      "12/12 [==============================] - 0s 10ms/step - loss: 0.5307 - accuracy: 0.8932 - val_loss: 0.4996 - val_accuracy: 0.9508\n",
      "Epoch 14/18\n",
      "12/12 [==============================] - 0s 10ms/step - loss: 0.5322 - accuracy: 0.9041 - val_loss: 0.4943 - val_accuracy: 0.9508\n",
      "Epoch 15/18\n",
      "12/12 [==============================] - 0s 11ms/step - loss: 0.5254 - accuracy: 0.8986 - val_loss: 0.5674 - val_accuracy: 0.8689\n",
      "Epoch 16/18\n",
      "12/12 [==============================] - 0s 9ms/step - loss: 0.5724 - accuracy: 0.8822 - val_loss: 0.4955 - val_accuracy: 0.9016\n",
      "Epoch 17/18\n",
      "12/12 [==============================] - 0s 9ms/step - loss: 0.5861 - accuracy: 0.8767 - val_loss: 0.6459 - val_accuracy: 0.8361\n",
      "Epoch 18/18\n",
      "12/12 [==============================] - 0s 9ms/step - loss: 0.5977 - accuracy: 0.8986 - val_loss: 0.6004 - val_accuracy: 0.8525\n",
      "Epoch 1/18\n",
      "12/12 [==============================] - 0s 17ms/step - loss: 0.5508 - accuracy: 0.8877 - val_loss: 0.5391 - val_accuracy: 0.8689\n",
      "Epoch 2/18\n",
      "12/12 [==============================] - 0s 10ms/step - loss: 0.5180 - accuracy: 0.9096 - val_loss: 0.6495 - val_accuracy: 0.8361\n",
      "Epoch 3/18\n",
      "12/12 [==============================] - 0s 11ms/step - loss: 0.5156 - accuracy: 0.9068 - val_loss: 0.7043 - val_accuracy: 0.8361\n",
      "Epoch 4/18\n",
      "12/12 [==============================] - 0s 10ms/step - loss: 0.5681 - accuracy: 0.8767 - val_loss: 0.6301 - val_accuracy: 0.8525\n",
      "Epoch 5/18\n",
      "12/12 [==============================] - 0s 10ms/step - loss: 0.5605 - accuracy: 0.8822 - val_loss: 0.7486 - val_accuracy: 0.8197\n",
      "Epoch 6/18\n",
      "12/12 [==============================] - 0s 10ms/step - loss: 0.5188 - accuracy: 0.9178 - val_loss: 0.5712 - val_accuracy: 0.8361\n",
      "Epoch 7/18\n",
      "12/12 [==============================] - 0s 10ms/step - loss: 0.4876 - accuracy: 0.9205 - val_loss: 0.5561 - val_accuracy: 0.8525\n",
      "Epoch 8/18\n",
      "12/12 [==============================] - 0s 9ms/step - loss: 0.5036 - accuracy: 0.9096 - val_loss: 0.5494 - val_accuracy: 0.8689\n",
      "Epoch 9/18\n",
      "12/12 [==============================] - 0s 10ms/step - loss: 0.5494 - accuracy: 0.8932 - val_loss: 0.5585 - val_accuracy: 0.8689\n",
      "Epoch 10/18\n",
      "12/12 [==============================] - 0s 10ms/step - loss: 0.5355 - accuracy: 0.8986 - val_loss: 0.6304 - val_accuracy: 0.8361\n",
      "Epoch 11/18\n",
      "12/12 [==============================] - 0s 9ms/step - loss: 0.4978 - accuracy: 0.9178 - val_loss: 0.6032 - val_accuracy: 0.8689\n",
      "Epoch 12/18\n",
      "12/12 [==============================] - 0s 9ms/step - loss: 0.4699 - accuracy: 0.9151 - val_loss: 0.6224 - val_accuracy: 0.8361\n",
      "Epoch 13/18\n",
      "12/12 [==============================] - 0s 9ms/step - loss: 0.4886 - accuracy: 0.9233 - val_loss: 0.5526 - val_accuracy: 0.8689\n",
      "Epoch 14/18\n",
      "12/12 [==============================] - 0s 10ms/step - loss: 0.4626 - accuracy: 0.9260 - val_loss: 0.5793 - val_accuracy: 0.8852\n",
      "Epoch 15/18\n",
      "12/12 [==============================] - 0s 10ms/step - loss: 0.4710 - accuracy: 0.9233 - val_loss: 0.5489 - val_accuracy: 0.8525\n",
      "Epoch 16/18\n",
      "12/12 [==============================] - 0s 9ms/step - loss: 0.4558 - accuracy: 0.9205 - val_loss: 0.5766 - val_accuracy: 0.8689\n",
      "Epoch 17/18\n",
      "12/12 [==============================] - 0s 9ms/step - loss: 0.4904 - accuracy: 0.9123 - val_loss: 0.6927 - val_accuracy: 0.8197\n",
      "Epoch 18/18\n",
      "12/12 [==============================] - 0s 10ms/step - loss: 0.5027 - accuracy: 0.9041 - val_loss: 0.5554 - val_accuracy: 0.8525\n",
      "Epoch 1/18\n",
      "12/12 [==============================] - 0s 17ms/step - loss: 0.4677 - accuracy: 0.9151 - val_loss: 0.5098 - val_accuracy: 0.9344\n",
      "Epoch 2/18\n",
      "12/12 [==============================] - 0s 10ms/step - loss: 0.4481 - accuracy: 0.9151 - val_loss: 0.5090 - val_accuracy: 0.9180\n",
      "Epoch 3/18\n",
      "12/12 [==============================] - 0s 9ms/step - loss: 0.4410 - accuracy: 0.9151 - val_loss: 0.5073 - val_accuracy: 0.9180\n",
      "Epoch 4/18\n",
      "12/12 [==============================] - 0s 9ms/step - loss: 0.4402 - accuracy: 0.9123 - val_loss: 0.5161 - val_accuracy: 0.9180\n",
      "Epoch 5/18\n",
      "12/12 [==============================] - 0s 9ms/step - loss: 0.4397 - accuracy: 0.9260 - val_loss: 0.5777 - val_accuracy: 0.8525\n",
      "Epoch 6/18\n",
      "12/12 [==============================] - 0s 9ms/step - loss: 0.4649 - accuracy: 0.9205 - val_loss: 0.5631 - val_accuracy: 0.8525\n",
      "Epoch 7/18\n",
      "12/12 [==============================] - 0s 9ms/step - loss: 0.4436 - accuracy: 0.9260 - val_loss: 0.5561 - val_accuracy: 0.8689\n",
      "Epoch 8/18\n",
      "12/12 [==============================] - 0s 9ms/step - loss: 0.5691 - accuracy: 0.8548 - val_loss: 0.7960 - val_accuracy: 0.8033\n",
      "Epoch 9/18\n",
      "12/12 [==============================] - 0s 10ms/step - loss: 0.6104 - accuracy: 0.8521 - val_loss: 0.5958 - val_accuracy: 0.8361\n",
      "Epoch 10/18\n",
      "12/12 [==============================] - 0s 9ms/step - loss: 0.4826 - accuracy: 0.8932 - val_loss: 0.5263 - val_accuracy: 0.8852\n",
      "Epoch 11/18\n",
      "12/12 [==============================] - 0s 8ms/step - loss: 0.4463 - accuracy: 0.9151 - val_loss: 0.5707 - val_accuracy: 0.8525\n",
      "Epoch 12/18\n",
      "12/12 [==============================] - 0s 10ms/step - loss: 0.4450 - accuracy: 0.9178 - val_loss: 0.5304 - val_accuracy: 0.8852\n",
      "Epoch 13/18\n",
      "12/12 [==============================] - 0s 9ms/step - loss: 0.4364 - accuracy: 0.9342 - val_loss: 0.5219 - val_accuracy: 0.9016\n",
      "Epoch 14/18\n",
      "12/12 [==============================] - 0s 9ms/step - loss: 0.4253 - accuracy: 0.9068 - val_loss: 0.5387 - val_accuracy: 0.8689\n",
      "Epoch 15/18\n",
      "12/12 [==============================] - 0s 9ms/step - loss: 0.4211 - accuracy: 0.9205 - val_loss: 0.5294 - val_accuracy: 0.8852\n",
      "Epoch 16/18\n",
      "12/12 [==============================] - 0s 10ms/step - loss: 0.4157 - accuracy: 0.9233 - val_loss: 0.5989 - val_accuracy: 0.8525\n",
      "Epoch 17/18\n",
      "12/12 [==============================] - 0s 9ms/step - loss: 0.4200 - accuracy: 0.9342 - val_loss: 0.5461 - val_accuracy: 0.8689\n",
      "Epoch 18/18\n",
      "12/12 [==============================] - 0s 9ms/step - loss: 0.4021 - accuracy: 0.9315 - val_loss: 0.5161 - val_accuracy: 0.8852\n",
      "Epoch 1/18\n",
      "12/12 [==============================] - 0s 18ms/step - loss: 0.4317 - accuracy: 0.9151 - val_loss: 0.4072 - val_accuracy: 0.9016\n",
      "Epoch 2/18\n",
      "12/12 [==============================] - 0s 10ms/step - loss: 0.4287 - accuracy: 0.9233 - val_loss: 0.4097 - val_accuracy: 0.9180\n",
      "Epoch 3/18\n",
      "12/12 [==============================] - 0s 9ms/step - loss: 0.4260 - accuracy: 0.9260 - val_loss: 0.3953 - val_accuracy: 0.9016\n",
      "Epoch 4/18\n",
      "12/12 [==============================] - 0s 10ms/step - loss: 0.4066 - accuracy: 0.9342 - val_loss: 0.4023 - val_accuracy: 0.9016\n",
      "Epoch 5/18\n",
      "12/12 [==============================] - 0s 9ms/step - loss: 0.4112 - accuracy: 0.9315 - val_loss: 0.4325 - val_accuracy: 0.9344\n",
      "Epoch 6/18\n",
      "12/12 [==============================] - 0s 9ms/step - loss: 0.4393 - accuracy: 0.9123 - val_loss: 0.4097 - val_accuracy: 0.9016\n",
      "Epoch 7/18\n",
      "12/12 [==============================] - 0s 10ms/step - loss: 0.4413 - accuracy: 0.9096 - val_loss: 0.5211 - val_accuracy: 0.8852\n",
      "Epoch 8/18\n",
      "12/12 [==============================] - 0s 9ms/step - loss: 0.4163 - accuracy: 0.9315 - val_loss: 0.4368 - val_accuracy: 0.9180\n",
      "Epoch 9/18\n",
      "12/12 [==============================] - 0s 9ms/step - loss: 0.4186 - accuracy: 0.9370 - val_loss: 0.4747 - val_accuracy: 0.9016\n",
      "Epoch 10/18\n",
      "12/12 [==============================] - 0s 10ms/step - loss: 0.4334 - accuracy: 0.9041 - val_loss: 0.4128 - val_accuracy: 0.9180\n",
      "Epoch 11/18\n",
      "12/12 [==============================] - 0s 10ms/step - loss: 0.4032 - accuracy: 0.9288 - val_loss: 0.5165 - val_accuracy: 0.9016\n",
      "Epoch 12/18\n",
      "12/12 [==============================] - 0s 9ms/step - loss: 0.4601 - accuracy: 0.8986 - val_loss: 0.4609 - val_accuracy: 0.9344\n",
      "Epoch 13/18\n",
      "12/12 [==============================] - 0s 9ms/step - loss: 0.4243 - accuracy: 0.9260 - val_loss: 0.4421 - val_accuracy: 0.9016\n",
      "Epoch 14/18\n",
      "12/12 [==============================] - 0s 9ms/step - loss: 0.3948 - accuracy: 0.9397 - val_loss: 0.4155 - val_accuracy: 0.9016\n",
      "Epoch 15/18\n",
      "12/12 [==============================] - 0s 9ms/step - loss: 0.3803 - accuracy: 0.9452 - val_loss: 0.4293 - val_accuracy: 0.9180\n",
      "Epoch 16/18\n",
      "12/12 [==============================] - 0s 9ms/step - loss: 0.4076 - accuracy: 0.9205 - val_loss: 0.4344 - val_accuracy: 0.9016\n",
      "Epoch 17/18\n",
      "12/12 [==============================] - 0s 9ms/step - loss: 0.3945 - accuracy: 0.9397 - val_loss: 0.4228 - val_accuracy: 0.9016\n",
      "Epoch 18/18\n",
      "12/12 [==============================] - 0s 10ms/step - loss: 0.3787 - accuracy: 0.9370 - val_loss: 0.5067 - val_accuracy: 0.9180\n",
      "Epoch 1/18\n",
      "12/12 [==============================] - 0s 19ms/step - loss: 0.4101 - accuracy: 0.9126 - val_loss: 0.3848 - val_accuracy: 0.9333\n",
      "Epoch 2/18\n",
      "12/12 [==============================] - 0s 9ms/step - loss: 0.4216 - accuracy: 0.9180 - val_loss: 0.3499 - val_accuracy: 0.9500\n",
      "Epoch 3/18\n",
      "12/12 [==============================] - 0s 9ms/step - loss: 0.4589 - accuracy: 0.9016 - val_loss: 0.4631 - val_accuracy: 0.9333\n",
      "Epoch 4/18\n",
      "12/12 [==============================] - 0s 10ms/step - loss: 0.4149 - accuracy: 0.9180 - val_loss: 0.3790 - val_accuracy: 0.9500\n",
      "Epoch 5/18\n",
      "12/12 [==============================] - 0s 9ms/step - loss: 0.4041 - accuracy: 0.9262 - val_loss: 0.3527 - val_accuracy: 0.9500\n",
      "Epoch 6/18\n",
      "12/12 [==============================] - 0s 9ms/step - loss: 0.3703 - accuracy: 0.9344 - val_loss: 0.3441 - val_accuracy: 0.9500\n",
      "Epoch 7/18\n",
      "12/12 [==============================] - 0s 9ms/step - loss: 0.3859 - accuracy: 0.9290 - val_loss: 0.3366 - val_accuracy: 0.9500\n",
      "Epoch 8/18\n",
      "12/12 [==============================] - 0s 10ms/step - loss: 0.3752 - accuracy: 0.9426 - val_loss: 0.3541 - val_accuracy: 0.9500\n",
      "Epoch 9/18\n",
      "12/12 [==============================] - 0s 9ms/step - loss: 0.3719 - accuracy: 0.9180 - val_loss: 0.3925 - val_accuracy: 0.9500\n",
      "Epoch 10/18\n",
      "12/12 [==============================] - 0s 8ms/step - loss: 0.3688 - accuracy: 0.9372 - val_loss: 0.3585 - val_accuracy: 0.9500\n",
      "Epoch 11/18\n",
      "12/12 [==============================] - 0s 10ms/step - loss: 0.3901 - accuracy: 0.9208 - val_loss: 0.4113 - val_accuracy: 0.9500\n",
      "Epoch 12/18\n",
      "12/12 [==============================] - 0s 9ms/step - loss: 0.4300 - accuracy: 0.8880 - val_loss: 0.4971 - val_accuracy: 0.9167\n",
      "Epoch 13/18\n",
      "12/12 [==============================] - 0s 9ms/step - loss: 0.4288 - accuracy: 0.9016 - val_loss: 0.4212 - val_accuracy: 0.9500\n",
      "Epoch 14/18\n",
      "12/12 [==============================] - 0s 9ms/step - loss: 0.3947 - accuracy: 0.9126 - val_loss: 0.3612 - val_accuracy: 0.9500\n",
      "Epoch 15/18\n",
      "12/12 [==============================] - 0s 10ms/step - loss: 0.3984 - accuracy: 0.9208 - val_loss: 0.3514 - val_accuracy: 0.9500\n",
      "Epoch 16/18\n",
      "12/12 [==============================] - 0s 10ms/step - loss: 0.3715 - accuracy: 0.9290 - val_loss: 0.3529 - val_accuracy: 0.9500\n",
      "Epoch 17/18\n",
      "12/12 [==============================] - 0s 9ms/step - loss: 0.3615 - accuracy: 0.9454 - val_loss: 0.3436 - val_accuracy: 0.9500\n",
      "Epoch 18/18\n",
      "12/12 [==============================] - 0s 9ms/step - loss: 0.3782 - accuracy: 0.9208 - val_loss: 0.3423 - val_accuracy: 0.9333\n",
      "1/1 [==============================] - 0s 46ms/step - loss: 0.2663 - accuracy: 0.9688\n",
      "Most advanced model prediction accuracy is 0.96875, loss is 0.2662598788738251\n"
     ]
    }
   ],
   "source": [
    "from keras.src import regularizers\n",
    "from keras.src.layers import Dropout\n",
    "from sklearn.model_selection import StratifiedKFold\n",
    "from keras import optimizers\n",
    "\n",
    "k = 7\n",
    "reg_advanced_epochs = 18\n",
    "# reg_advanced_batch_size = 256\n",
    "regularized_scores = []\n",
    "opt = optimizers.Adam(learning_rate=0.001)\n",
    "\n",
    "regularized_advanced_model = Sequential([\n",
    "    Dense(128, activation='relu', input_shape=(seasons_data_all.shape[1],), kernel_regularizer=regularizers.l1(0.001)),\n",
    "    Dense(128, activation='relu', kernel_regularizer=regularizers.l2(0.001)),\n",
    "    # Dropout(0.02),  accuracy drops to 0.5\n",
    "    Dense(64, activation='relu'),\n",
    "    # Dense(32, activation='relu'),\n",
    "    Dense(16, activation='relu'),\n",
    "    Dense(1, activation='sigmoid')\n",
    "])\n",
    "\n",
    "regularized_advanced_model.compile(optimizer=opt,\n",
    "                                   loss='binary_crossentropy',\n",
    "                                   metrics=['accuracy'])\n",
    "\n",
    "kfold = StratifiedKFold(n_splits=k, shuffle=True, random_state=42)\n",
    "for train_idx, val_idx in kfold.split(data, target):\n",
    "    X_train_fold, X_val_fold = data[train_idx], data[val_idx]\n",
    "    y_train_fold, y_val_fold = target[train_idx], target[val_idx]\n",
    "    regularized_scores.append(regularized_advanced_model.fit(X_train_fold,\n",
    "                                                             y_train_fold,\n",
    "                                                             epochs=reg_advanced_epochs,\n",
    "                                                             #batch_size=reg_advanced_batch_size,\n",
    "                                                             validation_data=(X_val_fold, y_val_fold)))\n",
    "\n",
    "most_advanced_prediction_2022 = regularized_advanced_model.evaluate(seasons_data_2022, seasons_target_2022)\n",
    "print(\n",
    "    f'Most advanced model prediction accuracy is {most_advanced_prediction_2022[1]}, loss is {most_advanced_prediction_2022[0]}')"
   ],
   "metadata": {
    "collapsed": false,
    "ExecuteTime": {
     "end_time": "2024-02-29T18:43:22.693702Z",
     "start_time": "2024-02-29T18:43:04.775221Z"
    }
   },
   "id": "203717ef5b4867c0",
   "execution_count": 901
  },
  {
   "cell_type": "markdown",
   "id": "965fae51a80bbdef",
   "metadata": {},
   "source": [
    "# Results\n"
   ]
  },
  {
   "cell_type": "markdown",
   "source": [
    "MoneyPuck has a prediction [page](https://moneypuck.com/predictions.htm). \n",
    "They calculate odds, so I created my target vector based on those odds. \n",
    "A team gets ‘1’ if the odds are greater than 40%. \n",
    "I used this vector to see the performance of my model"
   ],
   "metadata": {
    "collapsed": false
   },
   "id": "d9291a76e761865f"
  },
  {
   "cell_type": "code",
   "outputs": [
    {
     "name": "stdout",
     "output_type": "stream",
     "text": [
      "1/1 [==============================] - 0s 120ms/step\n",
      "Prediction for season 2023-2024\n",
      "   team  playoff qualified  MoneyPack in Jan  MoneyPuck in March\n",
      "0   ANA                  0                 0                   0\n",
      "1   ARI                  0                 0                   0\n",
      "2   BOS                  1                 1                   1\n",
      "3   BUF                  0                 0                   0\n",
      "4   CAR                  1                 1                   1\n",
      "5   CBJ                  0                 0                   0\n",
      "6   CGY                  1                 0                   0\n",
      "7   CHI                  0                 0                   0\n",
      "8   COL                  1                 1                   0\n",
      "9   DAL                  1                 1                   1\n",
      "10  DET                  1                 0                   1\n",
      "11  EDM                  1                 1                   1\n",
      "12  FLA                  1                 1                   1\n",
      "13  LAK                  1                 1                   1\n",
      "14  MIN                  0                 0                   1\n",
      "15  MTL                  0                 0                   0\n",
      "16  NJD                  0                 1                   0\n",
      "17  NSH                  0                 0                   0\n",
      "18  NYI                  0                 1                   1\n",
      "19  NYR                  1                 1                   0\n",
      "20  OTT                  0                 0                   1\n",
      "21  PHI                  0                 1                   1\n",
      "22  PIT                  1                 1                   0\n",
      "23  SEA                  0                 1                   0\n",
      "24  SJS                  0                 0                   0\n",
      "25  STL                  0                 0                   0\n",
      "26  TBL                  1                 1                   1\n",
      "27  TOR                  1                 1                   1\n",
      "28  VAN                  1                 1                   1\n",
      "29  VGK                  1                 1                   1\n",
      "30  WPG                  1                 1                   0\n",
      "31  WSH                  0                 0                   0\n",
      "1/1 [==============================] - 0s 266ms/step - loss: 0.7064 - accuracy: 0.8125\n",
      "Prediction comparing to MoneyPuck (Jan 2024 with January data) accuracy is 0.8125, loss is 0.7063925266265869\n",
      "1/1 [==============================] - 0s 42ms/step - loss: 1.5116 - accuracy: 0.7188\n",
      "Prediction comparing to MoneyPuck (Mar 2024 but the same January data) accuracy is 0.71875, loss is 1.5115739107131958\n"
     ]
    }
   ],
   "source": [
    "advanced_prediction_2023 = regularized_advanced_model.predict(seasons_data_2023).flatten()\n",
    "# print(advanced_prediction_2023)\n",
    "round_advanced_prediction_2023 = np.where(advanced_prediction_2023 >= 0.8, 1, 0)\n",
    "final_prediction_2023 = pd.DataFrame(\n",
    "    {\"team\": seasons_teams_2022,\n",
    "     \"playoff qualified\": round_advanced_prediction_2023,\n",
    "     \"MoneyPack in Jan\": seasons_target_2023,\n",
    "     \"MoneyPuck in March\" : seasons_target_2023_march\n",
    "     }\n",
    ")\n",
    "print(f'Prediction for season 2023-2024\\n{final_prediction_2023}')\n",
    "\n",
    "\n",
    "against_money_puck_prediction_2023 = regularized_advanced_model.evaluate(seasons_data_2023,\n",
    "                                                                         np.array(seasons_target_2023))\n",
    "print(\n",
    "    f'Prediction comparing to MoneyPuck (Jan 2024 with January data) accuracy is {against_money_puck_prediction_2023[1]}, loss is {against_money_puck_prediction_2023[0]}')\n",
    "\n",
    "against_money_puck_prediction_2023_march = regularized_advanced_model.evaluate(seasons_data_2023,\n",
    "                                                                               np.array(seasons_target_2023_march))\n",
    "print(\n",
    "    f'Prediction comparing to MoneyPuck (Mar 2024 but the same January data) accuracy is {against_money_puck_prediction_2023_march[1]}, loss is {against_money_puck_prediction_2023_march[0]}')\n",
    "\n"
   ],
   "metadata": {
    "collapsed": false,
    "ExecuteTime": {
     "end_time": "2024-02-29T18:43:23.381592Z",
     "start_time": "2024-02-29T18:43:22.696647Z"
    }
   },
   "id": "49cab30cdf2782cc",
   "execution_count": 902
  },
  {
   "cell_type": "markdown",
   "id": "b4517e35d75ca1e",
   "metadata": {},
   "source": [
    "# Evaluation\n"
   ]
  },
  {
   "cell_type": "markdown",
   "id": "e7278f61abb9ad56",
   "metadata": {},
   "source": [
    "# Conclusions"
   ]
  },
  {
   "cell_type": "markdown",
   "id": "7a4a6748c954bbd4",
   "metadata": {},
   "source": [
    "# References\n"
   ]
  }
 ],
 "metadata": {
  "kernelspec": {
   "display_name": "Python 3 (ipykernel)",
   "language": "python",
   "name": "python3"
  },
  "language_info": {
   "codemirror_mode": {
    "name": "ipython",
    "version": 3
   },
   "file_extension": ".py",
   "mimetype": "text/x-python",
   "name": "python",
   "nbconvert_exporter": "python",
   "pygments_lexer": "ipython3",
   "version": "3.9.2"
  }
 },
 "nbformat": 4,
 "nbformat_minor": 5
}
