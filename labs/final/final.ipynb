{
 "cells": [
  {
   "cell_type": "markdown",
   "id": "fcb1cba37ce89672",
   "metadata": {},
   "source": [
    "# Abstract\n",
    "\n",
    "This work aims to predict the qualification for the playoffs in the upcoming NHL season (2023-2024) based on the game features using neural network.\n",
    "This work is continuation of the Midterm work which used the kNN and Decision tree algorithms for prediction.\n"
   ]
  },
  {
   "cell_type": "markdown",
   "id": "fa472f5ad63a776c",
   "metadata": {},
   "source": [
    "# Introduction\n",
    "\n",
    "The National Hockey League is a professional ice hockey league in North America consisting of 32 (as of 2023) teams: 25 in the United States and 7 in Canada. \n",
    "Eight teams from each of the two conferences qualify for the playoffs based on their total regular season points.\n",
    "Thus, it is not possible to win the Stanley Cup without being qualified for playoffs. \n",
    "\n",
    "Making precise predictions might help coaches improve team game strategies and adjust plans before the next game.\n",
    "\n",
    "The dataset was taken from the MoneyPuck [source](https://moneypuck.com/moneypuck/playerData/careers/gameByGame/all_teams.csv). \n",
    "The data is free to use. No guarantees are made to the quality of the data. NHL data is known to have issues and biases. \n",
    "Data is summarized on the season level and a game-by-game level going from 2008 up to 2023. \n",
    "The data for 2022 and 2023 will be filtered out because the prediction is going to be made for the 2022-2024 seasons \n",
    "and data for seasons up to 2022 is taken from the [file](https://moneypuck.com/moneypuck/playerData/seasonSummary/2023/regular/teams.csv)\n",
    "\n"
   ]
  },
  {
   "cell_type": "code",
   "execution_count": 163,
   "id": "initial_id",
   "metadata": {
    "collapsed": true,
    "ExecuteTime": {
     "end_time": "2024-02-26T20:28:47.607754Z",
     "start_time": "2024-02-26T20:28:47.600758Z"
    }
   },
   "outputs": [],
   "source": [
    "%matplotlib inline\n",
    "import warnings\n",
    "warnings.filterwarnings('ignore')\n",
    "import numpy as np\n",
    "import matplotlib.pyplot as plt\n",
    "import pandas as pd\n",
    "\n",
    "from keras import models\n",
    "from keras import layers"
   ]
  },
  {
   "cell_type": "markdown",
   "id": "41ab4aaaecd80455",
   "metadata": {},
   "source": [
    "# Methodology\n"
   ]
  },
  {
   "cell_type": "code",
   "execution_count": 163,
   "id": "b521ba8fd094409a",
   "metadata": {
    "ExecuteTime": {
     "end_time": "2024-02-26T20:28:47.751267Z",
     "start_time": "2024-02-26T20:28:47.747267Z"
    }
   },
   "outputs": [],
   "source": []
  },
  {
   "cell_type": "markdown",
   "id": "e1c96597034093f3",
   "metadata": {},
   "source": [
    "## 4.5.1. Defining the problem and assembling a dataset"
   ]
  },
  {
   "cell_type": "markdown",
   "id": "44eeff17c8d789f",
   "metadata": {},
   "source": [
    "I am trying to predict whether a team is qualified for playoff or not based on historical data. \n",
    "The historical data contains the column `playoffGame` a flag depicting whether a game was played during playoffs. \n",
    "Thus, if a team plays at least one game during the season’s playoff it means that the team has been qualified for the playoff.\n",
    "This is binary classification problem"
   ]
  },
  {
   "cell_type": "code",
   "outputs": [],
   "source": [
    "def read_nhl_data():\n",
    "    _nhl_data = pd.read_csv('moneypack/all_teams.csv')\n",
    "    _nhl_data = _nhl_data.dropna()\n",
    "\n",
    "    columns_to_drop = [\n",
    "        'name', 'gameId', 'playerTeam',\n",
    "        'opposingTeam', 'home_or_away',\n",
    "        'gameDate', 'position',\n",
    "        'situation', 'iceTime',\n",
    "        #'playoffGame'\n",
    "    ]\n",
    "\n",
    "    _nhl_data = _nhl_data.sort_values(by=['team', 'season'])\n",
    "    _nhl_data = _nhl_data.drop(columns=columns_to_drop)\n",
    "    _nhl_data = _nhl_data.groupby(['team', 'season'], as_index=False).mean()\n",
    "    _nhl_data['playoff_qualified'] = _nhl_data['playoffGame'].apply(lambda val: 1 if val > 0 else 0)\n",
    "    _nhl_data = _nhl_data.drop(columns=['playoffGame'])\n",
    "\n",
    "    return _nhl_data\n",
    "\n",
    "def read_nhl_data_2023():\n",
    "    _nhl_data_2023 = pd.read_csv('moneypack/teams_2023.csv')\n",
    "    columns_to_drop_from_2023 = ['name', 'position', 'situation', 'iceTime', 'team.1', 'games_played']\n",
    "\n",
    "    _nhl_data_2023 = _nhl_data_2023.dropna()\n",
    "    _nhl_data_2023 = _nhl_data_2023.drop(columns=columns_to_drop_from_2023)\n",
    "    _nhl_data_2023 = _nhl_data_2023.sort_values(by=['team', 'season'])\n",
    "    _nhl_data_2023 = _nhl_data_2023.groupby(['team', 'season']).mean()\n",
    "    return _nhl_data_2023\n",
    "\n",
    "def get_team_names(_team_data):\n",
    "    duplicates = pd.DataFrame(_team_data['team']).drop_duplicates(subset=None, keep='first', inplace=False,\n",
    "                                                                  ignore_index=False)\n",
    "    duplicates = duplicates.sort_values(by=['team'])\n",
    "    return duplicates['team'].values"
   ],
   "metadata": {
    "collapsed": false,
    "ExecuteTime": {
     "end_time": "2024-02-26T20:28:47.817051Z",
     "start_time": "2024-02-26T20:28:47.793825Z"
    }
   },
   "id": "6e2dcd40cc95a952",
   "execution_count": 164
  },
  {
   "cell_type": "code",
   "outputs": [],
   "source": [
    "by_team_season_all = read_nhl_data()\n",
    "by_team_season_all = by_team_season_all[(by_team_season_all['season'] != 2023)]\n",
    "by_team_season_all = by_team_season_all[(by_team_season_all['season'] != 2022)]\n",
    "\n",
    "seasons_data_all = by_team_season_all.drop(columns=['playoff_qualified', 'season', 'team'])\n",
    "seasons_target_all = by_team_season_all['playoff_qualified'].values"
   ],
   "metadata": {
    "collapsed": false,
    "ExecuteTime": {
     "end_time": "2024-02-26T20:28:51.820812Z",
     "start_time": "2024-02-26T20:28:47.899021Z"
    }
   },
   "id": "c74d6ed183281fd9",
   "execution_count": 165
  },
  {
   "cell_type": "markdown",
   "source": [],
   "metadata": {
    "collapsed": false
   },
   "id": "73899362aede06e1"
  },
  {
   "cell_type": "markdown",
   "id": "7ad4cd55a87b585d",
   "metadata": {},
   "source": [
    "## 4.5.2. Choosing a measure of success\n",
    "To select the main metrics for success for the binary classification problem we need to understand if the classes are approximately equal.\n",
    "Try to visualize the classes and calculate the imbalance ratio as follows"
   ]
  },
  {
   "cell_type": "code",
   "outputs": [
    {
     "name": "stdout",
     "output_type": "stream",
     "text": [
      "Class Counts: 1    232\n",
      "0    194\n",
      "Name: count, dtype: int64\n",
      "Class Proportions: 1    0.544601\n",
      "0    0.455399\n",
      "Name: proportion, dtype: float64\n",
      "Imbalance Ratio: 0.8362068965517241\n"
     ]
    },
    {
     "data": {
      "text/plain": "<Figure size 640x480 with 1 Axes>",
      "image/png": "[encoded data removed]"
     },
     "metadata": {},
     "output_type": "display_data"
    }
   ],
   "source": [
    "class_counts = pd.Series(seasons_target_all).value_counts()\n",
    "class_proportions = pd.Series(seasons_target_all).value_counts(normalize=True)\n",
    "imbalance_ratio = class_counts[0] / class_counts[1]  # Assuming binary classification\n",
    "print(\"Class Counts:\", class_counts)\n",
    "print(\"Class Proportions:\", class_proportions)\n",
    "print(\"Imbalance Ratio:\", imbalance_ratio)\n",
    "plt.hist(seasons_target_all)\n",
    "plt.xlabel('Class')\n",
    "plt.ylabel('Frequency')\n",
    "plt.title('Distribution of Target Classes')\n",
    "plt.show()"
   ],
   "metadata": {
    "collapsed": false,
    "ExecuteTime": {
     "end_time": "2024-02-26T20:28:52.076164Z",
     "start_time": "2024-02-26T20:28:51.823788Z"
    }
   },
   "id": "5e797207fcc17bb9",
   "execution_count": 166
  },
  {
   "cell_type": "markdown",
   "source": [
    "Classes are almost balanced and the Accuracy can be used as the main metrics for success. \n",
    "TBD it defines the loss function. "
   ],
   "metadata": {
    "collapsed": false
   },
   "id": "f3528a19b44805e3"
  },
  {
   "cell_type": "markdown",
   "id": "2a947604b3fd74ff",
   "metadata": {},
   "source": [
    "## 4.5.3. Deciding on an evaluation protocol\n",
    "Doing iterated K-fold validation— For performing highly accurate model evaluation when little data is available"
   ]
  },
  {
   "cell_type": "markdown",
   "id": "f830df088eebb7d0",
   "metadata": {},
   "source": [
    "## 4.5.4. Preparing your data\n",
    " data should be formatted as tensors.\n",
    " The values taken by these tensors should usually be scaled to small values: for example, in the [-1, 1] range or [0, 1] range.\n",
    " the data should be normalized."
   ]
  },
  {
   "cell_type": "markdown",
   "source": [
    "Get data for 2022 as test set?"
   ],
   "metadata": {
    "collapsed": false
   },
   "id": "2853c0e78702bf8"
  },
  {
   "cell_type": "code",
   "outputs": [],
   "source": [
    "by_team_season_all = read_nhl_data()\n",
    "by_team_season_all = by_team_season_all[(by_team_season_all['season'] == 2022)]\n",
    "\n",
    "seasons_teams_2022 = get_team_names(by_team_season_all)\n",
    "seasons_data_2022 = by_team_season_all.drop(columns=['playoff_qualified', 'season', 'team'])\n",
    "seasons_target_2022 = by_team_season_all['playoff_qualified'].values"
   ],
   "metadata": {
    "collapsed": false,
    "ExecuteTime": {
     "end_time": "2024-02-26T20:28:58.731228Z",
     "start_time": "2024-02-26T20:28:52.082166Z"
    }
   },
   "id": "c4ca28df390a5ce3",
   "execution_count": 167
  },
  {
   "cell_type": "markdown",
   "source": [
    "Get data for 2023 as validation set?"
   ],
   "metadata": {
    "collapsed": false
   },
   "id": "e1c3bc74ae86db9"
  },
  {
   "cell_type": "code",
   "outputs": [],
   "source": [
    "seasons_data_2023 = read_nhl_data_2023()\n",
    "seasons_teams_2023 = get_team_names(pd.read_csv('moneypack/teams_2023.csv'))\n",
    "seasons_target_2023 = [0, 0, 1, 0, 1, 0, 0, 0, 1, 1, 0, 1, 1, 1, 0, 0, 1, 0, 1, 1, 0, 1, 1, 1, 0, 0, 1, 1, 1, 1, 1,\n",
    "                       0]  #<40"
   ],
   "metadata": {
    "collapsed": false,
    "ExecuteTime": {
     "end_time": "2024-02-26T20:28:58.773782Z",
     "start_time": "2024-02-26T20:28:58.735229Z"
    }
   },
   "id": "711c48d3811df5b0",
   "execution_count": 168
  },
  {
   "cell_type": "markdown",
   "source": [
    "Transform features by scaling each feature to a given range.\n",
    "This MinMaxScaler estimator scales and translates each feature individually such that it is in the given range on the training set, between zero and one."
   ],
   "metadata": {
    "collapsed": false
   },
   "id": "a73eaa3de89a74b7"
  },
  {
   "cell_type": "code",
   "outputs": [
    {
     "name": "stdout",
     "output_type": "stream",
     "text": [
      "[[0.         0.05098676 0.05835644 ... 0.98334063 1.         1.        ]\n",
      " [0.13453518 0.         0.         ... 1.         0.99729324 0.97581056]\n",
      " [0.85038411 0.71967475 0.70747693 ... 0.29028081 0.26721015 0.26381488]\n",
      " ...\n",
      " [0.63753181 0.32678133 0.4863255  ... 0.23511574 0.22135281 0.23107669]\n",
      " [0.64870309 0.51797002 0.55173883 ... 0.36275068 0.35802139 0.35461815]\n",
      " [0.54873341 0.53459687 0.5518523  ... 0.52671626 0.52122417 0.52591267]]\n"
     ]
    }
   ],
   "source": [
    "from sklearn.preprocessing import MinMaxScaler\n",
    "\n",
    "scaler = MinMaxScaler()\n",
    "seasons_data_all = scaler.fit_transform(seasons_data_all)\n",
    "seasons_data_2022 = scaler.fit_transform(seasons_data_2022)\n",
    "seasons_data_2023 = scaler.fit_transform(seasons_data_2023)\n",
    "print(seasons_data_2022)"
   ],
   "metadata": {
    "collapsed": false,
    "ExecuteTime": {
     "end_time": "2024-02-26T20:28:58.811134Z",
     "start_time": "2024-02-26T20:28:58.779779Z"
    }
   },
   "id": "343441cd66dbbf76",
   "execution_count": 169
  },
  {
   "cell_type": "markdown",
   "id": "7c58da94271a26ea",
   "metadata": {},
   "source": [
    "## 4.5.5. Developing a model that does better than a baseline\n",
    "Assuming that things go well, you need to make three key choices to build your first working model:\n",
    "\n",
    "Last-layer activation - sigmoid in the last layer\n",
    "Loss function - binary_crossentropy\n",
    "Optimization configuration - What optimizer will you use? What will its learning rate be? In most cases, it’s safe to go with rmsprop and its default learning rate"
   ]
  },
  {
   "cell_type": "code",
   "outputs": [
    {
     "name": "stdout",
     "output_type": "stream",
     "text": [
      "Epoch 1/10\n",
      "11/11 [==============================] - 1s 28ms/step - loss: 0.6547 - accuracy: 0.6353 - val_loss: 0.6417 - val_accuracy: 0.7093\n",
      "Epoch 2/10\n",
      "11/11 [==============================] - 0s 9ms/step - loss: 0.6105 - accuracy: 0.7029 - val_loss: 0.6136 - val_accuracy: 0.7093\n",
      "Epoch 3/10\n",
      "11/11 [==============================] - 0s 9ms/step - loss: 0.5825 - accuracy: 0.7412 - val_loss: 0.5836 - val_accuracy: 0.7558\n",
      "Epoch 4/10\n",
      "11/11 [==============================] - 0s 11ms/step - loss: 0.5555 - accuracy: 0.7588 - val_loss: 0.6305 - val_accuracy: 0.6628\n",
      "Epoch 5/10\n",
      "11/11 [==============================] - 0s 10ms/step - loss: 0.5434 - accuracy: 0.7294 - val_loss: 0.5771 - val_accuracy: 0.6977\n",
      "Epoch 6/10\n",
      "11/11 [==============================] - 0s 13ms/step - loss: 0.5188 - accuracy: 0.7882 - val_loss: 0.5388 - val_accuracy: 0.7558\n",
      "Epoch 7/10\n",
      "11/11 [==============================] - 0s 11ms/step - loss: 0.5070 - accuracy: 0.7706 - val_loss: 0.5288 - val_accuracy: 0.7442\n",
      "Epoch 8/10\n",
      "11/11 [==============================] - 0s 10ms/step - loss: 0.4930 - accuracy: 0.7735 - val_loss: 0.5264 - val_accuracy: 0.7209\n",
      "Epoch 9/10\n",
      "11/11 [==============================] - 0s 23ms/step - loss: 0.4740 - accuracy: 0.7824 - val_loss: 0.6711 - val_accuracy: 0.6395\n",
      "Epoch 10/10\n",
      "11/11 [==============================] - 0s 23ms/step - loss: 0.4803 - accuracy: 0.7912 - val_loss: 0.5556 - val_accuracy: 0.7442\n"
     ]
    },
    {
     "data": {
      "text/plain": "<keras.src.callbacks.History at 0x1a2047fa090>"
     },
     "execution_count": 170,
     "metadata": {},
     "output_type": "execute_result"
    }
   ],
   "source": [
    "from keras.src.layers import Dense\n",
    "from keras import Sequential\n",
    "\n",
    "data = seasons_data_all\n",
    "target = seasons_target_all\n",
    "\n",
    "model = Sequential([\n",
    "    Dense(32, activation='relu', input_shape=(seasons_data_all.shape[1],)),\n",
    "    Dense(16, activation='relu'),\n",
    "    Dense(1, activation='sigmoid')  \n",
    "])\n",
    "\n",
    "model.compile(optimizer='rmsprop',\n",
    "              loss='binary_crossentropy', \n",
    "              metrics=['accuracy'])\n",
    "\n",
    "model.fit(data, target, epochs=10, batch_size=32, validation_split=0.2)  \n"
   ],
   "metadata": {
    "collapsed": false,
    "ExecuteTime": {
     "end_time": "2024-02-26T20:29:01.392158Z",
     "start_time": "2024-02-26T20:28:58.813132Z"
    }
   },
   "id": "54d56bef41604bb5",
   "execution_count": 170
  },
  {
   "cell_type": "code",
   "outputs": [
    {
     "name": "stdout",
     "output_type": "stream",
     "text": [
      "Epoch 1/20\n",
      "1/1 [==============================] - 0s 303ms/step - loss: 0.5556 - accuracy: 0.7442 - val_loss: 0.4623 - val_accuracy: 0.7882\n",
      "Epoch 2/20\n",
      "1/1 [==============================] - 0s 106ms/step - loss: 0.5079 - accuracy: 0.7442 - val_loss: 0.4673 - val_accuracy: 0.7882\n",
      "Epoch 3/20\n",
      "1/1 [==============================] - 0s 122ms/step - loss: 0.5027 - accuracy: 0.7558 - val_loss: 0.4687 - val_accuracy: 0.7882\n",
      "Epoch 4/20\n",
      "1/1 [==============================] - 0s 136ms/step - loss: 0.5007 - accuracy: 0.7442 - val_loss: 0.4686 - val_accuracy: 0.7882\n",
      "Epoch 5/20\n",
      "1/1 [==============================] - 0s 121ms/step - loss: 0.4988 - accuracy: 0.7442 - val_loss: 0.4684 - val_accuracy: 0.7882\n",
      "Epoch 6/20\n",
      "1/1 [==============================] - 0s 153ms/step - loss: 0.4969 - accuracy: 0.7442 - val_loss: 0.4681 - val_accuracy: 0.7882\n",
      "Epoch 7/20\n",
      "1/1 [==============================] - 0s 188ms/step - loss: 0.4949 - accuracy: 0.7558 - val_loss: 0.4677 - val_accuracy: 0.7882\n",
      "Epoch 8/20\n",
      "1/1 [==============================] - 0s 179ms/step - loss: 0.4929 - accuracy: 0.7558 - val_loss: 0.4672 - val_accuracy: 0.7882\n",
      "Epoch 9/20\n",
      "1/1 [==============================] - 0s 133ms/step - loss: 0.4908 - accuracy: 0.7558 - val_loss: 0.4666 - val_accuracy: 0.7882\n",
      "Epoch 10/20\n",
      "1/1 [==============================] - 0s 163ms/step - loss: 0.4887 - accuracy: 0.7558 - val_loss: 0.4659 - val_accuracy: 0.7853\n",
      "Epoch 11/20\n",
      "1/1 [==============================] - 0s 136ms/step - loss: 0.4866 - accuracy: 0.7558 - val_loss: 0.4654 - val_accuracy: 0.7882\n",
      "Epoch 12/20\n",
      "1/1 [==============================] - 0s 142ms/step - loss: 0.4845 - accuracy: 0.7674 - val_loss: 0.4651 - val_accuracy: 0.7912\n",
      "Epoch 13/20\n",
      "1/1 [==============================] - 0s 213ms/step - loss: 0.4825 - accuracy: 0.7674 - val_loss: 0.4641 - val_accuracy: 0.7912\n",
      "Epoch 14/20\n",
      "1/1 [==============================] - 0s 218ms/step - loss: 0.4804 - accuracy: 0.7674 - val_loss: 0.4636 - val_accuracy: 0.7912\n",
      "Epoch 15/20\n",
      "1/1 [==============================] - 0s 121ms/step - loss: 0.4783 - accuracy: 0.7674 - val_loss: 0.4622 - val_accuracy: 0.7912\n",
      "Epoch 16/20\n",
      "1/1 [==============================] - 0s 149ms/step - loss: 0.4762 - accuracy: 0.7674 - val_loss: 0.4623 - val_accuracy: 0.7941\n",
      "Epoch 17/20\n",
      "1/1 [==============================] - 0s 147ms/step - loss: 0.4740 - accuracy: 0.7674 - val_loss: 0.4609 - val_accuracy: 0.7941\n",
      "Epoch 18/20\n",
      "1/1 [==============================] - 0s 154ms/step - loss: 0.4718 - accuracy: 0.7674 - val_loss: 0.4609 - val_accuracy: 0.7941\n",
      "Epoch 19/20\n",
      "1/1 [==============================] - 0s 93ms/step - loss: 0.4696 - accuracy: 0.7674 - val_loss: 0.4594 - val_accuracy: 0.7941\n",
      "Epoch 20/20\n",
      "1/1 [==============================] - 0s 127ms/step - loss: 0.4673 - accuracy: 0.7674 - val_loss: 0.4594 - val_accuracy: 0.7971\n"
     ]
    },
    {
     "data": {
      "text/plain": "<Figure size 640x480 with 1 Axes>",
      "image/png": "[encoded data removed]"
     },
     "metadata": {},
     "output_type": "display_data"
    }
   ],
   "source": [
    "num_validation_samples = len(data)\n",
    "limit = 340\n",
    "\n",
    "x_val = data[:limit]\n",
    "partial_x_train = data[limit:]\n",
    "y_val = target[:limit]\n",
    "partial_y_train = target[limit:]\n",
    "\n",
    "history = model.fit(partial_x_train,\n",
    "                    partial_y_train,\n",
    "                    epochs=20,\n",
    "                    batch_size=512,\n",
    "                    validation_data=(x_val, y_val))\n",
    "\n",
    "history_dict = history.history\n",
    "loss_values = history_dict['loss']\n",
    "val_loss_values = history_dict['val_loss']\n",
    "\n",
    "epochs = range(1, len(loss_values) + 1)\n",
    "\n",
    "plt.plot(epochs, loss_values, 'bo', label='Training loss')           \n",
    "plt.plot(epochs, val_loss_values, 'b', label='Validation loss')      \n",
    "plt.title('Training and validation loss')\n",
    "plt.xlabel('Epochs')\n",
    "plt.ylabel('Loss')\n",
    "plt.legend()\n",
    "\n",
    "plt.show()"
   ],
   "metadata": {
    "collapsed": false,
    "ExecuteTime": {
     "end_time": "2024-02-26T20:29:05.481582Z",
     "start_time": "2024-02-26T20:29:01.400921Z"
    }
   },
   "id": "c54ebf0c76ed7b50",
   "execution_count": 171
  },
  {
   "cell_type": "markdown",
   "source": [
    "As you can see, the training loss decreases with every epoch, and the training accuracy increases with every epoch. That’s what you would expect when running gradient-descent optimization—the quantity you’re trying to minimize should be less with every iteration"
   ],
   "metadata": {
    "collapsed": false
   },
   "id": "8ae3f9eabe1c4da4"
  },
  {
   "cell_type": "code",
   "outputs": [
    {
     "data": {
      "text/plain": "<matplotlib.legend.Legend at 0x1a204a24dd0>"
     },
     "execution_count": 172,
     "metadata": {},
     "output_type": "execute_result"
    },
    {
     "data": {
      "text/plain": "<Figure size 640x480 with 1 Axes>",
      "image/png": "[encoded data removed]"
     },
     "metadata": {},
     "output_type": "display_data"
    }
   ],
   "source": [
    "plt.clf()                                      \n",
    "acc = history_dict['accuracy']\n",
    "val_acc = history_dict['val_accuracy']\n",
    "\n",
    "plt.plot(epochs, acc, 'bo', label='Training acc')\n",
    "plt.plot(epochs, val_acc, 'b', label='Validation acc')\n",
    "plt.title('Training and validation accuracy')\n",
    "plt.xlabel('Epochs')\n",
    "plt.ylabel('Accuracy')\n",
    "plt.legend()\n"
   ],
   "metadata": {
    "collapsed": false,
    "ExecuteTime": {
     "end_time": "2024-02-26T20:29:06.233593Z",
     "start_time": "2024-02-26T20:29:05.484578Z"
    }
   },
   "id": "845bbf8286e03a77",
   "execution_count": 172
  },
  {
   "cell_type": "code",
   "outputs": [
    {
     "name": "stdout",
     "output_type": "stream",
     "text": [
      "1/1 [==============================] - 0s 187ms/step\n"
     ]
    },
    {
     "data": {
      "text/plain": "array([[0.01625606],\n       [0.02558777],\n       [0.9349405 ],\n       [0.604878  ],\n       [0.9450031 ],\n       [0.04103851],\n       [0.9371062 ],\n       [0.04814078],\n       [0.8942497 ],\n       [0.9083509 ],\n       [0.30578977],\n       [0.9420079 ],\n       [0.88037795],\n       [0.8935956 ],\n       [0.8379454 ],\n       [0.03287545],\n       [0.9290712 ],\n       [0.3216052 ],\n       [0.72631776],\n       [0.8699901 ],\n       [0.89137816],\n       [0.19808438],\n       [0.89790475],\n       [0.76792556],\n       [0.22304045],\n       [0.08349363],\n       [0.8917888 ],\n       [0.9018179 ],\n       [0.474419  ],\n       [0.8687589 ],\n       [0.8339215 ],\n       [0.58755326]], dtype=float32)"
     },
     "execution_count": 173,
     "metadata": {},
     "output_type": "execute_result"
    }
   ],
   "source": [
    "model.predict(seasons_data_2022)\n"
   ],
   "metadata": {
    "collapsed": false,
    "ExecuteTime": {
     "end_time": "2024-02-26T20:29:06.583010Z",
     "start_time": "2024-02-26T20:29:06.236604Z"
    }
   },
   "id": "b2b282b47b243383",
   "execution_count": 173
  },
  {
   "cell_type": "markdown",
   "source": [],
   "metadata": {
    "collapsed": false
   },
   "id": "73b65cb16dfe5f28"
  },
  {
   "cell_type": "markdown",
   "source": [
    "You train on the training data and evaluate your model on the validation data. \n",
    "Once your model is ready for prime time, you test it one final time on the test data. \n",
    "(2022 test data)\n",
    "2023 - new data for prediction\n",
    "so i need to split seasons_data_all_features to training and validation data"
   ],
   "metadata": {
    "collapsed": false
   },
   "id": "37b00dc4ef82c03f"
  },
  {
   "cell_type": "markdown",
   "id": "13e6ee7e9510046d",
   "metadata": {},
   "source": [
    "## 4.5.6. Scaling up: developing a model that overfits\n",
    "To figure out how big a model you’ll need, you must develop a model that overfits. This is fairly easy:\n",
    "\n",
    "Add layers.\n",
    "Make the layers bigger.\n",
    "Train for more epochs."
   ]
  },
  {
   "cell_type": "markdown",
   "id": "134109fb5199368c",
   "metadata": {},
   "source": [
    "## 4.5.7. Regularizing your model and tuning your hyperparameters\n",
    "These are some things you should try:\n",
    "\n",
    "Add dropout.\n",
    "Try different architectures: add or remove layers.\n",
    "Add L1 and/or L2 regularization.\n",
    "Try different hyperparameters (such as the number of units per layer or the learning rate of the optimizer) to find the optimal configuration.\n",
    "Optionally, iterate on feature engineering: add new features, or remove features that don’t seem to be informative."
   ]
  },
  {
   "cell_type": "markdown",
   "id": "965fae51a80bbdef",
   "metadata": {},
   "source": [
    "# Results\n"
   ]
  },
  {
   "cell_type": "markdown",
   "id": "b4517e35d75ca1e",
   "metadata": {},
   "source": [
    "# Evaluation\n"
   ]
  },
  {
   "cell_type": "markdown",
   "id": "e7278f61abb9ad56",
   "metadata": {},
   "source": [
    "# Conclusions"
   ]
  },
  {
   "cell_type": "markdown",
   "id": "7a4a6748c954bbd4",
   "metadata": {},
   "source": [
    "# References\n"
   ]
  }
 ],
 "metadata": {
  "kernelspec": {
   "display_name": "Python 3 (ipykernel)",
   "language": "python",
   "name": "python3"
  },
  "language_info": {
   "codemirror_mode": {
    "name": "ipython",
    "version": 3
   },
   "file_extension": ".py",
   "mimetype": "text/x-python",
   "name": "python",
   "nbconvert_exporter": "python",
   "pygments_lexer": "ipython3",
   "version": "3.9.2"
  }
 },
 "nbformat": 4,
 "nbformat_minor": 5
}
