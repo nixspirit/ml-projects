{
 "cells": [
  {
   "cell_type": "code",
   "execution_count": 867,
   "id": "initial_id",
   "metadata": {
    "collapsed": true,
    "ExecuteTime": {
     "end_time": "2024-01-06T20:02:03.305378Z",
     "start_time": "2024-01-06T20:02:03.185917500Z"
    }
   },
   "outputs": [],
   "source": [
    "from functools import cmp_to_key\n",
    "\n",
    "from sklearn.metrics import mean_absolute_error\n",
    "from sklearn.metrics import precision_score, recall_score, accuracy_score, confusion_matrix\n",
    "from sklearn.model_selection import learning_curve\n",
    "from sklearn.model_selection import cross_validate\n",
    "\n",
    "from sklearn.tree import DecisionTreeClassifier\n",
    "# set matplotlib backend to inline\n",
    "%matplotlib inline\n",
    "\n",
    "# import modules\n",
    "import numpy as np\n",
    "import seaborn as sns\n",
    "import matplotlib.pyplot as plt\n",
    "import pandas as pd\n",
    "from sklearn.neighbors import KNeighborsClassifier\n",
    "from sklearn.ensemble import VotingClassifier\n",
    "from sklearn.preprocessing import StandardScaler\n",
    "\n",
    "from sklearn.metrics import f1_score\n",
    "from sklearn.feature_selection import SelectKBest, chi2\n",
    "from sklearn.model_selection import StratifiedShuffleSplit"
   ]
  },
  {
   "cell_type": "code",
   "outputs": [],
   "source": [
    "def read_nhl_data():\n",
    "    _nhl_data = pd.read_csv('moneypack/all_teams.csv')\n",
    "    _nhl_data = _nhl_data.dropna()\n",
    "\n",
    "    columns_to_drop = [\n",
    "        'name', 'gameId', 'playerTeam',\n",
    "        'opposingTeam', 'home_or_away',\n",
    "        'gameDate', 'position',\n",
    "        'situation', 'iceTime',\n",
    "        #'playoffGame'\n",
    "    ]\n",
    "\n",
    "    _nhl_data = _nhl_data.sort_values(by=['team', 'season'])\n",
    "    _nhl_data = _nhl_data.drop(columns=columns_to_drop)\n",
    "    _nhl_data = _nhl_data.groupby(['team', 'season'], as_index=False).mean()\n",
    "    _nhl_data['playoff_qualified'] = _nhl_data['playoffGame'].apply(lambda val: 1 if val > 0 else 0)\n",
    "    _nhl_data = _nhl_data.drop(columns=['playoffGame'])\n",
    "\n",
    "    return _nhl_data\n",
    "\n",
    "\n",
    "def read_nhl_data_2023():\n",
    "    _nhl_data_2023 = pd.read_csv('moneypack/teams_2023.csv')\n",
    "    columns_to_drop_from_2023 = ['name', 'position', 'situation', 'iceTime', 'team.1', 'games_played']\n",
    "\n",
    "    _nhl_data_2023 = _nhl_data_2023.dropna()\n",
    "    _nhl_data_2023 = _nhl_data_2023.drop(columns=columns_to_drop_from_2023)\n",
    "    _nhl_data_2023 = _nhl_data_2023.sort_values(by=['team', 'season'])\n",
    "    _nhl_data_2023 = _nhl_data_2023.groupby(['team', 'season']).mean()\n",
    "    return _nhl_data_2023\n",
    "\n",
    "\n",
    "def get_team_names(_team_data):\n",
    "    duplicates = pd.DataFrame(_team_data['team']).drop_duplicates(subset=None, keep='first', inplace=False,\n",
    "                                                                  ignore_index=False)\n",
    "    duplicates = duplicates.sort_values(by=['team'])\n",
    "    return duplicates['team'].values"
   ],
   "metadata": {
    "collapsed": false,
    "ExecuteTime": {
     "end_time": "2024-01-06T20:02:03.308379400Z",
     "start_time": "2024-01-06T20:02:03.262069400Z"
    }
   },
   "id": "47386f0d483343b0",
   "execution_count": 868
  },
  {
   "cell_type": "code",
   "outputs": [],
   "source": [
    "by_team_season_all = read_nhl_data()\n",
    "by_team_season_all = by_team_season_all[(by_team_season_all['season'] != 2023)]\n",
    "by_team_season_all = by_team_season_all[(by_team_season_all['season'] != 2022)]\n",
    "\n",
    "seasons_data_all = by_team_season_all.drop(columns=['playoff_qualified', 'season', 'team'])\n",
    "seasons_target_all = by_team_season_all['playoff_qualified'].values"
   ],
   "metadata": {
    "collapsed": false,
    "is_executing": true,
    "ExecuteTime": {
     "start_time": "2024-01-06T20:02:03.314382500Z"
    }
   },
   "id": "a72039ebc314a5f4",
   "execution_count": null
  },
  {
   "cell_type": "code",
   "outputs": [],
   "source": [
    "by_team_season_all = read_nhl_data()\n",
    "by_team_season_all = by_team_season_all[(by_team_season_all['season'] == 2022)]\n",
    "\n",
    "seasons_teams_2022 = get_team_names(by_team_season_all)\n",
    "seasons_data_2022 = by_team_season_all.drop(columns=['playoff_qualified', 'season', 'team'])\n",
    "seasons_target_2022 = by_team_season_all['playoff_qualified'].values"
   ],
   "metadata": {
    "collapsed": false,
    "is_executing": true
   },
   "id": "703b5d6b027b33f5",
   "execution_count": null
  },
  {
   "cell_type": "code",
   "outputs": [],
   "source": [
    "seasons_data_2023 = read_nhl_data_2023()\n",
    "seasons_teams_2023 = get_team_names(pd.read_csv('moneypack/teams_2023.csv'))\n",
    "seasons_target_2023 = [0,0,1,0,1,0,0,0,1,1,0,1,1,1,0,0,1,0,1,1,0,1,1,1,0,0,1,1,1,1,1,0] #<40"
   ],
   "metadata": {
    "collapsed": false,
    "is_executing": true
   },
   "id": "480f9211c8f58623",
   "execution_count": null
  },
  {
   "cell_type": "code",
   "outputs": [],
   "source": [
    "from sklearn.feature_selection import f_classif\n",
    "\n",
    "best_features = SelectKBest(score_func=f_classif, k=5).fit(seasons_data_all.values, seasons_target_all)\n",
    "selected_features = seasons_data_all.columns[best_features.get_support()]\n",
    "sorted_idxs = np.argsort(best_features.scores_)[::-1]\n",
    "sorted_scores = best_features.scores_[sorted_idxs]\n",
    "sorted_feature_names = np.array(seasons_data_all.columns)[sorted_idxs]\n",
    "sorted_features_all = pd.DataFrame({\"feature\": sorted_feature_names, \"score\": sorted_scores})\n",
    "\n",
    "# plt.figure(figsize=(20, 20))\n",
    "# sns.barplot(x=sorted_scores, y=sorted_feature_names)\n",
    "# plt.xlabel('Scores')\n",
    "# plt.ylabel('Features')\n",
    "# plt.title('Feature Importances using Univariate Feature Selection (Chi-square test)')\n",
    "# plt.show()\n"
   ],
   "metadata": {
    "collapsed": false,
    "is_executing": true
   },
   "id": "721bdbf72738802d",
   "execution_count": null
  },
  {
   "cell_type": "code",
   "outputs": [],
   "source": [
    "sorted_features_all = sorted_features_all[sorted_features_all['score'] > 100]\n",
    "sorted_features_all_names = sorted_features_all['feature'].values\n",
    "\n",
    "scaler = StandardScaler()\n",
    "seasons_data_all_features = scaler.fit_transform(seasons_data_all[sorted_features_all_names])\n",
    "seasons_data_2022_features = scaler.fit_transform(seasons_data_2022[sorted_features_all_names])\n",
    "seasons_data_2023_features = scaler.fit_transform(seasons_data_2023[sorted_features_all_names])\n"
   ],
   "metadata": {
    "collapsed": false,
    "is_executing": true
   },
   "id": "8550b660de93bfc7",
   "execution_count": null
  },
  {
   "cell_type": "code",
   "outputs": [],
   "source": [
    "from sklearn.utils.multiclass import unique_labels\n",
    "from numpy import int64\n",
    "from sklearn.utils import check_X_y, check_array\n",
    "from sklearn.base import BaseEstimator, ClassifierMixin\n",
    "from sklearn.utils.estimator_checks import check_estimator\n",
    "\n",
    "\n",
    "class MyKNearestNeighborsClassifier(BaseEstimator, ClassifierMixin):\n",
    "\n",
    "    def __init__(self, k_neighbors):\n",
    "        self.classes_ = None\n",
    "        self.k_neighbors = k_neighbors\n",
    "        self._k = None\n",
    "        self._x = None\n",
    "        self._y = None\n",
    "\n",
    "    def get_params(self, deep=True):\n",
    "        return {\"k_neighbors\": self.k_neighbors}\n",
    "\n",
    "    def set_params(self, **parameters):\n",
    "        for parameter, value in parameters.items():\n",
    "            setattr(self, parameter, value)\n",
    "        return self\n",
    "\n",
    "    def fit(self, x, y):\n",
    "        x, y = check_X_y(x, y)\n",
    "        self.classes_ = unique_labels(y)\n",
    "        self._k = self.__validate_k(self.k_neighbors)\n",
    "        self._x = x\n",
    "        self._y = y\n",
    "        return self\n",
    "\n",
    "    def predict(self, x_test):\n",
    "        x_test = check_array(x_test)\n",
    "        predicted_points = []\n",
    "        for test_x_point in x_test:\n",
    "            predicted_points.append(self.__predict_class(test_x_point))\n",
    "        return np.array(predicted_points)\n",
    "\n",
    "    def __predict_class(self, x_point):\n",
    "        distances = []\n",
    "        # calculate distances to all the training points\n",
    "        for x_train_point in self._x:\n",
    "            distances.append(self.__euclidean(x_train_point, x_point))\n",
    "\n",
    "        nearest_indexes = np.argsort(distances)[:self._k]  # sort distances, take k nearest points' indices\n",
    "        nearest_classes = self._y[nearest_indexes]  # take their classes\n",
    "        # count number of occurrences of a class and return the index of max counter.\n",
    "\n",
    "        # astype = nearest_classes.astype(int64)\n",
    "        return np.bincount(nearest_classes).argmax()\n",
    "\n",
    "    def __euclidean(self, point1, point2):\n",
    "        distance = np.sum(np.square(point1 - point2))\n",
    "        return np.sqrt(distance)\n",
    "\n",
    "    def __validate_k(self, k):\n",
    "        if k <= 0:\n",
    "            raise Exception(\"K cannot be less or equal to zero\")\n",
    "\n",
    "        k += 1  # Ties can be broken consistently by expanding K by 1\n",
    "        return k\n",
    "\n",
    "# check_estimator(MyKNearestNeighborsClassifier(3))"
   ],
   "metadata": {
    "collapsed": false,
    "is_executing": true
   },
   "id": "fc213827590dc50",
   "execution_count": null
  },
  {
   "cell_type": "code",
   "outputs": [],
   "source": [
    "def plot_test_error(cv_result_details):\n",
    "    test_error_data = pd.DataFrame(cv_result_details).head(10)\n",
    "    test_error_data[\"test_error\"].plot.hist(bins=10, edgecolor=\"black\")\n",
    "    plt.xlabel(\"Mean absolute error (k$)\")\n",
    "    _ = plt.title(\"Test error distribution\")\n",
    "\n",
    "\n",
    "def plot_learning_curve(estimator, x_data, y_data):\n",
    "    train_sizes, train_scores, val_scores = learning_curve(\n",
    "        estimator, x_data, y_data, train_sizes=np.linspace(0.1, 1.0, 10), cv=5, scoring='accuracy', shuffle=True)\n",
    "\n",
    "    train_scores_mean = np.mean(train_scores, axis=1)\n",
    "    val_scores_mean = np.mean(val_scores, axis=1)\n",
    "\n",
    "    plt.figure(figsize=(10, 6))\n",
    "    plt.plot(train_sizes, train_scores_mean, 'o-', color=\"r\", label=\"Training Accuracy\")\n",
    "    plt.plot(train_sizes, val_scores_mean, 'o-', color=\"g\", label=\"Validation Accuracy\")\n",
    "\n",
    "    plt.title(\"Learning Curve\")\n",
    "    plt.xlabel(\"Training Set Size\")\n",
    "    plt.ylabel(\"Accuracy\")\n",
    "    plt.legend(loc=\"best\")\n",
    "    plt.show()\n",
    "\n",
    "\n",
    "def run_cross_validation(classifier_instance, _data, _target, _cv, scoring='neg_root_mean_squared_error'):\n",
    "    _cv_results = cross_validate(classifier_instance,\n",
    "                                 _data, _target,\n",
    "                                 cv=_cv, scoring=scoring,\n",
    "                                 return_estimator=True)\n",
    "    _cv_results[\"test_error\"] = -_cv_results[\"test_score\"]\n",
    "    return _cv_results\n",
    "\n",
    "\n",
    "def run_prediction(_cv_result, _class, _data, _target, _data_for_prediction, _expected_result=None):\n",
    "    # plot_test_error(_cv_result)\n",
    "    # plot_learning_curve(_class, _data, _target)\n",
    "    _y_pred = _class.predict(_data_for_prediction)\n",
    "\n",
    "    if _expected_result is not None:\n",
    "        _precision = precision_score(_expected_result, _y_pred, average=None)\n",
    "        _recall = recall_score(_expected_result, _y_pred, average=None)\n",
    "        _accuracy = accuracy_score(_expected_result, _y_pred)\n",
    "        _confusion_matrix = confusion_matrix(_expected_result, _y_pred)\n",
    "        _f1_score = f1_score(_expected_result, _y_pred)\n",
    "        _testing_error = mean_absolute_error(_expected_result, _y_pred)\n",
    "        print(\n",
    "            f'|{\"Classifier\":>40}|{\"f1\":>20}|{\"accuracy\":>20}|{\"precision\":>24}|{\"recall\":>23}|{\"test error\":>20}|')\n",
    "        print(\n",
    "            f'|{_class.__str__():>35}|{_f1_score:>20}|{_accuracy:>20}|{_precision.__str__():>24}|{_recall.__str__():>23}|{_testing_error:>20}|')\n",
    "    return _y_pred\n",
    "\n",
    "\n",
    "def print_prediction(_teams, _pred, _season, _expected=None):\n",
    "    _pred_table = pd.DataFrame({\"team\": _teams, \"playoff qualified\": _pred})\n",
    "    if _expected is not None:\n",
    "        _pred_table['expected'] = _expected\n",
    "    print(f'Prediction for season {_season}\\n{_pred_table}')\n",
    "\n"
   ],
   "metadata": {
    "collapsed": false,
    "is_executing": true
   },
   "id": "8835b7ce794815b9",
   "execution_count": null
  },
  {
   "cell_type": "code",
   "outputs": [],
   "source": [
    "\n",
    "cv = StratifiedShuffleSplit(n_splits=30, test_size=0.2, random_state=0)\n",
    "data = seasons_data_all_features\n",
    "target = seasons_target_all\n",
    "\n",
    "n_neighbors = 5\n",
    "max_depth = 5\n",
    "\n",
    "classifier_knn = KNeighborsClassifier(n_neighbors=n_neighbors, metric='euclidean')\n",
    "classifier_knn_my = MyKNearestNeighborsClassifier(n_neighbors)\n",
    "classifier_dec_tree = DecisionTreeClassifier(max_depth=max_depth)\n",
    "voting_clf_hard = VotingClassifier(estimators=[('knn', classifier_knn), ('decision_tree', classifier_dec_tree)],\n",
    "                                   voting='hard')\n",
    "voting_clf_soft = VotingClassifier(estimators=[('knn', classifier_knn), ('decision_tree', classifier_dec_tree)],\n",
    "                                   voting='soft')\n",
    "\n",
    "cv_results_knn = run_cross_validation(classifier_knn, data, target, cv)\n",
    "best_knn = cv_results_knn[\"estimator\"][0]\n",
    "\n",
    "cv_results_dec_tree = run_cross_validation(classifier_dec_tree, data, target, cv)\n",
    "best_dec_tree = cv_results_dec_tree[\"estimator\"][0]\n",
    "\n",
    "cv_results_hard = run_cross_validation(voting_clf_hard, data, target, cv)\n",
    "best_hard = cv_results_hard[\"estimator\"][0]\n",
    "\n",
    "cv_results_soft = run_cross_validation(voting_clf_soft, data, target, cv)\n",
    "best_soft = cv_results_soft[\"estimator\"][0]\n",
    "\n",
    "cv_results_knn_my = run_cross_validation(classifier_knn_my, data, target, cv)\n",
    "best_knn_my = cv_results_knn[\"estimator\"][0]\n"
   ],
   "metadata": {
    "collapsed": false,
    "is_executing": true
   },
   "id": "56dd4159cde936ec",
   "execution_count": null
  },
  {
   "cell_type": "code",
   "outputs": [],
   "source": [
    "pred_results = run_prediction(cv_results_knn, best_knn,\n",
    "                              data, target,\n",
    "                              seasons_data_2022_features, seasons_target_2022)\n",
    "print_prediction(seasons_teams_2022, pred_results, 2022, seasons_target_2022)\n",
    "pred_results = run_prediction(cv_results_knn, best_knn,\n",
    "                              data, target,\n",
    "                              seasons_data_2023_features, seasons_target_2023)\n",
    "print_prediction(seasons_teams_2023, pred_results, 2023, seasons_target_2023)"
   ],
   "metadata": {
    "collapsed": false,
    "is_executing": true
   },
   "id": "7a6a6244471d2a6",
   "execution_count": null
  },
  {
   "cell_type": "code",
   "outputs": [],
   "source": [
    "pred_results = run_prediction(cv_results_knn_my, best_knn_my,\n",
    "                              data, target,\n",
    "                              seasons_data_2022_features, seasons_target_2022)\n",
    "print_prediction(seasons_teams_2022, pred_results, 2022, seasons_target_2022)\n",
    "pred_results = run_prediction(cv_results_knn_my, best_knn_my,\n",
    "                              data, target,\n",
    "                              seasons_data_2023_features, seasons_target_2023)\n",
    "print_prediction(seasons_teams_2023, pred_results, 2023, seasons_target_2023)"
   ],
   "metadata": {
    "collapsed": false,
    "is_executing": true
   },
   "id": "608bf31a6c1edd14",
   "execution_count": null
  },
  {
   "cell_type": "code",
   "outputs": [],
   "source": [
    "# run_prediction(cv_results_dec_tree, best_dec_tree, data, target, seasons_data_2022_features)"
   ],
   "metadata": {
    "collapsed": false,
    "is_executing": true
   },
   "id": "8b9709623627c9c3",
   "execution_count": null
  },
  {
   "cell_type": "code",
   "outputs": [],
   "source": [
    "# run_prediction(cv_results_hard, best_hard, data, target, seasons_data_2022_features)"
   ],
   "metadata": {
    "collapsed": false,
    "is_executing": true
   },
   "id": "7bd1332076c5ab43",
   "execution_count": null
  },
  {
   "cell_type": "code",
   "outputs": [],
   "source": [
    "# run_prediction(cv_results_soft, best_soft, data, target, seasons_data_2022_features)"
   ],
   "metadata": {
    "collapsed": false,
    "is_executing": true
   },
   "id": "555361ee58904f6a",
   "execution_count": null
  }
 ],
 "metadata": {
  "kernelspec": {
   "display_name": "Python 3",
   "language": "python",
   "name": "python3"
  },
  "language_info": {
   "codemirror_mode": {
    "name": "ipython",
    "version": 2
   },
   "file_extension": ".py",
   "mimetype": "text/x-python",
   "name": "python",
   "nbconvert_exporter": "python",
   "pygments_lexer": "ipython2",
   "version": "2.7.6"
  }
 },
 "nbformat": 4,
 "nbformat_minor": 5
}
