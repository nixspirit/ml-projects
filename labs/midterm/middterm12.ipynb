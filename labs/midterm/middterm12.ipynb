{
 "cells": [
  {
   "cell_type": "code",
   "execution_count": 190,
   "id": "initial_id",
   "metadata": {
    "collapsed": true,
    "ExecuteTime": {
     "end_time": "2024-01-02T09:51:25.561399500Z",
     "start_time": "2024-01-02T09:51:24.877547400Z"
    }
   },
   "outputs": [],
   "source": [
    "# set matplotlib backend to inline\n",
    "%matplotlib inline\n",
    "\n",
    "# import modules\n",
    "from sklearn import datasets\n",
    "import numpy as np\n",
    "import seaborn as sns\n",
    "import matplotlib.pyplot as plt\n",
    "import pandas as pd\n",
    "\n",
    "# load data\n",
    "# wine = datasets.load_wine()\n",
    "#print(wine.DESCR)\n",
    "\n",
    "# this dataset has 13 features, we will only choose a subset of these\n",
    "# df_wine = pd.DataFrame(wine.data, columns=wine.feature_names)\n",
    "# selected_features = ['alcohol', 'flavanoids', 'color_intensity', 'ash']\n",
    "\n",
    "# extract the data as numpy arrays of features, X, and target, y\n",
    "# X = df_wine[selected_features].values\n",
    "# y = wine.target\n"
   ]
  },
  {
   "cell_type": "code",
   "outputs": [],
   "source": [
    "from sklearn.preprocessing import StandardScaler\n",
    "from sklearn.model_selection import train_test_split\n",
    "\n",
    "raw_nhl_data = pd.read_csv('moneypack/all_teams.csv')\n",
    "columns_to_drop_from_total = ['name', 'gameId', 'playerTeam', 'opposingTeam', 'home_or_away', 'gameDate', 'position',\n",
    "                              'situation', 'iceTime']\n",
    "raw_nhl_data = raw_nhl_data.drop(columns=columns_to_drop_from_total)\n",
    "raw_nhl_data = raw_nhl_data[(raw_nhl_data['season'] != '2023')]\n",
    "\n",
    "raw_nhl_data_2023 = pd.read_csv('moneypack/all_teams_2023.csv')\n",
    "raw_nhl_data_2023['playoffGame'] = [0] * len(raw_nhl_data_2023.index)\n",
    "columns_to_drop_from_2023 = ['games_played', 'name', 'position', 'situation', 'team.1', 'iceTime']\n",
    "raw_nhl_data_2023 = raw_nhl_data_2023.drop(columns=columns_to_drop_from_2023)\n",
    "\n",
    "columns_all = raw_nhl_data.columns\n",
    "columns_2023 = raw_nhl_data_2023.columns\n",
    "\n",
    "# print(len(raw_nhl_data.columns))\n",
    "# print(len(raw_nhl_data_2023.columns))\n",
    "\n",
    "# print(columns_all.difference(columns_2023))\n",
    "# print(columns_2023.difference(columns_all))\n",
    "\n",
    "# print(len(raw_nhl_data.values))\n",
    "# print(len(raw_nhl_data_2023.values))\n",
    "\n",
    "# print(raw_nhl_data.values)\n",
    "# print(raw_nhl_data_2023['playoffGame'].values)\n",
    "\n",
    "\n",
    "by_team_season_all = raw_nhl_data.groupby(['team', 'season']).mean()\n",
    "by_team_season_all['playoff_qualified'] = by_team_season_all['playoffGame'].apply(lambda val: 1 if val > 0.0 else 0.0)\n",
    "#print(by_team_season_all)\n",
    "# print(type(by_team_season_all))\n",
    "\n",
    "X = by_team_season_all.drop(columns=['playoff_qualified', 'playoffGame'])\n",
    "y = by_team_season_all['playoff_qualified']\n",
    "\n",
    "X_train, X_test, y_train, y_test = train_test_split(X, y, test_size=0.2, random_state=32)\n",
    "# Standardize the numerical features using StandardScaler\n",
    "# scaler = StandardScaler()\n",
    "# X_train_scaled = scaler.fit_transform(X_train)\n",
    "# X_test_scaled = scaler.transform(X_test)\n",
    "# print(pd.DataFrame(X_train_scaled, columns=X.columns).head())\n"
   ],
   "metadata": {
    "collapsed": false,
    "ExecuteTime": {
     "end_time": "2024-01-02T09:51:29.054635700Z",
     "start_time": "2024-01-02T09:51:25.578743100Z"
    }
   },
   "id": "a72039ebc314a5f4",
   "execution_count": 191
  },
  {
   "cell_type": "code",
   "outputs": [],
   "source": [
    "corr_matrix = X.corr().abs()\n",
    "\n",
    "# Plot the heatmap\n",
    "plt.figure(figsize=(100, 100))\n",
    "sns.heatmap(corr_matrix, annot=True, cmap='GnBu', linewidths=0.2, vmin=0, vmax=1)\n",
    "plt.xlabel('Features')\n",
    "plt.ylabel('Features')\n",
    "plt.title('Feature Importances using Correlation Matrix Heatmap')\n",
    "plt.show()"
   ],
   "metadata": {
    "collapsed": false,
    "is_executing": true,
    "ExecuteTime": {
     "start_time": "2024-01-02T09:51:29.061850700Z"
    }
   },
   "id": "78f444b4df45801e",
   "execution_count": null
  },
  {
   "cell_type": "code",
   "outputs": [],
   "source": [
    "\n",
    "corr_with_target = X.corrwith(y)\n",
    "corr_with_target = corr_with_target.sort_values(ascending=False)\n",
    "corr_with_target.reset_index(name='score')\n",
    "\n",
    "# selected_corr_with_target = pd.DataFrame(corr_with_target, columns=['score'])\n",
    "# selected_corr_with_target.columns = [\"feature\", \"score\"]\n",
    "\n",
    "corr_with_target = corr_with_target.loc[lambda x : x > 0.1]\n",
    "# print(corr_with_target.index)\n",
    "# Plot the heatmap\n",
    "plt.figure(figsize=(4, 14))\n",
    "sns.heatmap(corr_with_target.to_frame(), cmap='GnBu', annot=True)\n",
    "plt.title('Correlation with Target Variable')\n",
    "# plt.show()\n",
    "\n",
    "corr_with_target_frame = pd.DataFrame({\"feature\": corr_with_target.index, \"score\": corr_with_target.values})\n"
   ],
   "metadata": {
    "collapsed": false,
    "is_executing": true
   },
   "id": "2c7a8e5eb77608dd",
   "execution_count": null
  },
  {
   "cell_type": "code",
   "outputs": [],
   "source": [
    "from sklearn.feature_selection import SelectKBest, chi2\n",
    "\n",
    "# apply univariate feature selection\n",
    "best_features = SelectKBest(score_func=chi2, k=5).fit(X, y)\n",
    "\n",
    "# get the scores and selected features\n",
    "scores = best_features.scores_\n",
    "selected_features = X.columns[best_features.get_support()]\n",
    "\n",
    "sorted_idxs = np.argsort(scores)[::-1]\n",
    "sorted_scores = scores[sorted_idxs]\n",
    "sorted_feature_names = np.array(X.columns)[sorted_idxs]\n",
    "\n",
    "sorted_features_with_scores = pd.DataFrame({\"feature\" : sorted_feature_names, \"score\" : sorted_scores})\n",
    "sorted_features_with_scores = sorted_features_with_scores[sorted_features_with_scores['score'] > 1.0]\n",
    "# print(sorted_features_with_scores)\n",
    "\n",
    "# plot scores\n",
    "plt.figure(figsize=(20, 20))\n",
    "sns.barplot(x=sorted_scores, y=sorted_feature_names)\n",
    "plt.xlabel('Scores')\n",
    "plt.ylabel('Features')\n",
    "plt.title('Feature Importances using Univariate Feature Selection (Chi-square test)')\n",
    "plt.show()"
   ],
   "metadata": {
    "collapsed": false,
    "is_executing": true
   },
   "id": "897e47540c38432",
   "execution_count": null
  },
  {
   "cell_type": "code",
   "outputs": [],
   "source": [
    "# selected_important_features_data = pd.merge(sorted_features_with_scores, corr_with_target_frame, how ='left', on =['feature'])\n",
    "selected_important_features_data = sorted_features_with_scores\n",
    "important_features = selected_important_features_data[\"feature\"].values"
   ],
   "metadata": {
    "collapsed": false,
    "is_executing": true
   },
   "id": "4dd69b864692849c",
   "execution_count": null
  },
  {
   "cell_type": "code",
   "outputs": [],
   "source": [],
   "metadata": {
    "collapsed": false,
    "is_executing": true
   },
   "id": "fc213827590dc50"
  }
 ],
 "metadata": {
  "kernelspec": {
   "display_name": "Python 3",
   "language": "python",
   "name": "python3"
  },
  "language_info": {
   "codemirror_mode": {
    "name": "ipython",
    "version": 2
   },
   "file_extension": ".py",
   "mimetype": "text/x-python",
   "name": "python",
   "nbconvert_exporter": "python",
   "pygments_lexer": "ipython2",
   "version": "2.7.6"
  }
 },
 "nbformat": 4,
 "nbformat_minor": 5
}
