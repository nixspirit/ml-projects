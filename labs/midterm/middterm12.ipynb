{
 "cells": [
  {
   "cell_type": "code",
   "execution_count": 372,
   "id": "initial_id",
   "metadata": {
    "collapsed": true,
    "ExecuteTime": {
     "end_time": "2024-01-07T18:44:11.120702Z",
     "start_time": "2024-01-07T18:44:10.914431400Z"
    }
   },
   "outputs": [],
   "source": [
    "from functools import cmp_to_key\n",
    "\n",
    "from sklearn.metrics import mean_absolute_error\n",
    "from sklearn.metrics import precision_score, recall_score, accuracy_score, confusion_matrix\n",
    "from sklearn.model_selection import learning_curve\n",
    "from sklearn.model_selection import cross_validate\n",
    "from sklearn.model_selection import LearningCurveDisplay\n",
    "\n",
    "from sklearn.tree import DecisionTreeClassifier\n",
    "# set matplotlib backend to inline\n",
    "%matplotlib inline\n",
    "\n",
    "# import modules\n",
    "import numpy as np\n",
    "import seaborn as sns\n",
    "import matplotlib.pyplot as plt\n",
    "import pandas as pd\n",
    "from sklearn.neighbors import KNeighborsClassifier\n",
    "from sklearn.ensemble import VotingClassifier\n",
    "from sklearn.preprocessing import StandardScaler\n",
    "\n",
    "from sklearn.metrics import f1_score\n",
    "from sklearn.feature_selection import SelectKBest, chi2\n",
    "from sklearn.model_selection import StratifiedShuffleSplit\n",
    "from sklearn.utils.multiclass import unique_labels\n",
    "from numpy import int64\n",
    "from sklearn.utils import check_X_y, check_array\n",
    "from sklearn.base import BaseEstimator, ClassifierMixin\n",
    "from sklearn.utils.estimator_checks import check_estimator\n",
    "from sklearn.feature_selection import f_classif\n"
   ]
  },
  {
   "cell_type": "code",
   "outputs": [],
   "source": [
    "def read_nhl_data():\n",
    "    _nhl_data = pd.read_csv('moneypack/all_teams.csv')\n",
    "    _nhl_data = _nhl_data.dropna()\n",
    "\n",
    "    columns_to_drop = [\n",
    "        'name', 'gameId', 'playerTeam',\n",
    "        'opposingTeam', 'home_or_away',\n",
    "        'gameDate', 'position',\n",
    "        'situation', 'iceTime',\n",
    "        #'playoffGame'\n",
    "    ]\n",
    "\n",
    "    _nhl_data = _nhl_data.sort_values(by=['team', 'season'])\n",
    "    _nhl_data = _nhl_data.drop(columns=columns_to_drop)\n",
    "    _nhl_data = _nhl_data.groupby(['team', 'season'], as_index=False).mean()\n",
    "    _nhl_data['playoff_qualified'] = _nhl_data['playoffGame'].apply(lambda val: 1 if val > 0 else 0)\n",
    "    _nhl_data = _nhl_data.drop(columns=['playoffGame'])\n",
    "\n",
    "    return _nhl_data\n",
    "\n",
    "\n",
    "def read_nhl_data_2023():\n",
    "    _nhl_data_2023 = pd.read_csv('moneypack/teams_2023.csv')\n",
    "    columns_to_drop_from_2023 = ['name', 'position', 'situation', 'iceTime', 'team.1', 'games_played']\n",
    "\n",
    "    _nhl_data_2023 = _nhl_data_2023.dropna()\n",
    "    _nhl_data_2023 = _nhl_data_2023.drop(columns=columns_to_drop_from_2023)\n",
    "    _nhl_data_2023 = _nhl_data_2023.sort_values(by=['team', 'season'])\n",
    "    _nhl_data_2023 = _nhl_data_2023.groupby(['team', 'season']).mean()\n",
    "    return _nhl_data_2023\n",
    "\n",
    "\n",
    "def get_team_names(_team_data):\n",
    "    duplicates = pd.DataFrame(_team_data['team']).drop_duplicates(subset=None, keep='first', inplace=False,\n",
    "                                                                  ignore_index=False)\n",
    "    duplicates = duplicates.sort_values(by=['team'])\n",
    "    return duplicates['team'].values"
   ],
   "metadata": {
    "collapsed": false,
    "ExecuteTime": {
     "end_time": "2024-01-07T18:44:11.193729500Z",
     "start_time": "2024-01-07T18:44:11.007035900Z"
    }
   },
   "id": "47386f0d483343b0",
   "execution_count": 373
  },
  {
   "cell_type": "code",
   "outputs": [],
   "source": [
    "by_team_season_all = read_nhl_data()\n",
    "by_team_season_all = by_team_season_all[(by_team_season_all['season'] != 2023)]\n",
    "by_team_season_all = by_team_season_all[(by_team_season_all['season'] != 2022)]\n",
    "\n",
    "seasons_data_all = by_team_season_all.drop(columns=['playoff_qualified', 'season', 'team'])\n",
    "seasons_target_all = by_team_season_all['playoff_qualified'].values"
   ],
   "metadata": {
    "collapsed": false,
    "is_executing": true,
    "ExecuteTime": {
     "start_time": "2024-01-07T18:44:11.141695800Z"
    }
   },
   "id": "a72039ebc314a5f4",
   "execution_count": null
  },
  {
   "cell_type": "code",
   "outputs": [],
   "source": [
    "by_team_season_all = read_nhl_data()\n",
    "by_team_season_all = by_team_season_all[(by_team_season_all['season'] == 2022)]\n",
    "\n",
    "seasons_teams_2022 = get_team_names(by_team_season_all)\n",
    "seasons_data_2022 = by_team_season_all.drop(columns=['playoff_qualified', 'season', 'team'])\n",
    "seasons_target_2022 = by_team_season_all['playoff_qualified'].values"
   ],
   "metadata": {
    "collapsed": false,
    "is_executing": true
   },
   "id": "703b5d6b027b33f5",
   "execution_count": null
  },
  {
   "cell_type": "code",
   "outputs": [],
   "source": [
    "seasons_data_2023 = read_nhl_data_2023()\n",
    "seasons_teams_2023 = get_team_names(pd.read_csv('moneypack/teams_2023.csv'))\n",
    "seasons_target_2023 = [0, 0, 1, 0, 1, 0, 0, 0, 1, 1, 0, 1, 1, 1, 0, 0, 1, 0, 1, 1, 0, 1, 1, 1, 0, 0, 1, 1, 1, 1, 1,\n",
    "                       0]  #<40"
   ],
   "metadata": {
    "collapsed": false,
    "is_executing": true
   },
   "id": "480f9211c8f58623",
   "execution_count": null
  },
  {
   "cell_type": "code",
   "outputs": [],
   "source": [
    "\n",
    "best_features = SelectKBest(score_func=f_classif, k=5).fit(seasons_data_all.values, seasons_target_all)\n",
    "selected_features = seasons_data_all.columns[best_features.get_support()]\n",
    "sorted_index = np.argsort(best_features.scores_)[::-1]\n",
    "sorted_scores = best_features.scores_[sorted_index]\n",
    "sorted_feature_names = np.array(seasons_data_all.columns)[sorted_index]\n",
    "sorted_features_all = pd.DataFrame({\"feature\": sorted_feature_names, \"score\": sorted_scores})\n",
    "\n",
    "plt.figure(figsize=(20, 20))\n",
    "sns.barplot(x=sorted_scores, y=sorted_feature_names)\n",
    "plt.xlabel('Scores')\n",
    "plt.ylabel('Features')\n",
    "plt.title('Feature Importance using SelectKBest')\n",
    "plt.show()\n"
   ],
   "metadata": {
    "collapsed": false,
    "is_executing": true
   },
   "id": "721bdbf72738802d",
   "execution_count": null
  },
  {
   "cell_type": "code",
   "outputs": [],
   "source": [
    "sorted_features_all = sorted_features_all[sorted_features_all['score'] > 100]\n",
    "sorted_features_all_names = sorted_features_all['feature'].values\n",
    "\n",
    "scaler = StandardScaler()\n",
    "seasons_data_all_features = scaler.fit_transform(seasons_data_all[sorted_features_all_names])\n",
    "seasons_data_2022_features = scaler.fit_transform(seasons_data_2022[sorted_features_all_names])\n",
    "seasons_data_2023_features = scaler.fit_transform(seasons_data_2023[sorted_features_all_names])\n"
   ],
   "metadata": {
    "collapsed": false,
    "is_executing": true
   },
   "id": "8550b660de93bfc7",
   "execution_count": null
  },
  {
   "cell_type": "code",
   "outputs": [],
   "source": [
    "class MyKNearestNeighborsClassifier(BaseEstimator, ClassifierMixin):\n",
    "\n",
    "    def __init__(self, k_neighbors):\n",
    "        self.classes_ = None\n",
    "        self.k_neighbors = k_neighbors\n",
    "        self._k = None\n",
    "        self._x = None\n",
    "        self._y = None\n",
    "\n",
    "    def get_params(self, deep=True):\n",
    "        return {\"k_neighbors\": self.k_neighbors}\n",
    "\n",
    "    def set_params(self, **parameters):\n",
    "        for parameter, value in parameters.items():\n",
    "            setattr(self, parameter, value)\n",
    "        return self\n",
    "\n",
    "    def fit(self, x, y):\n",
    "        x, y = check_X_y(x, y)\n",
    "        self.classes_ = unique_labels(y)\n",
    "        self._k = self.__validate_k(self.k_neighbors)\n",
    "        self._x = x\n",
    "        self._y = y\n",
    "        return self\n",
    "\n",
    "    def predict(self, x_test):\n",
    "        x_test = check_array(x_test)\n",
    "        predicted_points = []\n",
    "        for test_x_point in x_test:\n",
    "            predicted_points.append(self.__predict_class(test_x_point))\n",
    "        return np.array(predicted_points)\n",
    "\n",
    "    def __predict_class(self, x_point):\n",
    "        distances = []\n",
    "        # calculate distances to all the training points\n",
    "        for x_train_point in self._x:\n",
    "            distances.append(self.__euclidean(x_train_point, x_point))\n",
    "\n",
    "        nearest_indexes = np.argsort(distances)[:self._k]  # sort distances, take k nearest points' indices\n",
    "        nearest_classes = self._y[nearest_indexes]  # take their classes\n",
    "        # count number of occurrences of a class and return the index of max counter.\n",
    "\n",
    "        # astype = nearest_classes.astype(int64)\n",
    "        return np.bincount(nearest_classes).argmax()\n",
    "\n",
    "    def __euclidean(self, point1, point2):\n",
    "        distance = np.sum(np.square(point1 - point2))\n",
    "        return np.sqrt(distance)\n",
    "\n",
    "    def __validate_k(self, k):\n",
    "        if k <= 0:\n",
    "            raise Exception(\"K cannot be less or equal to zero\")\n",
    "\n",
    "        k += 1  # Ties can be broken consistently by expanding K by 1\n",
    "        return k\n",
    "\n",
    "# check_estimator(MyKNearestNeighborsClassifier(3))"
   ],
   "metadata": {
    "collapsed": false,
    "is_executing": true
   },
   "id": "fc213827590dc50",
   "execution_count": null
  },
  {
   "cell_type": "code",
   "outputs": [],
   "source": [
    "def plot_learning_curve(estimator, x_data, y_data):\n",
    "    fig, ax = plt.subplots(nrows=1, ncols=1, figsize=(10, 6), sharey=True)\n",
    "\n",
    "    common_params = {\n",
    "        \"X\": x_data,\n",
    "        \"y\": y_data,\n",
    "        \"train_sizes\": np.linspace(0.1, 1.0, 5),\n",
    "        \"cv\": StratifiedShuffleSplit(n_splits=30, test_size=0.2, random_state=0),\n",
    "        \"score_type\": \"both\",\n",
    "        \"n_jobs\": 4,\n",
    "        \"line_kw\": {\"marker\": \"o\"},\n",
    "        \"std_display_style\": \"fill_between\",\n",
    "        \"score_name\": \"Accuracy\",\n",
    "    }\n",
    "\n",
    "    LearningCurveDisplay.from_estimator(estimator, **common_params, ax=ax)\n",
    "    handles, label = ax.get_legend_handles_labels()\n",
    "    ax.legend(handles[:2], [\"Training Score\", \"Test Score\"])\n",
    "    ax.set_title(f\"Learning Curve for {estimator.__class__.__name__}\")\n",
    "\n",
    "\n",
    "def run_cross_validation(classifier_instance, _data, _target, _cv, scoring='neg_root_mean_squared_error'):\n",
    "    _cv_results = cross_validate(classifier_instance,\n",
    "                                 _data, _target,\n",
    "                                 cv=_cv, scoring=scoring,\n",
    "                                 return_estimator=True)\n",
    "    _cv_results[\"test_error\"] = -_cv_results[\"test_score\"]\n",
    "    return _cv_results\n",
    "\n",
    "\n",
    "def run_prediction(_cv_result, _class, _data, _target, _data_for_prediction, _expected_result=None):\n",
    "    _y_pred = _class.predict(_data_for_prediction)\n",
    "\n",
    "    if _expected_result is not None:\n",
    "        _precision = precision_score(_expected_result, _y_pred, average=None)\n",
    "        _recall = recall_score(_expected_result, _y_pred, average=None)\n",
    "        _accuracy = accuracy_score(_expected_result, _y_pred)\n",
    "        _confusion_matrix = confusion_matrix(_expected_result, _y_pred)\n",
    "        _f1_score = f1_score(_expected_result, _y_pred)\n",
    "        _testing_error = mean_absolute_error(_expected_result, _y_pred)\n",
    "        print(\n",
    "            f'|{\"Classifier\":>35}|{\"f1\":>20}|{\"accuracy\":>20}|{\"precision\":>24}|{\"recall\":>23}|{\"test error\":>20}|')\n",
    "        print(\n",
    "            f'|{_class.__str__()[:40]:>34}|{_f1_score:>20}|{_accuracy:>20}|{_precision.__str__():>24}|{_recall.__str__():>23}|{_testing_error:>20}|')\n",
    "    return _y_pred\n",
    "\n",
    "\n",
    "def print_prediction(_teams, _pred, _season, _expected=None):\n",
    "    _pred_table = pd.DataFrame({\"team\": _teams, \"playoff qualified\": _pred})\n",
    "    if _expected is not None:\n",
    "        _pred_table['expected'] = _expected\n",
    "    print(f'\\nPrediction for season {_season}\\n{_pred_table}\\n')\n",
    "\n"
   ],
   "metadata": {
    "collapsed": false,
    "is_executing": true
   },
   "id": "8835b7ce794815b9",
   "execution_count": null
  },
  {
   "cell_type": "code",
   "outputs": [],
   "source": [
    "class ModelMetrics:\n",
    "    def __init__(self, _classifier, _cv_results, _y_pred, _expected_result, _classifier_prefix=''):\n",
    "        self.classifier_prefix = _classifier_prefix\n",
    "        self.pred_y = _y_pred\n",
    "        self.classifier_instance = _classifier\n",
    "        self.cv_results = _cv_results\n",
    "        self.precision = precision_score(_expected_result, _y_pred, average=None)\n",
    "        self.recall = recall_score(_expected_result, _y_pred, average=None)\n",
    "        self.accuracy = accuracy_score(_expected_result, _y_pred)\n",
    "        self.confusion_matrix = confusion_matrix(_expected_result, _y_pred)\n",
    "        self.f1_score = f1_score(_expected_result, _y_pred)\n",
    "        self.testing_error = mean_absolute_error(_expected_result, _y_pred)\n",
    "\n",
    "    def comparator(a, b):\n",
    "        return a.f1_score - b.f1_score\n",
    "\n",
    "    def get_classifier_instance(self):\n",
    "        return self.classifier_instance\n",
    "\n",
    "    def get_cv_results(self):\n",
    "        return self.cv_results\n",
    "\n",
    "    def __str__(self):\n",
    "        return (\n",
    "            f'|{self.classifier_prefix + self.classifier_instance.__str__()[:20]:>25}|{self.f1_score:>20}|{self.accuracy:>20}|{self.precision.__str__():>24}|{self.recall.__str__():>23}|{self.testing_error:>20}|')\n",
    "\n",
    "\n",
    "class ModelChooser:\n",
    "    def __init__(self):\n",
    "        self.data = []\n",
    "\n",
    "    def push(self, _classifier, _cv_results, _y_pred, _expected_result, _classifier_prefix=''):\n",
    "        self.data.append(ModelMetrics(_classifier, _cv_results, _y_pred, _expected_result, _classifier_prefix))\n",
    "\n",
    "    def get_k_best(self, k):\n",
    "        _data = sorted(self.data, key=cmp_to_key(ModelMetrics.comparator), reverse=True)\n",
    "        return _data[:k]\n",
    "\n",
    "    def print_k_best(self, k):\n",
    "        print(\n",
    "            f'|{\"Classifier\":>31}|{\"f1\":>20}|{\"accuracy\":>20}|{\"precision\":>24}|{\"recall\":>23}|{\"test error\":>20}|')\n",
    "        for i, model in enumerate(self.get_k_best(k)):\n",
    "            print(f'|{i + 1:>4} {model}')"
   ],
   "metadata": {
    "collapsed": false,
    "is_executing": true
   },
   "id": "f61b72c2b7b2daf9",
   "execution_count": null
  },
  {
   "cell_type": "code",
   "outputs": [],
   "source": [
    "\n",
    "cv = StratifiedShuffleSplit(n_splits=30, test_size=0.2, random_state=0)\n",
    "data = seasons_data_all_features\n",
    "target = seasons_target_all\n",
    "\n",
    "n_neighbors = 5\n",
    "max_depth = 5\n",
    "\n",
    "classifier_knn = KNeighborsClassifier(n_neighbors=n_neighbors, metric='euclidean')\n",
    "classifier_knn_my = MyKNearestNeighborsClassifier(n_neighbors)\n",
    "classifier_dec_tree = DecisionTreeClassifier(max_depth=max_depth)\n",
    "voting_clf_hard = VotingClassifier(estimators=[('knn', classifier_knn), ('decision_tree', classifier_dec_tree)],\n",
    "                                   voting='hard')\n",
    "voting_clf_soft = VotingClassifier(estimators=[('knn', classifier_knn), ('decision_tree', classifier_dec_tree)],\n",
    "                                   voting='soft')\n",
    "\n",
    "cv_results_knn = run_cross_validation(classifier_knn, data, target, cv)\n",
    "best_knn = cv_results_knn[\"estimator\"][0]\n",
    "\n",
    "cv_results_knn_my = run_cross_validation(classifier_knn_my, data, target, cv)\n",
    "best_knn_my = cv_results_knn_my[\"estimator\"][0]\n",
    "\n",
    "cv_results_dec_tree = run_cross_validation(classifier_dec_tree, data, target, cv)\n",
    "best_dec_tree = cv_results_dec_tree[\"estimator\"][0]\n",
    "\n",
    "cv_results_hard = run_cross_validation(voting_clf_hard, data, target, cv)\n",
    "best_hard = cv_results_hard[\"estimator\"][0]\n",
    "\n",
    "cv_results_soft = run_cross_validation(voting_clf_soft, data, target, cv)\n",
    "best_soft = cv_results_soft[\"estimator\"][0]"
   ],
   "metadata": {
    "collapsed": false,
    "is_executing": true
   },
   "id": "56dd4159cde936ec",
   "execution_count": null
  },
  {
   "cell_type": "code",
   "outputs": [],
   "source": [
    "chooser = ModelChooser()\n",
    "chooser.push(best_knn, cv_results_knn, best_knn.predict(seasons_data_2022_features), seasons_target_2022)\n",
    "chooser.push(best_knn_my, cv_results_knn_my, best_knn_my.predict(seasons_data_2022_features), seasons_target_2022)\n",
    "chooser.push(best_dec_tree, cv_results_dec_tree, best_dec_tree.predict(seasons_data_2022_features), seasons_target_2022)\n",
    "chooser.push(best_hard, cv_results_hard, best_hard.predict(seasons_data_2022_features), seasons_target_2022, 'hard')\n",
    "chooser.push(best_soft, cv_results_soft, best_soft.predict(seasons_data_2022_features), seasons_target_2022, 'soft')\n",
    "chooser.print_k_best(5)\n",
    "\n",
    "metrics = chooser.get_k_best(1)[0]\n",
    "best_classifier = metrics.get_classifier_instance()\n"
   ],
   "metadata": {
    "collapsed": false,
    "is_executing": true
   },
   "id": "46ec17245f899b39",
   "execution_count": null
  },
  {
   "cell_type": "code",
   "outputs": [],
   "source": [
    "plot_learning_curve(best_classifier, seasons_data_2022_features, seasons_target_2022)"
   ],
   "metadata": {
    "collapsed": false,
    "is_executing": true
   },
   "id": "ff960bab5212f27b",
   "execution_count": null
  },
  {
   "cell_type": "code",
   "outputs": [],
   "source": [
    "prediction_2022 = pd.DataFrame(\n",
    "    {\"team\": seasons_teams_2022,\n",
    "     \"playoff qualified\": best_classifier.predict(seasons_data_2022_features),\n",
    "     \"expected\": seasons_target_2022}\n",
    ")\n",
    "print(f'Prediction for season 2022-2023\\n{prediction_2022}')"
   ],
   "metadata": {
    "collapsed": false,
    "is_executing": true
   },
   "id": "7a6a6244471d2a6",
   "execution_count": null
  },
  {
   "cell_type": "code",
   "outputs": [],
   "source": [
    "prediction_2023 = pd.DataFrame(\n",
    "    {\"team\": seasons_teams_2022,\n",
    "     \"playoff qualified\": best_classifier.predict(seasons_data_2023_features),\n",
    "     \"expected\": seasons_target_2023}\n",
    ")\n",
    "print(f'Prediction for season 2023-2024\\n{prediction_2023}')"
   ],
   "metadata": {
    "collapsed": false,
    "is_executing": true
   },
   "id": "7a827cafecaf4f9f",
   "execution_count": null
  }
 ],
 "metadata": {
  "kernelspec": {
   "display_name": "Python 3",
   "language": "python",
   "name": "python3"
  },
  "language_info": {
   "codemirror_mode": {
    "name": "ipython",
    "version": 2
   },
   "file_extension": ".py",
   "mimetype": "text/x-python",
   "name": "python",
   "nbconvert_exporter": "python",
   "pygments_lexer": "ipython2",
   "version": "2.7.6"
  }
 },
 "nbformat": 4,
 "nbformat_minor": 5
}
