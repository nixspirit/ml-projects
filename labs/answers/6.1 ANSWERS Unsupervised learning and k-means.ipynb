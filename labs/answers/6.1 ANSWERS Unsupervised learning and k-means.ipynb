{
 "cells": [
  {
   "cell_type": "markdown",
   "metadata": {},
   "source": [
    "# Unsupervised learning and k-means\n",
    "## Answer\n",
    "\n",
    "**Task:**\n",
    "In this notebook, your goal is to design an unsupervised learning classifier based on k-means, and subsequently compare the performance with a supervised learning classifier such as k-NN. The first task relates to loading the IRIS data by using the scikit-learn module (as in previous topic notebooks), and subsequently applying k-means on the iris dataset.  The task is outlined as follows:"
   ]
  },
  {
   "cell_type": "code",
   "execution_count": 1,
   "metadata": {},
   "outputs": [
    {
     "data": {
      "text/plain": [
       "0.7419116631817836"
      ]
     },
     "execution_count": 1,
     "metadata": {},
     "output_type": "execute_result"
    }
   ],
   "source": [
    "#model answer\n",
    "\n",
    "%matplotlib inline\n",
    "\n",
    "\n",
    "from sklearn import datasets\n",
    "import numpy as np\n",
    "import matplotlib.pyplot as plt\n",
    "\n",
    "#- Load IRIS data using scikit learn (as in previous notebooks).\n",
    "iris = datasets.load_iris()\n",
    "\n",
    "\n",
    "#Set X a samples times features matrix, Y equal to the targets\n",
    "X=iris.data \n",
    "y=iris.target \n",
    "\n",
    "#- Apply k-means on the iris dataset.  Note that we cannot use labels in the case of k-means, as we assume this dataset is entirely unlabelled.\n",
    "#- Use the labels and train a k-NN algorithm (as we saw in previous topics) with scikit-learn.  This is a supervised approach.\n",
    "\n",
    "#We add some random noise to our data to make the task more challenging\n",
    "#X=X+np.random.normal(0,0.4,X.shape)\n",
    "from sklearn.cluster import KMeans\n",
    "from sklearn.metrics.cluster import v_measure_score\n",
    "\n",
    "kmeans = KMeans(n_clusters=3, random_state=1, n_init=1, init='random').fit(X)\n",
    "ypred=kmeans.predict(X)\n",
    "\n",
    "#- Compare the accuracy of k-means on the iris dataset (you can use the function  sklearn.metrics.cluster.v_measure_score) with the accuracy of k-NN.\n",
    "v_measure_score(ypred,y)\n"
   ]
  },
  {
   "cell_type": "markdown",
   "metadata": {},
   "source": [
    " To help you undertake this task, you can read the k-means reference, and selecrtion of examples, on scikit-learn <a href=\"http://scikit-learn.org/stable/modules/generated/sklearn.cluster.KMeans.html#examples-using-sklearn-cluster-kmeans\">here</a>. \n"
   ]
  }
 ],
 "metadata": {
  "kernelspec": {
   "display_name": "Python 3",
   "language": "python",
   "name": "python3"
  },
  "language_info": {
   "codemirror_mode": {
    "name": "ipython",
    "version": 3
   },
   "file_extension": ".py",
   "mimetype": "text/x-python",
   "name": "python",
   "nbconvert_exporter": "python",
   "pygments_lexer": "ipython3",
   "version": "3.7.6"
  }
 },
 "nbformat": 4,
 "nbformat_minor": 2
}
