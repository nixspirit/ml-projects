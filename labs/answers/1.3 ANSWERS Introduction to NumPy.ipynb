{
 "cells": [
  {
   "cell_type": "markdown",
   "metadata": {},
   "source": [
    "# Introduction to NumPy\n",
    "\n",
    "## Answers\n",
    "\n",
    "Note that we use the import keyword to import modules and libraries in Python. You can find out more about this <a href=\"https://docs.python.org/3/tutorial/modules.html\">here</a>.\n",
    "\n"
   ]
  },
  {
   "cell_type": "code",
   "execution_count": 1,
   "metadata": {},
   "outputs": [],
   "source": [
    "import numpy as np\n"
   ]
  },
  {
   "cell_type": "markdown",
   "metadata": {},
   "source": [
    "## 1 NumPy arrays\n",
    "\n",
    "NumPy n-dimensional arrays (referred to as ndarrays are a fundamental structure for ML in Python.\n",
    "\n",
    "### 1.1 Usage examples\n",
    "\n",
    "To create a NumPy array from list:\n",
    "\n",
    "    data1D = [6, 7, 8]\n",
    "    data1DnD = np.array(data1D)\n",
    "    print(data1D)\n",
    "    print(data1DnD)\n",
    "\n",
    "To print useful properties of our array:\n",
    "\n",
    "    print(data1DnD.shape)\n",
    "    print(data1DnD.ndim)\n",
    "    print(data1DnD.dtype)\n",
    "\n",
    "To change the type of elements:\n",
    "\n",
    "    data1DnD_float = data1DnD.astype(np.float)\n",
    "    data1DnD_string = data1DnD.astype(np.string_)\n",
    "\n",
    "For array indexing:\n",
    "\n",
    "    print(a[0])   #return the first element of ndarray a\n",
    "    print(a[:])   #return all the elements of ndarray a\n",
    "    print(a[-1])  #return the last element of ndarray a\n",
    "    print(a[:-1]) #return everything up to the last element\n",
    "    print(a[:-2]) #return everything up to the second last element\n",
    "    print(a[-2])  #return the second last element\n",
    "\n",
    "There are various ways of creating an ndarray:\n",
    "\n",
    "    a = np.array([1, 2, 3])\n",
    "    b = np.zeros((1,5))              # Create an array of all zeros\n",
    "    c = np.ones((1,5))               # Create an array of all ones\n",
    "    d = np.full((1,5), 7)            # Create an array filled with value 7\n",
    "    e = np.random.random((1,4))      # Create an array filled with random values\n",
    "    f = np.eye(3)                    # Create a 3x3 identity matrix (2D array)\n",
    "    g = np.ones((3,3,3))             # 3-Dimensional array\n",
    "\n",
    "As the name suggests, an n-dimensional array can be generalised to multiple dimensions:\n",
    "\n",
    "    A=np.array([ [1,2], [3,4] ])     # Create a 2-D array (Matrix)\n",
    "    print(A[0,1])                    # return the element on first column, second row (0,1)=2\n",
    "                                     # array indexing works as above\n",
    "\n",
    "We can reshape a vector (for example, ```v=[v1,v2,…,vN]```) to a matrix of ```N1 x N2``` dimensions (where ```N1xN2 = N```). This is particularly useful for plotting images.  As an example using numpy’s reshape method:\n",
    "\n",
    "    A = np.array([1,2,3,4,5,6])  # a 1D array \n",
    "    B = np.reshape( A, [2,3] ) # reshape as a 2D array with 2 rows and 3 columns\n",
    "    print(B)\n",
    " \n",
    "**Task 1:**\n",
    "Go through the examples above, pasting the code given in the empty cell below and verifying the results. \n",
    "Make sure you understand what this basic code does. You can find some NumPy documentation <a href=\"http://docs.scipy.org/doc/numpy/reference/generated/numpy.ndarray.html\">here</a>."
   ]
  },
  {
   "cell_type": "code",
   "execution_count": 2,
   "metadata": {},
   "outputs": [],
   "source": [
    "#no model answer; just paste"
   ]
  },
  {
   "cell_type": "markdown",
   "metadata": {},
   "source": [
    "**Task 2:**\n",
    "In the empty cell below, create an np array called ```L``` consisting of 15 random elements.\n"
   ]
  },
  {
   "cell_type": "code",
   "execution_count": 3,
   "metadata": {},
   "outputs": [
    {
     "name": "stdout",
     "output_type": "stream",
     "text": [
      "[0.60816685 0.45143229 0.21333909 0.33705627 0.63101508 0.32899105\n",
      " 0.82113069 0.69144661 0.86154812 0.31342599 0.28646063 0.38160375\n",
      " 0.90995316 0.45039315 0.07801558]\n"
     ]
    }
   ],
   "source": [
    "# model code here\n",
    "L=np.random.random(15)\n",
    "print(L)\n"
   ]
  },
  {
   "cell_type": "markdown",
   "metadata": {},
   "source": [
    "**Task 3:**\n",
    "Reshape the array ```L``` to a matrix ```A``` that has 5 rows and 3 columns. Print the matrix to verify the result.\n"
   ]
  },
  {
   "cell_type": "code",
   "execution_count": 4,
   "metadata": {},
   "outputs": [
    {
     "name": "stdout",
     "output_type": "stream",
     "text": [
      "[[0.60816685 0.45143229 0.21333909]\n",
      " [0.33705627 0.63101508 0.32899105]\n",
      " [0.82113069 0.69144661 0.86154812]\n",
      " [0.31342599 0.28646063 0.38160375]\n",
      " [0.90995316 0.45039315 0.07801558]]\n"
     ]
    }
   ],
   "source": [
    "# model code here\n",
    "A=L.reshape(5,3)\n",
    "print(A)\n"
   ]
  },
  {
   "cell_type": "markdown",
   "metadata": {},
   "source": [
    "**Task 4:**\n",
    "Reshape matrix ```A``` to a matrix ```B``` that has 3 rows and 5 columns. Then, print the elements in row 0 and 1 only.\n"
   ]
  },
  {
   "cell_type": "code",
   "execution_count": 5,
   "metadata": {},
   "outputs": [
    {
     "name": "stdout",
     "output_type": "stream",
     "text": [
      "[[0.60816685 0.45143229 0.21333909 0.33705627 0.63101508]\n",
      " [0.32899105 0.82113069 0.69144661 0.86154812 0.31342599]\n",
      " [0.28646063 0.38160375 0.90995316 0.45039315 0.07801558]]\n",
      "[[0.60816685 0.45143229 0.21333909 0.33705627 0.63101508]\n",
      " [0.32899105 0.82113069 0.69144661 0.86154812 0.31342599]]\n"
     ]
    }
   ],
   "source": [
    "# model code here\n",
    "B=A.reshape(3,5)\n",
    "print(B)\n",
    "print(B[0:2,:])\n"
   ]
  },
  {
   "cell_type": "markdown",
   "metadata": {},
   "source": [
    "**Task: 5**\n",
    "Print all elements of ```B``` that are in row 0 and 2 <b>and</b> column 1.\n"
   ]
  },
  {
   "cell_type": "code",
   "execution_count": 6,
   "metadata": {},
   "outputs": [
    {
     "name": "stdout",
     "output_type": "stream",
     "text": [
      "[0.45143229 0.38160375]\n"
     ]
    }
   ],
   "source": [
    "# model code here\n",
    "print(B[ [0,2], 1])"
   ]
  },
  {
   "cell_type": "markdown",
   "metadata": {},
   "source": [
    "**Task 6:**\n",
    "Print all elements of ```A``` that are in the last row (see the ```[-1]``` notation above) and second to last column.\n"
   ]
  },
  {
   "cell_type": "code",
   "execution_count": 7,
   "metadata": {},
   "outputs": [
    {
     "name": "stdout",
     "output_type": "stream",
     "text": [
      "[0.45039315]\n"
     ]
    }
   ],
   "source": [
    "# model code here\n",
    "print(B[ [-1], -2])"
   ]
  },
  {
   "cell_type": "markdown",
   "metadata": {},
   "source": [
    "**Task 7:**\n",
    "Given the array ```Y``` below, find all indices in the array that are equal to the value 1. Use the NumPy function where to do that. Your final output should look like this: ```[1, 3, 4, 7]```.\n",
    "You can find some useful documentation to help you with this <a href=\"https://docs.scipy.org/doc/numpy-1.13.0/reference/generated/numpy.where.html\">here</a>.\n"
   ]
  },
  {
   "cell_type": "code",
   "execution_count": 8,
   "metadata": {},
   "outputs": [
    {
     "data": {
      "text/plain": [
       "(array([1, 3, 4, 7]),)"
      ]
     },
     "execution_count": 8,
     "metadata": {},
     "output_type": "execute_result"
    }
   ],
   "source": [
    "Y=np.array([0, 1, 0, 1,1, 2,0,1,0])\n",
    "# model code here\n",
    "\n",
    "np.where(Y==1)"
   ]
  },
  {
   "cell_type": "markdown",
   "metadata": {},
   "source": [
    "**Task 8:**\n",
    "Split the array ```Y``` defined above into three arrays by using the NumPy function ```array_split```. Print to verify.\n",
    "You can find some useful documentation to help you with this <a href=\"https://docs.scipy.org/doc/numpy-1.13.0/reference/generated/numpy.array_split.html\">here</a>.\n"
   ]
  },
  {
   "cell_type": "code",
   "execution_count": 9,
   "metadata": {},
   "outputs": [
    {
     "data": {
      "text/plain": [
       "[array([0, 1, 0]), array([1, 1, 2]), array([0, 1, 0])]"
      ]
     },
     "execution_count": 9,
     "metadata": {},
     "output_type": "execute_result"
    }
   ],
   "source": [
    "# model code here\n",
    "\n",
    "np.array_split(Y,3)"
   ]
  },
  {
   "cell_type": "markdown",
   "metadata": {},
   "source": [
    "**Task 9:**\n",
    "Given the array ```D``` defined below, find the indices that sort the array. Use the NumPy function ```argsort``` in order to do so. Subsequently, print the sorted array. \n",
    "The final output should look like this: ```[ 0 1 2 5 9 10 20]```.\n"
   ]
  },
  {
   "cell_type": "code",
   "execution_count": 10,
   "metadata": {},
   "outputs": [
    {
     "name": "stdout",
     "output_type": "stream",
     "text": [
      "[ 0  1  2  5  9 10 20]\n"
     ]
    }
   ],
   "source": [
    "D=np.array([10,5,2,9,20,0,1])\n",
    "#Model Code here\n",
    "idx=np.argsort(D)\n",
    "print(D[idx])\n"
   ]
  },
  {
   "cell_type": "markdown",
   "metadata": {},
   "source": [
    "**Task 10:**\n",
    "Create two random 2x2 matrices ```X``` and ```Y``` (2 rows, 2 columns). Use the NumPy function ```concatenate``` in order to concatenate them and create a matrix ```Z``` that has dimensions 4x2 and a matrix ```W``` that has dimensions 2x4.\n",
    "You can find some useful documentation to help you with this <a href=\"https://docs.scipy.org/doc/numpy-1.13.0/reference/generated/numpy.concatenate.html\">here</a>.\n"
   ]
  },
  {
   "cell_type": "code",
   "execution_count": 18,
   "metadata": {},
   "outputs": [
    {
     "name": "stdout",
     "output_type": "stream",
     "text": [
      "[[0.17399868 0.29432676]\n",
      " [0.39952182 0.42073809]\n",
      " [0.81481188 0.09431182]\n",
      " [0.14613777 0.08383872]]\n",
      "[[0.17399868 0.29432676 0.81481188 0.09431182]\n",
      " [0.39952182 0.42073809 0.14613777 0.08383872]]\n"
     ]
    }
   ],
   "source": [
    "# model code here\n",
    "X=np.random.random((2,2))\n",
    "Y=np.random.random((2,2))\n",
    "\n",
    "Z=np.concatenate((X,Y),axis=0)\n",
    "W=np.concatenate((X,Y),axis=1)\n",
    "print(Z)\n",
    "print(W)"
   ]
  },
  {
   "cell_type": "markdown",
   "metadata": {},
   "source": [
    "**Task 11:**\n",
    "Create the same matrices ```Z2=Z``` and ```W2=W``` (where ```Z``` and ```W``` are as defined above), but this time use the NumPy functions ```hstack``` and ```vstack```.\n",
    "\n",
    "You can find some useful documentation to help you with ```hstack``` <a href=\"https://docs.scipy.org/doc/numpy-1.13.0/reference/generated/numpy.hstack.html#numpy.hstack\">here</a> and ```vstack``` <a href=\"https://docs.scipy.org/doc/numpy-1.13.0/reference/generated/numpy.vstack.html#numpy.vstack\">here</a>.\n"
   ]
  },
  {
   "cell_type": "code",
   "execution_count": 19,
   "metadata": {},
   "outputs": [
    {
     "name": "stdout",
     "output_type": "stream",
     "text": [
      "[[0.17399868 0.29432676]\n",
      " [0.39952182 0.42073809]\n",
      " [0.81481188 0.09431182]\n",
      " [0.14613777 0.08383872]]\n",
      "[[0.17399868 0.29432676 0.81481188 0.09431182]\n",
      " [0.39952182 0.42073809 0.14613777 0.08383872]]\n"
     ]
    }
   ],
   "source": [
    "# model code here\n",
    "\n",
    "Z2 = np.vstack((X,Y))\n",
    "W2 = np.hstack((X,Y))\n",
    "print(Z2)\n",
    "print(W2)\n",
    "\n"
   ]
  }
 ],
 "metadata": {
  "kernelspec": {
   "display_name": "Python 3",
   "language": "python",
   "name": "python3"
  },
  "language_info": {
   "codemirror_mode": {
    "name": "ipython",
    "version": 3
   },
   "file_extension": ".py",
   "mimetype": "text/x-python",
   "name": "python",
   "nbconvert_exporter": "python",
   "pygments_lexer": "ipython3",
   "version": "3.7.6"
  }
 },
 "nbformat": 4,
 "nbformat_minor": 2
}
