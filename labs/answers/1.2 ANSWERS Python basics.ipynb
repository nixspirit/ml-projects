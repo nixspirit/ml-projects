{
 "cells": [
  {
   "cell_type": "markdown",
   "metadata": {},
   "source": [
    "# Python basics\n",
    "## Instructions:\n",
    "* Go through the notebook and complete the tasks.\n",
    "* Make sure you understand the examples given. If you need help, refer to the documentation link provided or go to the discussion forum. \n",
    "* Save your notebooks when you are done. \n",
    "\n",
    "The purpose of this exercise is to cover some fundamentals regarding programming in Python.\n",
    "\n",
    "## 1 Variables\n",
    "Python is an untyped language, and variables can be defined anywhere in the script. The variable type is implicit according to syntax. For example:\n",
    "\n"
   ]
  },
  {
   "cell_type": "code",
   "execution_count": 6,
   "metadata": {},
   "outputs": [],
   "source": [
    "my_string = \"Some characters\" # define a string (text)\n",
    "my_int = 1234                 # define an integer\n",
    "my_float = 3.14               # define a floating point number\n",
    "my_bool = True                # define a boolean (true or false value)"
   ]
  },
  {
   "cell_type": "markdown",
   "metadata": {},
   "source": [
    "\n",
    "**Task 1:**\n",
    "1.\tCopy the above code, paste it into the empty cell below and then add the following:\n",
    "~~~\n",
    "print( my_string, my_int, my_float, my_bool )   \n",
    "type(my_string)\n",
    "~~~\n",
    "2.\tExecute the cell and observe the output."
   ]
  },
  {
   "cell_type": "code",
   "execution_count": 7,
   "metadata": {},
   "outputs": [
    {
     "name": "stdout",
     "output_type": "stream",
     "text": [
      "Some characters 1234 3.14 True\n"
     ]
    },
    {
     "data": {
      "text/plain": [
       "str"
      ]
     },
     "execution_count": 7,
     "metadata": {},
     "output_type": "execute_result"
    }
   ],
   "source": [
    "# code here - model answers\n",
    "\n",
    "my_string = \"Some characters\" # define a string (text)\n",
    "my_int = 1234                 # define an integer\n",
    "my_float = 3.14               # define a floating point number\n",
    "my_bool = True                # define a boolean (true or false value)\n",
    "\n",
    "print( my_string, my_int, my_float, my_bool )  \n",
    "type(my_string)\n"
   ]
  },
  {
   "cell_type": "markdown",
   "metadata": {},
   "source": [
    "## 2 Loops\n",
    "Python does not use curly braces or other symbols for grouping. It uses purely indentation.\n",
    "You can use <b>&lt;tab&gt;</b> and <b>&lt;shift&gt; + &lt;tab&gt;</b> to change the indentation of a selected code block. \n",
    "Here is an example comparing the use of ```for``` in C++, Java, and Python. This is just a simple example, Python can do much more with loops.\n",
    "\n",
    "#### C++\n",
    "    for(int i=0; i<3; i++) {\n",
    "        std::cout << i << std::endl;\n",
    "    }\n",
    "    std::cout << \"end\" << std::endl;\n",
    "\n",
    "#### Java \n",
    "    for(int i=0; i<3; i++) {\n",
    "      System.out.println(i);\n",
    "    }\n",
    "    System.out.println(\"end\");\n",
    "\n",
    "#### Python\n",
    "    for i in range(0,3):\n",
    "        print i    # indented line is part of the for statement \n",
    "    print \"end\"   # not part of the for statement since same indent\n",
    "\n",
    "\n",
    "Using ```while```, we can write:\n",
    "\n",
    "~~~\n",
    "i=0\n",
    "while(i<3):\n",
    "    print i #indented line is part of the while statement\n",
    "    i+=1    #indented line is part of the while statement\n",
    "print \"end\" #not part of the while statement since same indent\n",
    "~~~\n"
   ]
  },
  {
   "cell_type": "markdown",
   "metadata": {},
   "source": [
    "## 3 Conditional statements\n",
    "Conditional statements in Python again rely on the indentation. For example:\n",
    "~~~\n",
    "a, b = 7, 6\n",
    "if a < b:\n",
    "    print( str(a) + \" is less than \" + str(b) )\n",
    "    print(\"*\");\n",
    "else:\n",
    "    print( str(a) + \" is greater than or equal to \" + str(b) )\n",
    "~~~\n",
    "\n",
    "**Task 2:**\n",
    "1.\tRun the code in the empty cell below to verify the result. Note that ```+``` is used for string concatenation. \n",
    "2.\tNoting that ```\"else if\"``` according to Python syntax is ```elif```, extend the code above to check if the numbers are equal, and then print a message on screen. \n"
   ]
  },
  {
   "cell_type": "code",
   "execution_count": 2,
   "metadata": {},
   "outputs": [],
   "source": [
    "# code here"
   ]
  },
  {
   "cell_type": "markdown",
   "metadata": {},
   "source": [
    "## 4 Structures\n",
    "### 4.1 Lists\n",
    "In Python, one-dimensional arrays are referred to as lists. They are defined with square brackets and comma-separated values like this:\n",
    "    \n",
    "    my_list = [ \"hello\", 2, 2, 2.5, False ]\n",
    "\n",
    "Notice how the list can contain a mixture of data types, and that the values do not have to be unique. It can also contain other lists:\n",
    "    \n",
    "    my_next_list = [ my_list, 4, [2, 1], False ]\n",
    "\n",
    "To access an item in a list, use the list name followed by square brackets with the item index inside. List elements are indexed from 0. For example, the following will output the integer 4.\n",
    "    \n",
    "    print( my_next_list[1] )\n",
    "\n",
    "We can check the length of the list by using the following:\n",
    "    \n",
    "    len( my_list )\n",
    "\n",
    "And we can append a new item to a list by using the following:\n",
    "    \n",
    "    my_list.append( \"A new list item\" )\n",
    "\n",
    "**Task 3:**\n",
    "In this task, you will write a loop in Python that iterates and prints the type of every element of the list ```my_list``` defined above in the cell below.\n",
    "1.\tFirst do it by using range as in 2.\n",
    "2.\tNext, do it without using range (hint: look at the for loops here).\n"
   ]
  },
  {
   "cell_type": "code",
   "execution_count": 3,
   "metadata": {},
   "outputs": [
    {
     "name": "stdout",
     "output_type": "stream",
     "text": [
      "hello\n",
      "2\n",
      "2\n",
      "2.5\n",
      "False\n",
      "hello\n",
      "2\n",
      "2\n",
      "2.5\n",
      "False\n"
     ]
    }
   ],
   "source": [
    "#Code here\n",
    "#model answer\n",
    "my_list = [ \"hello\", 2, 2, 2.5, False ]\n",
    "for i in range(0,len(my_list)):\n",
    "    print(my_list[i])\n",
    "    \n",
    "for i in my_list:\n",
    "    print(i)\t\n"
   ]
  },
  {
   "cell_type": "markdown",
   "metadata": {},
   "source": [
    "### 4.2 Dictionaries\n",
    "\n",
    "Dictionaries in Python (and other languages) are essentially key-value pairs, like associative arrays.\n",
    "A dictionary can be defined as:\n",
    "\n",
    "    my_dict = { \"key1\" : \"value1\", \"key2\" : \"value2\" , \"key3\" : \"value3\" }\n",
    "\n",
    "The values in a dictionary needn't be unique, and they can contain arbitrary data types. The keys must be unique and of an immutable data type, such as integer or string.\n",
    "To access the values in a dictionary, you reference the dictionary name followed by the name of the key in square brackets. For example:\n",
    "\n",
    "    value_1 = my_dict[\"key1\"]\n",
    "\n",
    "**Task 4:**\n",
    "In this task, you will create a dictionary containing the values in the following list, with the keys being the order in which the items appear in the list (starting from zero):\n",
    "\n",
    "    my_list = [ \"hello\", 2, 2, 2.5, False ]\n",
    "\n",
    "You can do this in the cell provided below. Make sure you firstly initialise the dictionary by using ```my_dict={}``` before adding elements.\n"
   ]
  },
  {
   "cell_type": "code",
   "execution_count": 4,
   "metadata": {},
   "outputs": [
    {
     "data": {
      "text/plain": [
       "{0: 'hello', 1: 2, 2: 2, 3: 2.5, 4: False}"
      ]
     },
     "execution_count": 4,
     "metadata": {},
     "output_type": "execute_result"
    }
   ],
   "source": [
    "# code here - model answer\n",
    "my_dict={}\n",
    "for i in range(0,len(my_list)):\n",
    "    my_dict[i]=my_list[i]\n",
    "my_dict\n"
   ]
  },
  {
   "cell_type": "markdown",
   "metadata": {},
   "source": [
    "### 4.3 Functions\n",
    "You can define functions in Python like this:\n",
    "\n",
    "    def addNumbers( num1, num2 ):\n",
    "        sum = num1 + num2\n",
    "        return sum\n",
    "\n",
    "\n",
    "Note that the ```addNumbers``` function accepts 2 arguments (the inputs), and returns a single output. You would call this function elsewhere in the program like this:\n",
    "\n",
    "    result = addNumbers( 3, 5 )\n",
    "\n",
    "Notice how the output is being assigned to a variable here.\n",
    "\n",
    "**Task 5:**\n",
    "1.\tIn the empty cell below, define a function ```my_list_rev``` that accepts a list as an input, and returns the same list but in the reverse order (Hint: use the ```reverse()``` function). \n",
    "2.\tNow, in the same cell, call the function, assign the output to a variable and verify the result by printing on screen. \n"
   ]
  },
  {
   "cell_type": "code",
   "execution_count": 5,
   "metadata": {},
   "outputs": [
    {
     "name": "stdout",
     "output_type": "stream",
     "text": [
      "[3, 2, 1]\n"
     ]
    }
   ],
   "source": [
    "# code here - model answer\n",
    "\n",
    "def my_list_rev(inpt):\n",
    "    inpt.reverse();\n",
    "    return inpt\n",
    "\n",
    "L=[1,2,3]\n",
    "\n",
    "LR=my_list_rev(L);\n",
    "print(LR)\n"
   ]
  }
 ],
 "metadata": {
  "celltoolbar": "Raw Cell Format",
  "kernelspec": {
   "display_name": "Python 3",
   "language": "python",
   "name": "python3"
  },
  "language_info": {
   "codemirror_mode": {
    "name": "ipython",
    "version": 3
   },
   "file_extension": ".py",
   "mimetype": "text/x-python",
   "name": "python",
   "nbconvert_exporter": "python",
   "pygments_lexer": "ipython3",
   "version": "3.7.6"
  }
 },
 "nbformat": 4,
 "nbformat_minor": 2
}
